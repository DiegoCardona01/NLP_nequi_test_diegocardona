{
 "cells": [
  {
   "cell_type": "markdown",
   "id": "e93b2191",
   "metadata": {},
   "source": [
    "## Predicciones Modelo de Pytorch"
   ]
  },
  {
   "cell_type": "code",
   "execution_count": 1,
   "id": "96899ff6",
   "metadata": {},
   "outputs": [],
   "source": [
    "import torch"
   ]
  },
  {
   "cell_type": "code",
   "execution_count": 2,
   "id": "dc245813",
   "metadata": {},
   "outputs": [],
   "source": [
    "# carga de pesos\n",
    "checkpoint = torch.load(\"model_checkpoint.pth\")"
   ]
  },
  {
   "cell_type": "code",
   "execution_count": 3,
   "id": "07487a4c",
   "metadata": {},
   "outputs": [
    {
     "name": "stderr",
     "output_type": "stream",
     "text": [
      "/Users/diegocardona/repositorios/NLP_nequi_test_diegocardona/.venv/lib/python3.11/site-packages/tqdm/auto.py:21: TqdmWarning: IProgress not found. Please update jupyter and ipywidgets. See https://ipywidgets.readthedocs.io/en/stable/user_install.html\n",
      "  from .autonotebook import tqdm as notebook_tqdm\n"
     ]
    }
   ],
   "source": [
    "# carga del vocabulario\n",
    "\n",
    "vocab = torch.load(\"vocab.pt\")"
   ]
  },
  {
   "cell_type": "code",
   "execution_count": 4,
   "id": "75fabd50",
   "metadata": {},
   "outputs": [],
   "source": [
    "from torchtext.data.utils import get_tokenizer\n",
    "\n",
    "tokenizador = get_tokenizer(\"basic_english\")\n",
    "\n",
    "texto_pipeline = lambda x: vocab(tokenizador(x))"
   ]
  },
  {
   "cell_type": "code",
   "execution_count": 9,
   "id": "f9f7e63b",
   "metadata": {},
   "outputs": [],
   "source": [
    "num_class = 5\n",
    "vocab_size = 10000\n",
    "embedding_size = 20\n",
    "TASA_APRENDIZAJE = 0.15"
   ]
  },
  {
   "cell_type": "code",
   "execution_count": 10,
   "id": "99b8f36a",
   "metadata": {},
   "outputs": [],
   "source": [
    "from torch import nn\n",
    "import torch.nn.functional as F\n",
    "\n",
    "class ModeloClasificacionTexto(nn.Module):\n",
    "    def __init__(self, vocab_size, embed_dim, num_class):\n",
    "        super(ModeloClasificacionTexto, self).__init__()\n",
    "        self.embedding = nn.Embedding(vocab_size, embed_dim, padding_idx=0)\n",
    "        self.bn1 = nn.BatchNorm1d(embed_dim)\n",
    "        self.fc = nn.Linear(embed_dim, num_class)\n",
    "\n",
    "    def forward(self, text_batch):\n",
    "        embedded = self.embedding(text_batch)  # (batch_size, seq_len, embed_dim)\n",
    "        # promedio por secuencia (ignorando padding opcional)\n",
    "        embedded = embedded.mean(dim=1)  # (batch_size, embed_dim)\n",
    "        embedded_norm = self.bn1(embedded)\n",
    "        activated = F.relu(embedded_norm)\n",
    "        return self.fc(activated)"
   ]
  },
  {
   "cell_type": "code",
   "execution_count": 11,
   "id": "ffa4cb5c",
   "metadata": {},
   "outputs": [],
   "source": [
    "model = ModeloClasificacionTexto(vocab_size=vocab_size, embed_dim=embedding_size, num_class=num_class)"
   ]
  },
  {
   "cell_type": "code",
   "execution_count": 12,
   "id": "616e1738",
   "metadata": {},
   "outputs": [
    {
     "data": {
      "text/plain": [
       "<All keys matched successfully>"
      ]
     },
     "execution_count": 12,
     "metadata": {},
     "output_type": "execute_result"
    }
   ],
   "source": [
    "optimizer = torch.optim.Adam(model.parameters(), lr=TASA_APRENDIZAJE)\n",
    "\n",
    "model.load_state_dict(checkpoint[\"model_state_dict\"])"
   ]
  },
  {
   "cell_type": "code",
   "execution_count": 13,
   "id": "7ea24dec",
   "metadata": {},
   "outputs": [],
   "source": [
    "import torch._dynamo\n",
    "torch._dynamo.config.suppress_errors = True"
   ]
  },
  {
   "cell_type": "code",
   "execution_count": 14,
   "id": "1d42b545",
   "metadata": {},
   "outputs": [],
   "source": [
    "category_mapping = {\n",
    "    0: 'Credit Reporting',\n",
    "    1: 'Debt Collection',\n",
    "    2: 'Loans',\n",
    "    3: 'Credit Card Services',\n",
    "    4: 'Bank Accounts and Services'\n",
    "}"
   ]
  },
  {
   "cell_type": "code",
   "execution_count": 15,
   "id": "d261d004",
   "metadata": {},
   "outputs": [],
   "source": [
    "ejemplo_inferencia = \"I have a problem with my credit report\""
   ]
  },
  {
   "cell_type": "code",
   "execution_count": 30,
   "id": "20872ff7",
   "metadata": {},
   "outputs": [],
   "source": [
    "def predict(text, texto_pipeline):\n",
    "  model.eval()\n",
    "  with torch.no_grad():\n",
    "    text_ids = texto_pipeline(text)\n",
    "    text_tensor = torch.tensor([text_ids], dtype=torch.long)\n",
    "    text_tensor = text_tensor.to(next(model.parameters()).device)\n",
    "    # opt_mod = torch.compile(model, mode=\"reduce-overhead\") # aumenta el uso de memoria pero optimiza la inferencia, para modelos grandes max-autotune\n",
    "    # output = opt_mod(text, torch.tensor([0]))\n",
    "    output = model(text_tensor)\n",
    "  return output.argmax(1).item()\n",
    "  # return output"
   ]
  },
  {
   "cell_type": "code",
   "execution_count": 24,
   "id": "e49fe349",
   "metadata": {},
   "outputs": [],
   "source": [
    "model_cpu = model.to(\"cpu\")"
   ]
  },
  {
   "cell_type": "code",
   "execution_count": 25,
   "id": "5853e7e9",
   "metadata": {},
   "outputs": [
    {
     "data": {
      "text/plain": [
       "'Loans'"
      ]
     },
     "execution_count": 25,
     "metadata": {},
     "output_type": "execute_result"
    }
   ],
   "source": [
    "category_mapping[predict(ejemplo_inferencia, texto_pipeline)]"
   ]
  },
  {
   "cell_type": "code",
   "execution_count": 29,
   "id": "41889088",
   "metadata": {},
   "outputs": [
    {
     "name": "stdout",
     "output_type": "stream",
     "text": [
      "tensor([[-29.3394,  -7.8461,  12.9861, -13.4300,  -8.4167]])\n"
     ]
    }
   ],
   "source": [
    "print(predict(ejemplo_inferencia, texto_pipeline))"
   ]
  },
  {
   "cell_type": "code",
   "execution_count": null,
   "id": "fdd62fb3",
   "metadata": {},
   "outputs": [],
   "source": []
  }
 ],
 "metadata": {
  "kernelspec": {
   "display_name": ".venv",
   "language": "python",
   "name": "python3"
  },
  "language_info": {
   "codemirror_mode": {
    "name": "ipython",
    "version": 3
   },
   "file_extension": ".py",
   "mimetype": "text/x-python",
   "name": "python",
   "nbconvert_exporter": "python",
   "pygments_lexer": "ipython3",
   "version": "3.11.12"
  }
 },
 "nbformat": 4,
 "nbformat_minor": 5
}
