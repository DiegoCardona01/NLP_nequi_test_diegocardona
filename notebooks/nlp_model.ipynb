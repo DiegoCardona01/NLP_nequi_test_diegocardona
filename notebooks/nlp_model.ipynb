{
 "cells": [
  {
   "cell_type": "code",
   "execution_count": 1,
   "metadata": {},
   "outputs": [],
   "source": [
    "import pandas as pd"
   ]
  },
  {
   "cell_type": "code",
   "execution_count": 2,
   "metadata": {},
   "outputs": [],
   "source": [
    "path_data = '../dataset/complaints_v1.csv'\n",
    "\n",
    "df = pd.read_csv(path_data, index_col=0)"
   ]
  },
  {
   "cell_type": "code",
   "execution_count": 3,
   "metadata": {},
   "outputs": [],
   "source": [
    "df = df.reset_index(drop=True)"
   ]
  },
  {
   "cell_type": "code",
   "execution_count": 4,
   "metadata": {},
   "outputs": [
    {
     "data": {
      "text/html": [
       "<div>\n",
       "<style scoped>\n",
       "    .dataframe tbody tr th:only-of-type {\n",
       "        vertical-align: middle;\n",
       "    }\n",
       "\n",
       "    .dataframe tbody tr th {\n",
       "        vertical-align: top;\n",
       "    }\n",
       "\n",
       "    .dataframe thead th {\n",
       "        text-align: right;\n",
       "    }\n",
       "</style>\n",
       "<table border=\"1\" class=\"dataframe\">\n",
       "  <thead>\n",
       "    <tr style=\"text-align: right;\">\n",
       "      <th></th>\n",
       "      <th>product_5</th>\n",
       "      <th>narrative</th>\n",
       "      <th>Product</th>\n",
       "      <th>Date received</th>\n",
       "      <th>Sub-product</th>\n",
       "      <th>Issue</th>\n",
       "      <th>Sub-issue</th>\n",
       "      <th>Company</th>\n",
       "      <th>State</th>\n",
       "      <th>Timely response?</th>\n",
       "    </tr>\n",
       "  </thead>\n",
       "  <tbody>\n",
       "    <tr>\n",
       "      <th>0</th>\n",
       "      <td>Credit Reporting</td>\n",
       "      <td>Dear Possible Financial Inc you guyss aree rep...</td>\n",
       "      <td>Credit reporting or other personal consumer re...</td>\n",
       "      <td>2024-07-27</td>\n",
       "      <td>Credit reporting</td>\n",
       "      <td>Incorrect information on your report</td>\n",
       "      <td>Account information incorrect</td>\n",
       "      <td>Possible Financial Inc</td>\n",
       "      <td>MI</td>\n",
       "      <td>Yes</td>\n",
       "    </tr>\n",
       "    <tr>\n",
       "      <th>1</th>\n",
       "      <td>Debt Collection</td>\n",
       "      <td>XXXX XXXX XXXX ( debt collector ), sent my boy...</td>\n",
       "      <td>Debt collection</td>\n",
       "      <td>2024-07-27</td>\n",
       "      <td>I do not know</td>\n",
       "      <td>Threatened to contact someone or share informa...</td>\n",
       "      <td>Talked to a third-party about your debt</td>\n",
       "      <td>BlueChip Financial</td>\n",
       "      <td>TX</td>\n",
       "      <td>Yes</td>\n",
       "    </tr>\n",
       "    <tr>\n",
       "      <th>2</th>\n",
       "      <td>Credit Reporting</td>\n",
       "      <td>I been receiving alerts my information was fou...</td>\n",
       "      <td>Credit reporting or other personal consumer re...</td>\n",
       "      <td>2024-07-23</td>\n",
       "      <td>Credit reporting</td>\n",
       "      <td>Improper use of your report</td>\n",
       "      <td>Credit inquiries on your report that you don't...</td>\n",
       "      <td>FC HoldCo LLC</td>\n",
       "      <td>SC</td>\n",
       "      <td>Yes</td>\n",
       "    </tr>\n",
       "    <tr>\n",
       "      <th>3</th>\n",
       "      <td>Credit Reporting</td>\n",
       "      <td>Subject : Dispute of Inaccurate Information on...</td>\n",
       "      <td>Credit reporting or other personal consumer re...</td>\n",
       "      <td>2024-07-27</td>\n",
       "      <td>Credit reporting</td>\n",
       "      <td>Improper use of your report</td>\n",
       "      <td>Reporting company used your report improperly</td>\n",
       "      <td>CORELOGIC INC</td>\n",
       "      <td>GA</td>\n",
       "      <td>Yes</td>\n",
       "    </tr>\n",
       "    <tr>\n",
       "      <th>4</th>\n",
       "      <td>Loans</td>\n",
       "      <td>They allowed me to use the account for about a...</td>\n",
       "      <td>Payday loan, title loan, personal loan, or adv...</td>\n",
       "      <td>2024-07-26</td>\n",
       "      <td>Payday loan</td>\n",
       "      <td>Received a loan you didn't apply for</td>\n",
       "      <td>NaN</td>\n",
       "      <td>MoneyLion Inc.</td>\n",
       "      <td>PA</td>\n",
       "      <td>Yes</td>\n",
       "    </tr>\n",
       "  </tbody>\n",
       "</table>\n",
       "</div>"
      ],
      "text/plain": [
       "          product_5                                          narrative  \\\n",
       "0  Credit Reporting  Dear Possible Financial Inc you guyss aree rep...   \n",
       "1   Debt Collection  XXXX XXXX XXXX ( debt collector ), sent my boy...   \n",
       "2  Credit Reporting  I been receiving alerts my information was fou...   \n",
       "3  Credit Reporting  Subject : Dispute of Inaccurate Information on...   \n",
       "4             Loans  They allowed me to use the account for about a...   \n",
       "\n",
       "                                             Product Date received  \\\n",
       "0  Credit reporting or other personal consumer re...    2024-07-27   \n",
       "1                                    Debt collection    2024-07-27   \n",
       "2  Credit reporting or other personal consumer re...    2024-07-23   \n",
       "3  Credit reporting or other personal consumer re...    2024-07-27   \n",
       "4  Payday loan, title loan, personal loan, or adv...    2024-07-26   \n",
       "\n",
       "        Sub-product                                              Issue  \\\n",
       "0  Credit reporting               Incorrect information on your report   \n",
       "1     I do not know  Threatened to contact someone or share informa...   \n",
       "2  Credit reporting                        Improper use of your report   \n",
       "3  Credit reporting                        Improper use of your report   \n",
       "4       Payday loan               Received a loan you didn't apply for   \n",
       "\n",
       "                                           Sub-issue                 Company  \\\n",
       "0                      Account information incorrect  Possible Financial Inc   \n",
       "1            Talked to a third-party about your debt      BlueChip Financial   \n",
       "2  Credit inquiries on your report that you don't...           FC HoldCo LLC   \n",
       "3      Reporting company used your report improperly           CORELOGIC INC   \n",
       "4                                                NaN          MoneyLion Inc.   \n",
       "\n",
       "  State Timely response?  \n",
       "0    MI              Yes  \n",
       "1    TX              Yes  \n",
       "2    SC              Yes  \n",
       "3    GA              Yes  \n",
       "4    PA              Yes  "
      ]
     },
     "execution_count": 4,
     "metadata": {},
     "output_type": "execute_result"
    }
   ],
   "source": [
    "df.head()"
   ]
  },
  {
   "cell_type": "code",
   "execution_count": 5,
   "metadata": {},
   "outputs": [
    {
     "data": {
      "text/html": [
       "<div>\n",
       "<style scoped>\n",
       "    .dataframe tbody tr th:only-of-type {\n",
       "        vertical-align: middle;\n",
       "    }\n",
       "\n",
       "    .dataframe tbody tr th {\n",
       "        vertical-align: top;\n",
       "    }\n",
       "\n",
       "    .dataframe thead th {\n",
       "        text-align: right;\n",
       "    }\n",
       "</style>\n",
       "<table border=\"1\" class=\"dataframe\">\n",
       "  <thead>\n",
       "    <tr style=\"text-align: right;\">\n",
       "      <th></th>\n",
       "      <th>product_5</th>\n",
       "      <th>narrative</th>\n",
       "      <th>Product</th>\n",
       "      <th>Date received</th>\n",
       "      <th>Sub-product</th>\n",
       "      <th>Issue</th>\n",
       "      <th>Sub-issue</th>\n",
       "      <th>Company</th>\n",
       "      <th>State</th>\n",
       "      <th>Timely response?</th>\n",
       "    </tr>\n",
       "  </thead>\n",
       "  <tbody>\n",
       "    <tr>\n",
       "      <th>987231</th>\n",
       "      <td>Debt Collection</td>\n",
       "      <td>XXXX  CONTINUES TO PUBLISH THE FOLLOWING INFOR...</td>\n",
       "      <td>Debt collection</td>\n",
       "      <td>2018-07-21</td>\n",
       "      <td>I do not know</td>\n",
       "      <td>Attempts to collect debt not owed</td>\n",
       "      <td>Debt was result of identity theft</td>\n",
       "      <td>Bread Financial Holdings, Inc.</td>\n",
       "      <td>MI</td>\n",
       "      <td>Yes</td>\n",
       "    </tr>\n",
       "    <tr>\n",
       "      <th>79954</th>\n",
       "      <td>Credit Reporting</td>\n",
       "      <td>My credit reports are inaccurate. These inaccu...</td>\n",
       "      <td>Credit reporting or other personal consumer re...</td>\n",
       "      <td>2024-04-30</td>\n",
       "      <td>Credit reporting</td>\n",
       "      <td>Improper use of your report</td>\n",
       "      <td>Reporting company used your report improperly</td>\n",
       "      <td>EQUIFAX, INC.</td>\n",
       "      <td>NJ</td>\n",
       "      <td>Yes</td>\n",
       "    </tr>\n",
       "    <tr>\n",
       "      <th>567130</th>\n",
       "      <td>Credit Reporting</td>\n",
       "      <td>I had disputed an account that was open fraudu...</td>\n",
       "      <td>Credit reporting or other personal consumer re...</td>\n",
       "      <td>2023-09-01</td>\n",
       "      <td>Credit reporting</td>\n",
       "      <td>Problem with a company's investigation into an...</td>\n",
       "      <td>Their investigation did not fix an error on yo...</td>\n",
       "      <td>SYNCHRONY FINANCIAL</td>\n",
       "      <td>PR</td>\n",
       "      <td>Yes</td>\n",
       "    </tr>\n",
       "    <tr>\n",
       "      <th>500891</th>\n",
       "      <td>Credit Reporting</td>\n",
       "      <td>This is one of my NUMEROUS request that I have...</td>\n",
       "      <td>Credit reporting or other personal consumer re...</td>\n",
       "      <td>2023-09-07</td>\n",
       "      <td>Credit reporting</td>\n",
       "      <td>Incorrect information on your report</td>\n",
       "      <td>Information belongs to someone else</td>\n",
       "      <td>Experian Information Solutions Inc.</td>\n",
       "      <td>NJ</td>\n",
       "      <td>Yes</td>\n",
       "    </tr>\n",
       "    <tr>\n",
       "      <th>55399</th>\n",
       "      <td>Loans</td>\n",
       "      <td>I would like to request your assistance, as XX...</td>\n",
       "      <td>Mortgage</td>\n",
       "      <td>2024-06-01</td>\n",
       "      <td>Conventional home mortgage</td>\n",
       "      <td>Trouble during payment process</td>\n",
       "      <td>Escrow, taxes, or insurance</td>\n",
       "      <td>Fay Servicing, LLC</td>\n",
       "      <td>CA</td>\n",
       "      <td>Yes</td>\n",
       "    </tr>\n",
       "  </tbody>\n",
       "</table>\n",
       "</div>"
      ],
      "text/plain": [
       "               product_5                                          narrative  \\\n",
       "987231   Debt Collection  XXXX  CONTINUES TO PUBLISH THE FOLLOWING INFOR...   \n",
       "79954   Credit Reporting  My credit reports are inaccurate. These inaccu...   \n",
       "567130  Credit Reporting  I had disputed an account that was open fraudu...   \n",
       "500891  Credit Reporting  This is one of my NUMEROUS request that I have...   \n",
       "55399              Loans  I would like to request your assistance, as XX...   \n",
       "\n",
       "                                                  Product Date received  \\\n",
       "987231                                    Debt collection    2018-07-21   \n",
       "79954   Credit reporting or other personal consumer re...    2024-04-30   \n",
       "567130  Credit reporting or other personal consumer re...    2023-09-01   \n",
       "500891  Credit reporting or other personal consumer re...    2023-09-07   \n",
       "55399                                            Mortgage    2024-06-01   \n",
       "\n",
       "                       Sub-product  \\\n",
       "987231               I do not know   \n",
       "79954             Credit reporting   \n",
       "567130            Credit reporting   \n",
       "500891            Credit reporting   \n",
       "55399   Conventional home mortgage   \n",
       "\n",
       "                                                    Issue  \\\n",
       "987231                  Attempts to collect debt not owed   \n",
       "79954                         Improper use of your report   \n",
       "567130  Problem with a company's investigation into an...   \n",
       "500891               Incorrect information on your report   \n",
       "55399                      Trouble during payment process   \n",
       "\n",
       "                                                Sub-issue  \\\n",
       "987231                  Debt was result of identity theft   \n",
       "79954       Reporting company used your report improperly   \n",
       "567130  Their investigation did not fix an error on yo...   \n",
       "500891                Information belongs to someone else   \n",
       "55399                         Escrow, taxes, or insurance   \n",
       "\n",
       "                                    Company State Timely response?  \n",
       "987231       Bread Financial Holdings, Inc.    MI              Yes  \n",
       "79954                         EQUIFAX, INC.    NJ              Yes  \n",
       "567130                  SYNCHRONY FINANCIAL    PR              Yes  \n",
       "500891  Experian Information Solutions Inc.    NJ              Yes  \n",
       "55399                    Fay Servicing, LLC    CA              Yes  "
      ]
     },
     "execution_count": 5,
     "metadata": {},
     "output_type": "execute_result"
    }
   ],
   "source": [
    "df_sample = df.sample(frac=0.4, random_state=42)\n",
    "\n",
    "df_sample.head()"
   ]
  },
  {
   "cell_type": "code",
   "execution_count": 6,
   "metadata": {},
   "outputs": [
    {
     "name": "stdout",
     "output_type": "stream",
     "text": [
      "(400000, 10)\n"
     ]
    }
   ],
   "source": [
    "print(df_sample.shape)"
   ]
  },
  {
   "cell_type": "code",
   "execution_count": 7,
   "metadata": {},
   "outputs": [
    {
     "name": "stdout",
     "output_type": "stream",
     "text": [
      "product_5           object\n",
      "narrative           object\n",
      "Product             object\n",
      "Date received       object\n",
      "Sub-product         object\n",
      "Issue               object\n",
      "Sub-issue           object\n",
      "Company             object\n",
      "State               object\n",
      "Timely response?    object\n",
      "dtype: object\n"
     ]
    }
   ],
   "source": [
    "print(df_sample.dtypes)"
   ]
  },
  {
   "cell_type": "code",
   "execution_count": 8,
   "metadata": {},
   "outputs": [
    {
     "data": {
      "text/plain": [
       "product_5           False\n",
       "narrative           False\n",
       "Product             False\n",
       "Date received       False\n",
       "Sub-product          True\n",
       "Issue               False\n",
       "Sub-issue            True\n",
       "Company             False\n",
       "State                True\n",
       "Timely response?    False\n",
       "dtype: bool"
      ]
     },
     "execution_count": 8,
     "metadata": {},
     "output_type": "execute_result"
    }
   ],
   "source": [
    "(\n",
    "    df_sample\n",
    "    .isnull()\n",
    "    .any()\n",
    ")"
   ]
  },
  {
   "cell_type": "code",
   "execution_count": 9,
   "metadata": {},
   "outputs": [
    {
     "data": {
      "text/plain": [
       "product_5               0\n",
       "narrative               0\n",
       "Product                 0\n",
       "Date received           0\n",
       "Sub-product           486\n",
       "Issue                   0\n",
       "Sub-issue           26667\n",
       "Company                 0\n",
       "State                1307\n",
       "Timely response?        0\n",
       "dtype: int64"
      ]
     },
     "execution_count": 9,
     "metadata": {},
     "output_type": "execute_result"
    }
   ],
   "source": [
    "# conteo de nulos\n",
    "(\n",
    "    df_sample\n",
    "    .isnull()\n",
    "    .sum()\n",
    ")"
   ]
  },
  {
   "cell_type": "code",
   "execution_count": 10,
   "metadata": {},
   "outputs": [
    {
     "name": "stderr",
     "output_type": "stream",
     "text": [
      "\n",
      "Bad key mathtext.fallback_to_cm in file /home/diego/.config/matplotlib/stylelib/belle2_serif.mplstyle, line 27 ('mathtext.fallback_to_cm : True  # When True, use symbols from the Computer Modern')\n",
      "You probably need to get an updated matplotlibrc file from\n",
      "https://github.com/matplotlib/matplotlib/blob/v3.10.0/lib/matplotlib/mpl-data/matplotlibrc\n",
      "or from the matplotlib source distribution\n",
      "\n",
      "Bad key mathtext.fallback_to_cm in file /home/diego/.config/matplotlib/stylelib/belle2.mplstyle, line 36 ('mathtext.fallback_to_cm : True  # When True, use symbols from the Computer Modern')\n",
      "You probably need to get an updated matplotlibrc file from\n",
      "https://github.com/matplotlib/matplotlib/blob/v3.10.0/lib/matplotlib/mpl-data/matplotlibrc\n",
      "or from the matplotlib source distribution\n"
     ]
    },
    {
     "data": {
      "text/plain": [
       "<Axes: ylabel='count'>"
      ]
     },
     "execution_count": 10,
     "metadata": {},
     "output_type": "execute_result"
    },
    {
     "data": {
      "image/png": "[encoded data removed]",
      "text/plain": [
       "<Figure size 640x480 with 1 Axes>"
      ]
     },
     "metadata": {},
     "output_type": "display_data"
    }
   ],
   "source": [
    "# Loans, Credit Reporting, Bank Accounts and Services, Debt Collection, and Credit Card Services.\n",
    "# Préstamos, informes crediticios, cuentas y servicios bancarios, \n",
    "# cobranza de deudas y servicios de tarjetas de crédito.\n",
    "(\n",
    "    df_sample\n",
    "    .product_5\n",
    "    .value_counts()\n",
    "    .plot(kind='pie', autopct='%1.1f%%')\n",
    ")"
   ]
  },
  {
   "cell_type": "code",
   "execution_count": 11,
   "metadata": {},
   "outputs": [],
   "source": [
    "df_sample['Date received'] = pd.to_datetime(df_sample['Date received'])\n",
    "\n",
    "df_sample['Year'] = df_sample['Date received'].dt.year"
   ]
  },
  {
   "cell_type": "code",
   "execution_count": 12,
   "metadata": {},
   "outputs": [
    {
     "data": {
      "text/html": [
       "<div>\n",
       "<style scoped>\n",
       "    .dataframe tbody tr th:only-of-type {\n",
       "        vertical-align: middle;\n",
       "    }\n",
       "\n",
       "    .dataframe tbody tr th {\n",
       "        vertical-align: top;\n",
       "    }\n",
       "\n",
       "    .dataframe thead th {\n",
       "        text-align: right;\n",
       "    }\n",
       "</style>\n",
       "<table border=\"1\" class=\"dataframe\">\n",
       "  <thead>\n",
       "    <tr style=\"text-align: right;\">\n",
       "      <th></th>\n",
       "      <th>Year</th>\n",
       "      <th>product_5</th>\n",
       "      <th>Complaints</th>\n",
       "    </tr>\n",
       "  </thead>\n",
       "  <tbody>\n",
       "    <tr>\n",
       "      <th>0</th>\n",
       "      <td>2015</td>\n",
       "      <td>Bank Accounts and Services</td>\n",
       "      <td>26</td>\n",
       "    </tr>\n",
       "    <tr>\n",
       "      <th>1</th>\n",
       "      <td>2015</td>\n",
       "      <td>Credit Card Services</td>\n",
       "      <td>41</td>\n",
       "    </tr>\n",
       "    <tr>\n",
       "      <th>2</th>\n",
       "      <td>2015</td>\n",
       "      <td>Credit Reporting</td>\n",
       "      <td>51</td>\n",
       "    </tr>\n",
       "    <tr>\n",
       "      <th>3</th>\n",
       "      <td>2015</td>\n",
       "      <td>Debt Collection</td>\n",
       "      <td>105</td>\n",
       "    </tr>\n",
       "    <tr>\n",
       "      <th>4</th>\n",
       "      <td>2015</td>\n",
       "      <td>Loans</td>\n",
       "      <td>424</td>\n",
       "    </tr>\n",
       "  </tbody>\n",
       "</table>\n",
       "</div>"
      ],
      "text/plain": [
       "   Year                   product_5  Complaints\n",
       "0  2015  Bank Accounts and Services          26\n",
       "1  2015        Credit Card Services          41\n",
       "2  2015            Credit Reporting          51\n",
       "3  2015             Debt Collection         105\n",
       "4  2015                       Loans         424"
      ]
     },
     "execution_count": 12,
     "metadata": {},
     "output_type": "execute_result"
    }
   ],
   "source": [
    "df_grouped_year = (\n",
    "    df_sample\n",
    "    .groupby(['Year', 'product_5'])\n",
    "    .size()\n",
    "    .reset_index(name='Complaints')\n",
    ")\n",
    "\n",
    "df_grouped_year.head()"
   ]
  },
  {
   "cell_type": "code",
   "execution_count": 13,
   "metadata": {},
   "outputs": [
    {
     "data": {
      "image/png": "[encoded data removed]",
      "text/plain": [
       "<Figure size 1000x600 with 1 Axes>"
      ]
     },
     "metadata": {},
     "output_type": "display_data"
    }
   ],
   "source": [
    "import seaborn as sns\n",
    "import matplotlib.pyplot as plt\n",
    "\n",
    "plt.figure(figsize=(10, 6))\n",
    "\n",
    "sns.barplot(\n",
    "    data=df_grouped_year,\n",
    "    x='Year',\n",
    "    y='Complaints',\n",
    "    hue='product_5',  # Cada color será una categoría diferente\n",
    "    palette='Set2'    # Puedes cambiar la paleta de colores\n",
    ")\n",
    "\n",
    "# Títulos y etiquetas\n",
    "plt.title('Conteo de productos por año')\n",
    "plt.xlabel('Año')\n",
    "plt.ylabel('Número de casos')\n",
    "plt.legend(title='Producto')\n",
    "\n",
    "# Mostrar el gráfico\n",
    "plt.show()"
   ]
  },
  {
   "cell_type": "code",
   "execution_count": 14,
   "metadata": {},
   "outputs": [
    {
     "data": {
      "image/png": "[encoded data removed]",
      "text/plain": [
       "<Figure size 1000x600 with 1 Axes>"
      ]
     },
     "metadata": {},
     "output_type": "display_data"
    }
   ],
   "source": [
    "plt.figure(figsize=(10, 6))\n",
    "\n",
    "df_grouped_year_without_creditreporting = df_grouped_year[\n",
    "    df_grouped_year['product_5'] != 'Credit Reporting'\n",
    "]\n",
    "\n",
    "sns.barplot(\n",
    "    data=df_grouped_year_without_creditreporting,\n",
    "    x='Year',\n",
    "    y='Complaints',\n",
    "    hue='product_5',  # Cada color será una categoría diferente\n",
    "    palette='Set2'    # Puedes cambiar la paleta de colores\n",
    ")\n",
    "\n",
    "# Títulos y etiquetas\n",
    "plt.title('Conteo de productos por año')\n",
    "plt.xlabel('Año')\n",
    "plt.ylabel('Número de casos')\n",
    "plt.legend(title='Producto')\n",
    "\n",
    "# Mostrar el gráfico\n",
    "plt.show()"
   ]
  },
  {
   "cell_type": "code",
   "execution_count": 15,
   "metadata": {},
   "outputs": [
    {
     "name": "stdout",
     "output_type": "stream",
     "text": [
      "I do not recognize these inquiries and i've asked for them to be removed and the bureau haven't did as i asked. i am providing an identity report attached to this and i am requesting the inquiries to be removed. because they are inaccurate and are not mine. \n",
      "\n",
      "XXXX XXXX XXXX XXXX XXXX XXXX XXXX XXXX XXXX XXXX XXXX XXXX XXXX XXXX XXXX XXXX XXXX XXXX XXXX XXXX XXXX XXXX XXXX XXXX XXXX XXXX XXXX XXXX XXXX XXXX XXXX XXXX XXXX XXXX XXXX XXXX XXXX XXXX XXXX XXXX XXXX XXXX XXXX XXXX XXXX XXXX XXXX XXXX XXXX XXXX XXXX XXXX XXXX XXXX XXXX XXXX XXXX XXXX XXXX XXXX XXXX XXXX XXXX XXXX XXXX XXXX XXXX XXXX XXXX XXXX XXXX XXXX XXXX XXXX XXXX XXXX XXXX XXXX XXXX XXXX XXXX XXXX XXXX XXXX XXXX XXXX XXXX XXXX XXXX XXXX XXXX XXXX XXXX XXXX XXXX XXXX XXXX XXXX XXXX XXXX XXXX XXXX XXXX XXXX XXXX XXXX XXXX XXXX XXXX XXXX XXXX XXXX XXXX XXXX XXXX XXXX XXXX XXXX XXXX XXXX XXXX XXXX XXXX XXXX XXXX XXXX XXXX XXXX XXXX XXXX XXXX XXXX XXXX XXXX XXXX XXXX XXXX XXXX XXXX XXXX XXXX XXXX XXXX XXXX XXXX XXXX XXXX XXXX XXXX XXXX XXXX XXXX XXXX XXXX XXXX XXXX XXXX XXXX XXXX XXXX XXXX XXXX XXXX XXXX XXXX XXXX XXXX XXXX XXXX XXXX XXXX XXXX XXXX XXXX XXXX XXXX XXXX XXXX XXXX XXXX XXXX XXXX XXXX XXXX XXXX XXXX XXXX XXXX XXXX XXXX XXXX XXXX XXXX XXXX XXXX XXXX XXXX\n"
     ]
    }
   ],
   "source": [
    "import numpy as np\n",
    "\n",
    "print(df_sample.narrative.iloc[np.random.randint(0, df_sample.shape[0])])"
   ]
  },
  {
   "cell_type": "code",
   "execution_count": 16,
   "metadata": {},
   "outputs": [],
   "source": [
    "from sklearn.feature_extraction.text import TfidfVectorizer"
   ]
  },
  {
   "cell_type": "code",
   "execution_count": 17,
   "metadata": {},
   "outputs": [],
   "source": [
    "df_sample_v2 = df_sample.sample(frac=0.1, random_state=10)"
   ]
  },
  {
   "cell_type": "code",
   "execution_count": 18,
   "metadata": {},
   "outputs": [
    {
     "name": "stdout",
     "output_type": "stream",
     "text": [
      "(40000, 11)\n"
     ]
    }
   ],
   "source": [
    "print(df_sample_v2.shape)"
   ]
  },
  {
   "cell_type": "code",
   "execution_count": 19,
   "metadata": {},
   "outputs": [],
   "source": [
    "# Define the mapping\n",
    "category_mapping = {\n",
    "    'Credit Reporting': 0,\n",
    "    'Debt Collection': 1,\n",
    "    'Loans': 2,\n",
    "    'Credit Card Services': 3,\n",
    "    'Bank Accounts and Services': 4\n",
    "}\n",
    "\n",
    "# Recode the 'product_5' variable\n",
    "df_sample_v2['product_5'] = df_sample_v2['product_5'].map(category_mapping)"
   ]
  },
  {
   "cell_type": "code",
   "execution_count": 21,
   "metadata": {},
   "outputs": [
    {
     "name": "stdout",
     "output_type": "stream",
     "text": [
      "                                                narrative  \\\n",
      "633090  I am submitting this complaint to you to infor...   \n",
      "538011  I recently reviewed my credit report and notic...   \n",
      "44838   I spoke with the company in XXXX and was told ...   \n",
      "129795  When I reinvestigated my credit report, I real...   \n",
      "143810  I received a collection call from the company ...   \n",
      "\n",
      "                                        cleaned_narrative  \n",
      "633090  submitting complaint inform xxxx xxxxxxxx xxxx...  \n",
      "538011  recently reviewed credit report noticed many h...  \n",
      "44838   spoke company xxxx told reduce payment interes...  \n",
      "129795  reinvestigated credit report realized accounts...  \n",
      "143810  received collection call company xxxxxxxx xxxx...  \n"
     ]
    }
   ],
   "source": [
    "import re\n",
    "\n",
    "# Lista de stopwords en inglés (puedes agregar o quitar si quieres ajustar)\n",
    "ENGLISH_STOPWORDS = set([\n",
    "    'a', 'about', 'above', 'after', 'again', 'against', 'all', 'am', 'an',\n",
    "    'and', 'any', 'are', 'as', 'at', 'be', 'because', 'been', 'before',\n",
    "    'being', 'below', 'between', 'both', 'but', 'by', 'could', 'did', 'do',\n",
    "    'does', 'doing', 'down', 'during', 'each', 'few', 'for', 'from', 'further',\n",
    "    'had', 'has', 'have', 'having', 'he', 'her', 'here', 'hers', 'herself',\n",
    "    'him', 'himself', 'his', 'how', 'i', 'if', 'in', 'into', 'is', 'it',\n",
    "    'its', 'itself', 'just', 'me', 'more', 'most', 'my', 'myself', 'no', 'nor',\n",
    "    'not', 'now', 'of', 'off', 'on', 'once', 'only', 'or', 'other', 'our',\n",
    "    'ours', 'ourselves', 'out', 'over', 'own', 'same', 'she', 'should', 'so',\n",
    "    'some', 'such', 'than', 'that', 'the', 'their', 'theirs', 'them',\n",
    "    'themselves', 'then', 'there', 'these', 'they', 'this', 'those', 'through',\n",
    "    'to', 'too', 'under', 'until', 'up', 'very', 'was', 'we', 'were', 'what',\n",
    "    'when', 'where', 'which', 'while', 'who', 'whom', 'why', 'with', 'would',\n",
    "    'you', 'your', 'yours', 'yourself', 'yourselves'\n",
    "])\n",
    "\n",
    "# Expresiones regulares para limpieza de texto\n",
    "REPLACE_BY_SPACE_RE = re.compile('[/(){}\\[\\]\\|@,;]')\n",
    "BAD_SYMBOLS_RE = re.compile('[^0-9a-z #+_]')  # Mantener solo caracteres válidos\n",
    "\n",
    "# Función para limpiar el texto\n",
    "def clean_text(text):\n",
    "    \"\"\"\n",
    "    text: string\n",
    "    return: string limpio y preprocesado\n",
    "    \"\"\"\n",
    "    text = str(text).lower()                               # Convertir a minúsculas\n",
    "    text = REPLACE_BY_SPACE_RE.sub(' ', text)              # Reemplazar ciertos símbolos por espacio\n",
    "    text = BAD_SYMBOLS_RE.sub('', text)                    # Eliminar símbolos no deseados\n",
    "    text = ' '.join(word for word in text.split() if word not in ENGLISH_STOPWORDS)  # Eliminar stopwords\n",
    "    return text\n",
    "\n",
    "# Aplicar limpieza a la columna 'narrative'\n",
    "df_sample_v2['cleaned_narrative'] = df_sample_v2['narrative'].apply(clean_text)\n",
    "\n",
    "# Verificar el resultado\n",
    "print(df_sample_v2[['narrative', 'cleaned_narrative']].head())\n"
   ]
  },
  {
   "cell_type": "code",
   "execution_count": 22,
   "metadata": {},
   "outputs": [
    {
     "name": "stdout",
     "output_type": "stream",
     "text": [
      "(40000, 500)\n"
     ]
    }
   ],
   "source": [
    "tfidf = TfidfVectorizer(\n",
    "    max_features=500,\n",
    "    ngram_range=(1, 2)\n",
    ")\n",
    "\n",
    "X_tdfidf = tfidf.fit_transform(df_sample_v2['narrative'])\n",
    "\n",
    "print(X_tdfidf.shape)"
   ]
  },
  {
   "cell_type": "code",
   "execution_count": 23,
   "metadata": {},
   "outputs": [
    {
     "name": "stdout",
     "output_type": "stream",
     "text": [
      "(32000, 500) (8000, 500) (32000,) (8000,)\n"
     ]
    }
   ],
   "source": [
    "from sklearn.model_selection import train_test_split\n",
    "\n",
    "y = df_sample_v2['product_5']\n",
    "\n",
    "X_train, X_test, y_train, y_test = train_test_split(X_tdfidf, y, test_size=0.2, random_state=42)\n",
    "\n",
    "print(X_train.shape, X_test.shape, y_train.shape, y_test.shape)"
   ]
  },
  {
   "cell_type": "code",
   "execution_count": 24,
   "metadata": {},
   "outputs": [],
   "source": [
    "# classifier\n",
    "\n",
    "def plot_confusion_matrix(cm, classes, title, cmap=plt.cm.Blues):\n",
    "    plt.figure(figsize=(8,6))\n",
    "    sns.heatmap(cm, annot=True, fmt='d', cmap=cmap, xticklabels=classes, yticklabels=classes)\n",
    "    plt.ylabel('True Label')\n",
    "    plt.xlabel('Predicted Label')\n",
    "    plt.title(title)\n",
    "    plt.tight_layout()\n",
    "    plt.show()"
   ]
  },
  {
   "cell_type": "code",
   "execution_count": 25,
   "metadata": {},
   "outputs": [
    {
     "name": "stdout",
     "output_type": "stream",
     "text": [
      "[LightGBM] [Info] Auto-choosing col-wise multi-threading, the overhead of testing was 0.096658 seconds.\n",
      "You can set `force_col_wise=true` to remove the overhead.\n",
      "[LightGBM] [Info] Total Bins 127457\n",
      "[LightGBM] [Info] Number of data points in the train set: 32000, number of used features: 500\n",
      "[LightGBM] [Info] Start training from score -0.402906\n",
      "[LightGBM] [Info] Start training from score -2.301336\n",
      "[LightGBM] [Info] Start training from score -2.491554\n",
      "[LightGBM] [Info] Start training from score -2.602424\n",
      "[LightGBM] [Info] Start training from score -2.595280\n",
      "Training time for lightgbm: 27.6475 seconds\n",
      "Prediction time for lightgbm: 0.1135 seconds\n",
      "lightgbm Accuracy: 0.8742\n",
      "Classification Report for lightgbm:\n",
      "\n",
      "              precision    recall  f1-score   support\n",
      "\n",
      "           0       0.92      0.95      0.94      5453\n",
      "           1       0.71      0.63      0.66       753\n",
      "           2       0.79      0.74      0.76       634\n",
      "           3       0.72      0.67      0.69       561\n",
      "           4       0.81      0.80      0.81       599\n",
      "\n",
      "    accuracy                           0.87      8000\n",
      "   macro avg       0.79      0.76      0.77      8000\n",
      "weighted avg       0.87      0.87      0.87      8000\n",
      "\n"
     ]
    },
    {
     "name": "stderr",
     "output_type": "stream",
     "text": [
      "/home/diego/miniconda3/envs/py312/lib/python3.12/site-packages/sklearn/utils/validation.py:2739: UserWarning: X does not have valid feature names, but LGBMClassifier was fitted with feature names\n",
      "  warnings.warn(\n"
     ]
    },
    {
     "data": {
      "image/png": "[encoded data removed]",
      "text/plain": [
       "<Figure size 800x600 with 2 Axes>"
      ]
     },
     "metadata": {},
     "output_type": "display_data"
    }
   ],
   "source": [
    "import time\n",
    "from sklearn.metrics import accuracy_score, classification_report, confusion_matrix\n",
    "from lightgbm import LGBMClassifier\n",
    "\n",
    "clf = LGBMClassifier(random_state=42)\n",
    "\n",
    "start_time = time.time()\n",
    "    \n",
    "# Train the classifier\n",
    "clf.fit(X_train, y_train)\n",
    "\n",
    "# Measure end time for training\n",
    "train_time = time.time() - start_time\n",
    "print(f\"Training time for lightgbm: {train_time:.4f} seconds\")\n",
    "\n",
    "# Measure start time for prediction\n",
    "start_time = time.time()\n",
    "\n",
    "# Predict\n",
    "y_pred = clf.predict(X_test)\n",
    "\n",
    "# Measure end time for prediction\n",
    "prediction_time = time.time() - start_time\n",
    "print(f\"Prediction time for lightgbm: {prediction_time:.4f} seconds\")\n",
    "\n",
    "# Calculate accuracy\n",
    "accuracy = accuracy_score(y_test, y_pred)\n",
    "print(f\"lightgbm Accuracy: {accuracy:.4f}\")\n",
    "\n",
    "# Classification report\n",
    "print(f\"Classification Report for lightgbm:\\n\")\n",
    "print(classification_report(y_test, y_pred))\n",
    "\n",
    "# Compute confusion matrix\n",
    "cm = confusion_matrix(y_test, y_pred)\n",
    "\n",
    "# Plot confusion matrix\n",
    "plot_confusion_matrix(cm, classes=clf.classes_, title=f\"lightgbm Confusion Matrix\")\n"
   ]
  },
  {
   "cell_type": "code",
   "execution_count": 26,
   "metadata": {},
   "outputs": [],
   "source": [
    "def predecir_texto(texto, vectorizer, modelo):\n",
    "    # 1. Preprocesar el texto si es necesario\n",
    "    # Esto depende de tu pipeline; si hiciste limpieza, hazla acá también.\n",
    "\n",
    "    # 2. Transformar el texto al vector TF-IDF (igual que hiciste con X_train)\n",
    "    texto_vectorizado = vectorizer.transform([texto])  # ¡Va una lista!\n",
    "\n",
    "    # 3. Hacer la predicción\n",
    "    prediccion = modelo.predict(texto_vectorizado)\n",
    "\n",
    "    # 4. Si quieres saber la probabilidad por cada clase:\n",
    "    probabilidades = modelo.predict_proba(texto_vectorizado)\n",
    "\n",
    "    return prediccion[0], probabilidades\n"
   ]
  },
  {
   "cell_type": "code",
   "execution_count": 27,
   "metadata": {},
   "outputs": [
    {
     "name": "stdout",
     "output_type": "stream",
     "text": [
      "Predicción: 0\n",
      "Probabilidades por clase: [[0.8957296  0.06442608 0.02624707 0.01104189 0.00255536]]\n"
     ]
    },
    {
     "name": "stderr",
     "output_type": "stream",
     "text": [
      "/home/diego/miniconda3/envs/py312/lib/python3.12/site-packages/sklearn/utils/validation.py:2739: UserWarning: X does not have valid feature names, but LGBMClassifier was fitted with feature names\n",
      "  warnings.warn(\n",
      "/home/diego/miniconda3/envs/py312/lib/python3.12/site-packages/sklearn/utils/validation.py:2739: UserWarning: X does not have valid feature names, but LGBMClassifier was fitted with feature names\n",
      "  warnings.warn(\n"
     ]
    }
   ],
   "source": [
    "nuevo_texto = \"I had a problem with my credit report and need help!\"\n",
    "\n",
    "prediccion, proba = predecir_texto(nuevo_texto, tfidf, clf)\n",
    "\n",
    "print(f\"Predicción: {prediccion}\")\n",
    "print(f\"Probabilidades por clase: {proba}\")\n"
   ]
  },
  {
   "cell_type": "code",
   "execution_count": 28,
   "metadata": {},
   "outputs": [
    {
     "name": "stdout",
     "output_type": "stream",
     "text": [
      "Probabilidad de la predicción '0': 0.8957\n"
     ]
    }
   ],
   "source": [
    "prediccion_idx = list(clf.classes_).index(prediccion)\n",
    "print(f\"Probabilidad de la predicción '{prediccion}': {proba[0][prediccion_idx]:.4f}\")\n",
    "\n"
   ]
  },
  {
   "cell_type": "code",
   "execution_count": 30,
   "metadata": {},
   "outputs": [
    {
     "name": "stdout",
     "output_type": "stream",
     "text": [
      "Modelo guardado en: ../model/v_2025-03-14/model_2025-03-14.pkl\n",
      "Vectorizador guardado en: ../model/vector_2025-03-14/vectorizer_2025-03-14.pkl\n"
     ]
    }
   ],
   "source": [
    "import joblib\n",
    "import os\n",
    "from datetime import datetime\n",
    "\n",
    "# Obtener fecha actual\n",
    "date = datetime.now().strftime(\"%Y-%m-%d\")\n",
    "\n",
    "# Definir paths de los modelos\n",
    "model_dir = f'../model/v_{date}'\n",
    "vectorizer_dir = f'../model/vector_{date}'\n",
    "\n",
    "# Crear los directorios si no existen\n",
    "os.makedirs(model_dir, exist_ok=True)\n",
    "os.makedirs(vectorizer_dir, exist_ok=True)\n",
    "\n",
    "# Guardar el modelo y el vectorizador\n",
    "joblib.dump(clf, f'{model_dir}/model_{date}.pkl')\n",
    "joblib.dump(tfidf, f'{vectorizer_dir}/vectorizer_{date}.pkl')\n",
    "\n",
    "print(f'Modelo guardado en: {model_dir}/model_{date}.pkl')\n",
    "print(f'Vectorizador guardado en: {vectorizer_dir}/vectorizer_{date}.pkl')\n"
   ]
  },
  {
   "cell_type": "code",
   "execution_count": 3,
   "metadata": {},
   "outputs": [
    {
     "name": "stdout",
     "output_type": "stream",
     "text": [
      "<class 'lightgbm.sklearn.LGBMClassifier'>\n"
     ]
    }
   ],
   "source": [
    "import joblib\n",
    "\n",
    "# Cargar el modelo\n",
    "clf = joblib.load('../model/v_2025-03-14/model_2025-03-14.pkl')\n",
    "\n",
    "# Cargar el vectorizador si lo necesitas\n",
    "tfidf = joblib.load('../model/vector_2025-03-14/vectorizer_2025-03-14.pkl')\n",
    "\n",
    "# Ver el tipo de modelo cargado\n",
    "print(type(clf))  # Probablemente un LGBMClassifier o algo similar\n"
   ]
  },
  {
   "cell_type": "code",
   "execution_count": 7,
   "metadata": {},
   "outputs": [
    {
     "name": "stdout",
     "output_type": "stream",
     "text": [
      "<class 'sklearn.feature_extraction.text.TfidfVectorizer'>\n"
     ]
    }
   ],
   "source": [
    "print(type(tfidf))"
   ]
  },
  {
   "cell_type": "code",
   "execution_count": null,
   "metadata": {},
   "outputs": [
    {
     "name": "stdout",
     "output_type": "stream",
     "text": [
      "[0]\n"
     ]
    },
    {
     "name": "stderr",
     "output_type": "stream",
     "text": [
      "/home/diego/miniconda3/envs/py312/lib/python3.12/site-packages/sklearn/utils/validation.py:2739: UserWarning: X does not have valid feature names, but LGBMClassifier was fitted with feature names\n",
      "  warnings.warn(\n"
     ]
    }
   ],
   "source": [
    "# Supongamos que necesitas transformar un texto de prueba\n",
    "texts = [\"I had a problem with my credit report and need help!\"]\n",
    "\n",
    "# Lo conviertes usando el vectorizador que guardaste\n",
    "X_test = tfidf.transform(texts)\n",
    "\n",
    "# Haces la predicción\n",
    "pred = clf.predict(X_test)\n",
    "\n",
    "print(pred)\n"
   ]
  },
  {
   "cell_type": "code",
   "execution_count": 5,
   "metadata": {},
   "outputs": [
    {
     "name": "stdout",
     "output_type": "stream",
     "text": [
      "<class 'str'>\n"
     ]
    }
   ],
   "source": [
    "path_vectorize = '../model/vector_2025-03-14/vectorizer_2025-03-14.pkl'\n",
    "\n",
    "print(type(path_vectorize))"
   ]
  },
  {
   "cell_type": "code",
   "execution_count": 6,
   "metadata": {},
   "outputs": [
    {
     "name": "stdout",
     "output_type": "stream",
     "text": [
      "<class 'sklearn.feature_extraction.text.TfidfVectorizer'>\n"
     ]
    }
   ],
   "source": [
    "print(type(tfidf))"
   ]
  },
  {
   "cell_type": "code",
   "execution_count": null,
   "metadata": {},
   "outputs": [],
   "source": []
  }
 ],
 "metadata": {
  "kernelspec": {
   "display_name": "py312",
   "language": "python",
   "name": "python3"
  },
  "language_info": {
   "codemirror_mode": {
    "name": "ipython",
    "version": 3
   },
   "file_extension": ".py",
   "mimetype": "text/x-python",
   "name": "python",
   "nbconvert_exporter": "python",
   "pygments_lexer": "ipython3",
   "version": "3.12.8"
  }
 },
 "nbformat": 4,
 "nbformat_minor": 2
}
