{
 "cells": [
  {
   "cell_type": "markdown",
   "id": "c5535dce",
   "metadata": {},
   "source": [
    "## Imports"
   ]
  },
  {
   "cell_type": "code",
   "execution_count": null,
   "id": "3688391a",
   "metadata": {},
   "outputs": [
    {
     "name": "stderr",
     "output_type": "stream",
     "text": [
      "/Users/diegocardona/repositorios/NLP_nequi_test_diegocardona/.venv/lib/python3.11/site-packages/tqdm/auto.py:21: TqdmWarning: IProgress not found. Please update jupyter and ipywidgets. See https://ipywidgets.readthedocs.io/en/stable/user_install.html\n",
      "  from .autonotebook import tqdm as notebook_tqdm\n"
     ]
    }
   ],
   "source": [
    "# standard library\n",
    "\n",
    "\n",
    "# third party\n",
    "import matplotlib.pyplot as plt\n",
    "import nltk\n",
    "import pandas as pd\n",
    "import torch\n",
    "import torch.nn.functional as F\n",
    "\n",
    "\n",
    "# application/library specific\n",
    "from functools import partial\n",
    "from nltk.corpus import stopwords\n",
    "from sklearn.model_selection import train_test_split\n",
    "from sklearn.preprocessing import LabelEncoder\n",
    "from sklearn.utils import resample\n",
    "from torch import nn\n",
    "from torchtext.data.utils import get_tokenizer\n",
    "from torch.nn.utils.rnn import pad_sequence\n",
    "from torch.utils.data import Dataset, DataLoader\n",
    "from torchtext.vocab import build_vocab_from_iterator\n"
   ]
  },
  {
   "cell_type": "markdown",
   "id": "e5d89a04",
   "metadata": {},
   "source": [
    "## Variables Globales"
   ]
  },
  {
   "cell_type": "code",
   "execution_count": null,
   "id": "ce8d0924",
   "metadata": {},
   "outputs": [],
   "source": [
    "TARGET = \"label\"\n",
    "FEATURE = \"narrative\"\n",
    "EMBEDDING_SIZES = 100\n",
    "\n",
    "# hiperparámetros\n",
    "EPOCHS = 6 # pocas porque se tiene un gpu pequeño y el modelo se ve bueno\n",
    "TASA_APRENDIZAJE = 0.015 # se puede experimentar con otros, tradicionalmente 0.1, agresivo 0.3\n",
    "BATCH_TAMANO = 82 # aprovechando la gpu"
   ]
  },
  {
   "cell_type": "code",
   "execution_count": 2,
   "id": "35451cba",
   "metadata": {},
   "outputs": [],
   "source": [
    "path_data = \"../dataset/complaints.csv\"\n",
    "\n",
    "df = pd.read_csv(path_data, index_col=0)\n",
    "df.reset_index(drop=True, inplace=True)"
   ]
  },
  {
   "cell_type": "code",
   "execution_count": 3,
   "id": "84534db2",
   "metadata": {},
   "outputs": [
    {
     "data": {
      "text/html": [
       "<div>\n",
       "<style scoped>\n",
       "    .dataframe tbody tr th:only-of-type {\n",
       "        vertical-align: middle;\n",
       "    }\n",
       "\n",
       "    .dataframe tbody tr th {\n",
       "        vertical-align: top;\n",
       "    }\n",
       "\n",
       "    .dataframe thead th {\n",
       "        text-align: right;\n",
       "    }\n",
       "</style>\n",
       "<table border=\"1\" class=\"dataframe\">\n",
       "  <thead>\n",
       "    <tr style=\"text-align: right;\">\n",
       "      <th></th>\n",
       "      <th>product_5</th>\n",
       "      <th>narrative</th>\n",
       "      <th>Product</th>\n",
       "      <th>Date received</th>\n",
       "      <th>Sub-product</th>\n",
       "      <th>Issue</th>\n",
       "      <th>Sub-issue</th>\n",
       "      <th>Company</th>\n",
       "      <th>State</th>\n",
       "      <th>Timely response?</th>\n",
       "    </tr>\n",
       "  </thead>\n",
       "  <tbody>\n",
       "    <tr>\n",
       "      <th>0</th>\n",
       "      <td>Credit Reporting</td>\n",
       "      <td>Dear Possible Financial Inc you guyss aree rep...</td>\n",
       "      <td>Credit reporting or other personal consumer re...</td>\n",
       "      <td>2024-07-27</td>\n",
       "      <td>Credit reporting</td>\n",
       "      <td>Incorrect information on your report</td>\n",
       "      <td>Account information incorrect</td>\n",
       "      <td>Possible Financial Inc</td>\n",
       "      <td>MI</td>\n",
       "      <td>Yes</td>\n",
       "    </tr>\n",
       "    <tr>\n",
       "      <th>1</th>\n",
       "      <td>Debt Collection</td>\n",
       "      <td>XXXX XXXX XXXX ( debt collector ), sent my boy...</td>\n",
       "      <td>Debt collection</td>\n",
       "      <td>2024-07-27</td>\n",
       "      <td>I do not know</td>\n",
       "      <td>Threatened to contact someone or share informa...</td>\n",
       "      <td>Talked to a third-party about your debt</td>\n",
       "      <td>BlueChip Financial</td>\n",
       "      <td>TX</td>\n",
       "      <td>Yes</td>\n",
       "    </tr>\n",
       "    <tr>\n",
       "      <th>2</th>\n",
       "      <td>Credit Reporting</td>\n",
       "      <td>I been receiving alerts my information was fou...</td>\n",
       "      <td>Credit reporting or other personal consumer re...</td>\n",
       "      <td>2024-07-23</td>\n",
       "      <td>Credit reporting</td>\n",
       "      <td>Improper use of your report</td>\n",
       "      <td>Credit inquiries on your report that you don't...</td>\n",
       "      <td>FC HoldCo LLC</td>\n",
       "      <td>SC</td>\n",
       "      <td>Yes</td>\n",
       "    </tr>\n",
       "    <tr>\n",
       "      <th>3</th>\n",
       "      <td>Credit Reporting</td>\n",
       "      <td>Subject : Dispute of Inaccurate Information on...</td>\n",
       "      <td>Credit reporting or other personal consumer re...</td>\n",
       "      <td>2024-07-27</td>\n",
       "      <td>Credit reporting</td>\n",
       "      <td>Improper use of your report</td>\n",
       "      <td>Reporting company used your report improperly</td>\n",
       "      <td>CORELOGIC INC</td>\n",
       "      <td>GA</td>\n",
       "      <td>Yes</td>\n",
       "    </tr>\n",
       "    <tr>\n",
       "      <th>4</th>\n",
       "      <td>Loans</td>\n",
       "      <td>They allowed me to use the account for about a...</td>\n",
       "      <td>Payday loan, title loan, personal loan, or adv...</td>\n",
       "      <td>2024-07-26</td>\n",
       "      <td>Payday loan</td>\n",
       "      <td>Received a loan you didn't apply for</td>\n",
       "      <td>NaN</td>\n",
       "      <td>MoneyLion Inc.</td>\n",
       "      <td>PA</td>\n",
       "      <td>Yes</td>\n",
       "    </tr>\n",
       "  </tbody>\n",
       "</table>\n",
       "</div>"
      ],
      "text/plain": [
       "          product_5                                          narrative  \\\n",
       "0  Credit Reporting  Dear Possible Financial Inc you guyss aree rep...   \n",
       "1   Debt Collection  XXXX XXXX XXXX ( debt collector ), sent my boy...   \n",
       "2  Credit Reporting  I been receiving alerts my information was fou...   \n",
       "3  Credit Reporting  Subject : Dispute of Inaccurate Information on...   \n",
       "4             Loans  They allowed me to use the account for about a...   \n",
       "\n",
       "                                             Product Date received  \\\n",
       "0  Credit reporting or other personal consumer re...    2024-07-27   \n",
       "1                                    Debt collection    2024-07-27   \n",
       "2  Credit reporting or other personal consumer re...    2024-07-23   \n",
       "3  Credit reporting or other personal consumer re...    2024-07-27   \n",
       "4  Payday loan, title loan, personal loan, or adv...    2024-07-26   \n",
       "\n",
       "        Sub-product                                              Issue  \\\n",
       "0  Credit reporting               Incorrect information on your report   \n",
       "1     I do not know  Threatened to contact someone or share informa...   \n",
       "2  Credit reporting                        Improper use of your report   \n",
       "3  Credit reporting                        Improper use of your report   \n",
       "4       Payday loan               Received a loan you didn't apply for   \n",
       "\n",
       "                                           Sub-issue                 Company  \\\n",
       "0                      Account information incorrect  Possible Financial Inc   \n",
       "1            Talked to a third-party about your debt      BlueChip Financial   \n",
       "2  Credit inquiries on your report that you don't...           FC HoldCo LLC   \n",
       "3      Reporting company used your report improperly           CORELOGIC INC   \n",
       "4                                                NaN          MoneyLion Inc.   \n",
       "\n",
       "  State Timely response?  \n",
       "0    MI              Yes  \n",
       "1    TX              Yes  \n",
       "2    SC              Yes  \n",
       "3    GA              Yes  \n",
       "4    PA              Yes  "
      ]
     },
     "execution_count": 3,
     "metadata": {},
     "output_type": "execute_result"
    }
   ],
   "source": [
    "df.head()"
   ]
  },
  {
   "cell_type": "code",
   "execution_count": null,
   "id": "354bfcf3",
   "metadata": {},
   "outputs": [],
   "source": [
    "pd.set_option(\"display.max_colwidth\", None) # para aumentar la visualización del dataframe"
   ]
  },
  {
   "cell_type": "code",
   "execution_count": 5,
   "id": "9d4283da",
   "metadata": {},
   "outputs": [
    {
     "data": {
      "text/html": [
       "<div>\n",
       "<style scoped>\n",
       "    .dataframe tbody tr th:only-of-type {\n",
       "        vertical-align: middle;\n",
       "    }\n",
       "\n",
       "    .dataframe tbody tr th {\n",
       "        vertical-align: top;\n",
       "    }\n",
       "\n",
       "    .dataframe thead th {\n",
       "        text-align: right;\n",
       "    }\n",
       "</style>\n",
       "<table border=\"1\" class=\"dataframe\">\n",
       "  <thead>\n",
       "    <tr style=\"text-align: right;\">\n",
       "      <th></th>\n",
       "      <th>narrative</th>\n",
       "      <th>product_5</th>\n",
       "    </tr>\n",
       "  </thead>\n",
       "  <tbody>\n",
       "    <tr>\n",
       "      <th>4</th>\n",
       "      <td>They allowed me to use the account for about a month let me get a credit builder loan and payday loan and as soon as I did that they blocked my account. They arent allowing me to access the account and havent stopped taking money.</td>\n",
       "      <td>Loans</td>\n",
       "    </tr>\n",
       "    <tr>\n",
       "      <th>7</th>\n",
       "      <td>I had an installment loan under my name that was taken out for my ex husband. I paid for it for quite some time then I couldnt manage the payments. There was less than {$2000.00} remaining and I tried to negotiate the loan to a smaller amount or longer time to pay off the loan. Ener bank denied both. They have written off this loan but keep on adding fees to it to the long where now the amount I owe is over {$5000.00}. I also had someone from Enerbank come to my house one time when I wasnt home and was yelling at the person that answered the door and he threatened to take legal action against me. This was a very scary situation for people in my home. I want to come to a reasonable amount below {$2000.00} to pay off the loan. I am a single parent and I take care of my old mother and young child that is ready to go to college. I want to do the right thing but need help with the reduced amount and payment terms</td>\n",
       "      <td>Loans</td>\n",
       "    </tr>\n",
       "    <tr>\n",
       "      <th>9</th>\n",
       "      <td>XXXX Morgage company sent a payment to XXXX XXXX for {$3100.00} XXXX read another number. Also my Morgage will increase by {$100.00} in XXXX. I get no equity. I pay taxes and insurance only from my escrow account. I paid {$77000.00} for my property in XXXX. I now owe {$82000.00}.</td>\n",
       "      <td>Loans</td>\n",
       "    </tr>\n",
       "    <tr>\n",
       "      <th>21</th>\n",
       "      <td>I have disputed this information on my XXXX credit reports several times no actions were taken. This company is reporting fraudulent inaccurate information on my credit report. I have requested that they provide the purchase agreement to show full ownership of such account and also other documents so I may review to see if this account actually belongs to me</td>\n",
       "      <td>Loans</td>\n",
       "    </tr>\n",
       "    <tr>\n",
       "      <th>34</th>\n",
       "      <td>I am submitting this complaint against USAA Savings Bank for the following violations : XXXX. Fraud ( XXXX2 CFR 1026.9 - Unfair or deceptive acts or practices ) : USAA Savings Bank engaged in fraudulent activities by Failing to honor checks or drafts : Refusing to pay legitimate checks or drafts, or delaying payment without proper reason ( UCC 3-302, 3-303 ).\\n\\nUnauthorized signatures : Allowing or creating unauthorized signatures on checks, drafts, or other negotiable instruments ( UCC 3-403 ).\\n\\nAltering documents : Modifying or altering checks, drafts, or other negotiable instruments without proper authorization ( UCC 3-407 ).\\n\\nFailing to provide proper notice : Not providing adequate notice of dishonor, non-payment, or other important events related to negotiable instruments ( UCC 3-503, 3-504 ).\\n\\nWrongful dishonor : Dishonoring a legitimate check or draft without proper reason, leading to damages or losses for the customer ( UCC 3-502 ).\\n\\nFailing to act in good faith : Not acting with honesty and fairness in transactions, such as hiding fees or terms ( UCC 1-203 ).\\n\\nMisrepresenting account status : Falsely reporting account balances, transaction history, or other important information ( UCC 4-202, 4-203 ).\\n\\nFailing to comply with stop payment orders : Not honoring valid stop payment orders, allowing unauthorized transactions to occur ( UCC 4-403 ).\\n\\n2. Misrepresentation ( 12 CFR 1026.2 - Definitions and rules of construction ) : USAA Savings Bank misrepresented their services and products. If a bank creates credit without disclosing it, and instead makes the borrower believe they're receiving a loan, it can also be considered a form of peonage. Peonage is a system where a person is forced to work to pay off a debt, often with little control over their circumstances. In this context, the bank 's actions could be seen as a form of peonage, as the borrower is : Misled about the source of funds Forced into a debt obligation without full understanding Required to work to pay off the debt, with interest This can lead to a cycle of debt, where the borrower is trapped in a situation they didn't fully understand or agree to. Peonage is illegal in many jurisdictions, and banks have a responsibility to avoid practices that could be seen as coercive or exploitative.\\n\\n3. Breach of Contract ( 12 CFR 1026.9 - Unfair or deceptive acts or practices ) : USAA Savings Bank failed to fulfill their obligations under our agreement, specifically : Fiduciary duty : Banks have a fiduciary duty to act in the best interests of their customers, including honoring legitimate bills and bills of exchange.\\n\\nContractual obligations : The bank 's failure to honor a bill or bill of exchange can be seen as a breach of their contractual obligations to their customer.\\n\\nThe UCC sections 3-102, 3-303, and 3-305 outline the bank 's responsibilities regarding negotiable instruments, including bills of exchange.\\n\\nBreach of warranty : By failing to honor a bill or bill of exchange, the bank may be breaching their warranty to accept and pay legitimate instruments.\\n\\n4. Unlawful Banking Practices : USAA Savings Bank misrepresented that they lent me money, when in fact, my energy was the source of the credit. HJR192.\\n\\n5. UCC Violations : 3-102. Alteration : USAA Savings Bank altered the terms of our agreement without my consent.\\n\\n3-305. Defenses and Claims in Recoupment : USAA Savings Bank failed to provide a valid defense for their actions.\\n\\n4-103. Conditions of Liability : USAA Savings Bank is liable for their actions under the UCC.\\n\\nExplanation : I created the credit through my promissory note, which was then monetized by USAA Savings Bank without my knowledge or consent. I tendered setoff with negotiable interment on XX/XX/XXXX which was ignored. I requested Validation of the debt XX/XX/XXXX including certified accounting documents, which was also ignored. I then requested rescission on the account XX/XX/XXXX for fraud in many capacities. All documents were mailed in certified mail with acceptance by USAA on ALL. \\n\\nDetails : - Date of Incident : XX/XX/XXXX - Amount Involved : {$35000.00} - Account Information : XXXX</td>\n",
       "      <td>Loans</td>\n",
       "    </tr>\n",
       "  </tbody>\n",
       "</table>\n",
       "</div>"
      ],
      "text/plain": [
       "                                                                                                                                                                                                                                                                                                                                                                                                                                                                                                                                                                                                                                                                                                                                                                                                                                                                                                                                                                                                                                                                                                                                                                                                                                                                                                                                                                                                                                                                                                                                                                                                                                                                                                                                                                                                                                                                                                                                                                                                                                                                                                                                                                                                                                                                                                                                                                                                                                                                                                                                                                                                                                                                                                                                                                                                                                                                                                                                                                                                                                                                                                                                                                                                                                                                                                                                                                                                                                                                                                                                                                                                                                                                                                                                                                                                                                                                                                                                                                                                                                                                                                                                                                                                                                                                                                                                                      narrative  \\\n",
       "4                                                                                                                                                                                                                                                                                                                                                                                                                                                                                                                                                                                                                                                                                                                                                                                                                                                                                                                                                                                                                                                                                                                                                                                                                                                                                                                                                                                                                                                                                                                                                                                                                                                                                                                                                                                                                                                                                                                                                                                                                                                                                                                                                                                                                                                                                                                                                                                                                                                                                                                                                                                                                                                                                                                                                                                                                                                                                                                                                                                                                                                                                                                                                                                                                                                                                                                                                                                                                                                                                                                                                                                                                                                                                                                                                                                                                                                                                                                                                                                                                                                                                                                        They allowed me to use the account for about a month let me get a credit builder loan and payday loan and as soon as I did that they blocked my account. They arent allowing me to access the account and havent stopped taking money.   \n",
       "7                                                                                                                                                                                                                                                                                                                                                                                                                                                                                                                                                                                                                                                                                                                                                                                                                                                                                                                                                                                                                                                                                                                                                                                                                                                                                                                                                                                                                                                                                                                                                                                                                                                                                                                                                                                                                                                                                                                                                                                                                                                                                                                                                                                                                                                                                                                                                                                                                                                                                                                                                                                                                                                                                                                                                                                                                                                                                                                                                                                                                                                                                                                                                                                                                                                                                                                                                                                                     I had an installment loan under my name that was taken out for my ex husband. I paid for it for quite some time then I couldnt manage the payments. There was less than {$2000.00} remaining and I tried to negotiate the loan to a smaller amount or longer time to pay off the loan. Ener bank denied both. They have written off this loan but keep on adding fees to it to the long where now the amount I owe is over {$5000.00}. I also had someone from Enerbank come to my house one time when I wasnt home and was yelling at the person that answered the door and he threatened to take legal action against me. This was a very scary situation for people in my home. I want to come to a reasonable amount below {$2000.00} to pay off the loan. I am a single parent and I take care of my old mother and young child that is ready to go to college. I want to do the right thing but need help with the reduced amount and payment terms   \n",
       "9                                                                                                                                                                                                                                                                                                                                                                                                                                                                                                                                                                                                                                                                                                                                                                                                                                                                                                                                                                                                                                                                                                                                                                                                                                                                                                                                                                                                                                                                                                                                                                                                                                                                                                                                                                                                                                                                                                                                                                                                                                                                                                                                                                                                                                                                                                                                                                                                                                                                                                                                                                                                                                                                                                                                                                                                                                                                                                                                                                                                                                                                                                                                                                                                                                                                                                                                                                                                                                                                                                                                                                                                                                                                                                                                                                                                                                                                                                                                                                                                                                                                      XXXX Morgage company sent a payment to XXXX XXXX for {$3100.00} XXXX read another number. Also my Morgage will increase by {$100.00} in XXXX. I get no equity. I pay taxes and insurance only from my escrow account. I paid {$77000.00} for my property in XXXX. I now owe {$82000.00}.   \n",
       "21                                                                                                                                                                                                                                                                                                                                                                                                                                                                                                                                                                                                                                                                                                                                                                                                                                                                                                                                                                                                                                                                                                                                                                                                                                                                                                                                                                                                                                                                                                                                                                                                                                                                                                                                                                                                                                                                                                                                                                                                                                                                                                                                                                                                                                                                                                                                                                                                                                                                                                                                                                                                                                                                                                                                                                                                                                                                                                                                                                                                                                                                                                                                                                                                                                                                                                                                                                                                                                                                                                                                                                                                                                                                                                                                                                                                                                                                                                                                                                                     I have disputed this information on my XXXX credit reports several times no actions were taken. This company is reporting fraudulent inaccurate information on my credit report. I have requested that they provide the purchase agreement to show full ownership of such account and also other documents so I may review to see if this account actually belongs to me   \n",
       "34  I am submitting this complaint against USAA Savings Bank for the following violations : XXXX. Fraud ( XXXX2 CFR 1026.9 - Unfair or deceptive acts or practices ) : USAA Savings Bank engaged in fraudulent activities by Failing to honor checks or drafts : Refusing to pay legitimate checks or drafts, or delaying payment without proper reason ( UCC 3-302, 3-303 ).\\n\\nUnauthorized signatures : Allowing or creating unauthorized signatures on checks, drafts, or other negotiable instruments ( UCC 3-403 ).\\n\\nAltering documents : Modifying or altering checks, drafts, or other negotiable instruments without proper authorization ( UCC 3-407 ).\\n\\nFailing to provide proper notice : Not providing adequate notice of dishonor, non-payment, or other important events related to negotiable instruments ( UCC 3-503, 3-504 ).\\n\\nWrongful dishonor : Dishonoring a legitimate check or draft without proper reason, leading to damages or losses for the customer ( UCC 3-502 ).\\n\\nFailing to act in good faith : Not acting with honesty and fairness in transactions, such as hiding fees or terms ( UCC 1-203 ).\\n\\nMisrepresenting account status : Falsely reporting account balances, transaction history, or other important information ( UCC 4-202, 4-203 ).\\n\\nFailing to comply with stop payment orders : Not honoring valid stop payment orders, allowing unauthorized transactions to occur ( UCC 4-403 ).\\n\\n2. Misrepresentation ( 12 CFR 1026.2 - Definitions and rules of construction ) : USAA Savings Bank misrepresented their services and products. If a bank creates credit without disclosing it, and instead makes the borrower believe they're receiving a loan, it can also be considered a form of peonage. Peonage is a system where a person is forced to work to pay off a debt, often with little control over their circumstances. In this context, the bank 's actions could be seen as a form of peonage, as the borrower is : Misled about the source of funds Forced into a debt obligation without full understanding Required to work to pay off the debt, with interest This can lead to a cycle of debt, where the borrower is trapped in a situation they didn't fully understand or agree to. Peonage is illegal in many jurisdictions, and banks have a responsibility to avoid practices that could be seen as coercive or exploitative.\\n\\n3. Breach of Contract ( 12 CFR 1026.9 - Unfair or deceptive acts or practices ) : USAA Savings Bank failed to fulfill their obligations under our agreement, specifically : Fiduciary duty : Banks have a fiduciary duty to act in the best interests of their customers, including honoring legitimate bills and bills of exchange.\\n\\nContractual obligations : The bank 's failure to honor a bill or bill of exchange can be seen as a breach of their contractual obligations to their customer.\\n\\nThe UCC sections 3-102, 3-303, and 3-305 outline the bank 's responsibilities regarding negotiable instruments, including bills of exchange.\\n\\nBreach of warranty : By failing to honor a bill or bill of exchange, the bank may be breaching their warranty to accept and pay legitimate instruments.\\n\\n4. Unlawful Banking Practices : USAA Savings Bank misrepresented that they lent me money, when in fact, my energy was the source of the credit. HJR192.\\n\\n5. UCC Violations : 3-102. Alteration : USAA Savings Bank altered the terms of our agreement without my consent.\\n\\n3-305. Defenses and Claims in Recoupment : USAA Savings Bank failed to provide a valid defense for their actions.\\n\\n4-103. Conditions of Liability : USAA Savings Bank is liable for their actions under the UCC.\\n\\nExplanation : I created the credit through my promissory note, which was then monetized by USAA Savings Bank without my knowledge or consent. I tendered setoff with negotiable interment on XX/XX/XXXX which was ignored. I requested Validation of the debt XX/XX/XXXX including certified accounting documents, which was also ignored. I then requested rescission on the account XX/XX/XXXX for fraud in many capacities. All documents were mailed in certified mail with acceptance by USAA on ALL. \\n\\nDetails : - Date of Incident : XX/XX/XXXX - Amount Involved : {$35000.00} - Account Information : XXXX   \n",
       "\n",
       "   product_5  \n",
       "4      Loans  \n",
       "7      Loans  \n",
       "9      Loans  \n",
       "21     Loans  \n",
       "34     Loans  "
      ]
     },
     "execution_count": 5,
     "metadata": {},
     "output_type": "execute_result"
    }
   ],
   "source": [
    "df[[\"narrative\", \"product_5\"]][df.product_5 == \"Loans\"].head()"
   ]
  },
  {
   "cell_type": "code",
   "execution_count": 6,
   "id": "7c032fad",
   "metadata": {},
   "outputs": [
    {
     "data": {
      "text/plain": [
       "(2023066, 10)"
      ]
     },
     "execution_count": 6,
     "metadata": {},
     "output_type": "execute_result"
    }
   ],
   "source": [
    "df.shape"
   ]
  },
  {
   "cell_type": "code",
   "execution_count": 7,
   "id": "8b2de951",
   "metadata": {},
   "outputs": [
    {
     "data": {
      "image/png": "[encoded data removed]",
      "text/plain": [
       "<Figure size 640x480 with 1 Axes>"
      ]
     },
     "metadata": {},
     "output_type": "display_data"
    }
   ],
   "source": [
    "df.product_5.value_counts().plot(kind='pie', autopct='%1.1f%%')\n",
    "plt.show()"
   ]
  },
  {
   "cell_type": "markdown",
   "id": "0a92ee67",
   "metadata": {},
   "source": [
    "### Balanceo del dataframe para quitarle peso a la clase \"Credit Reporting\""
   ]
  },
  {
   "cell_type": "code",
   "execution_count": 8,
   "id": "3ddedd9a",
   "metadata": {},
   "outputs": [],
   "source": [
    "df_creditreporting = df[df.product_5 == \"Credit Reporting\"]\n",
    "df_debtcollection = df[df.product_5 == \"Debt Collection\"]\n",
    "df_minorityclass = df[df.product_5 != \"Credit Reporting\"]\n",
    "\n",
    "df_creditreporting_balanced = resample(\n",
    "    df_creditreporting,\n",
    "    replace=False,\n",
    "    n_samples=len(df_debtcollection),\n",
    "    random_state=1\n",
    ")\n",
    "\n",
    "df_vproportional = pd.concat([df_creditreporting_balanced, df_minorityclass])"
   ]
  },
  {
   "cell_type": "code",
   "execution_count": 9,
   "id": "a02a130c",
   "metadata": {},
   "outputs": [],
   "source": [
    "le = LabelEncoder()\n",
    "\n",
    "df_vproportional[\"label\"] = le.fit_transform(df_vproportional[\"product_5\"])"
   ]
  },
  {
   "cell_type": "markdown",
   "id": "b1945c4b",
   "metadata": {},
   "source": [
    "### Separación de datos en entrenamiento, evaluación (dev) y test"
   ]
  },
  {
   "cell_type": "code",
   "execution_count": 10,
   "id": "6cd0d8ec",
   "metadata": {},
   "outputs": [],
   "source": [
    "train_df, test_df = train_test_split(df_vproportional, test_size=0.2, stratify=df_vproportional['label'])\n",
    "train_df, dev_df = train_test_split(train_df, test_size=0.25, stratify=train_df['label'])"
   ]
  },
  {
   "cell_type": "code",
   "execution_count": null,
   "id": "a5c6844b",
   "metadata": {},
   "outputs": [],
   "source": [
    "#TODO: estoy tomando el target viejo product_5 y no el nuevo label para el split!!!"
   ]
  },
  {
   "cell_type": "markdown",
   "id": "35b96266",
   "metadata": {},
   "source": [
    "### Observación de la proporción de datos por cada clase"
   ]
  },
  {
   "cell_type": "code",
   "execution_count": 11,
   "id": "97f8bfbf",
   "metadata": {},
   "outputs": [
    {
     "data": {
      "text/plain": [
       "product_5\n",
       "Bank Accounts and Services    14.6%\n",
       "Credit Card Services          15.1%\n",
       "Credit Reporting              24.6%\n",
       "Debt Collection               24.6%\n",
       "Loans                         21.1%\n",
       "Name: proportion, dtype: object"
      ]
     },
     "execution_count": 11,
     "metadata": {},
     "output_type": "execute_result"
    }
   ],
   "source": [
    "train_df.product_5.value_counts(normalize=True).sort_index().mul(100).round(1).astype(str)+'%'"
   ]
  },
  {
   "cell_type": "code",
   "execution_count": 13,
   "id": "e4c41563",
   "metadata": {},
   "outputs": [
    {
     "data": {
      "text/plain": [
       "product_5\n",
       "Bank Accounts and Services    14.6%\n",
       "Credit Card Services          15.1%\n",
       "Credit Reporting              24.6%\n",
       "Debt Collection               24.6%\n",
       "Loans                         21.1%\n",
       "Name: proportion, dtype: object"
      ]
     },
     "execution_count": 13,
     "metadata": {},
     "output_type": "execute_result"
    }
   ],
   "source": [
    "test_df.product_5.value_counts(normalize=True).sort_index().mul(100).round(1).astype(str)+'%'"
   ]
  },
  {
   "cell_type": "code",
   "execution_count": 14,
   "id": "e6a4a5dd",
   "metadata": {},
   "outputs": [
    {
     "data": {
      "text/plain": [
       "product_5\n",
       "Bank Accounts and Services    14.6%\n",
       "Credit Card Services          15.1%\n",
       "Credit Reporting              24.6%\n",
       "Debt Collection               24.6%\n",
       "Loans                         21.1%\n",
       "Name: proportion, dtype: object"
      ]
     },
     "execution_count": 14,
     "metadata": {},
     "output_type": "execute_result"
    }
   ],
   "source": [
    "dev_df.product_5.value_counts(normalize=True).sort_index().mul(100).round(1).astype(str)+'%'"
   ]
  },
  {
   "cell_type": "markdown",
   "id": "11f329d7",
   "metadata": {},
   "source": [
    "## Modelo de Clasificación con Pytorch"
   ]
  },
  {
   "cell_type": "code",
   "execution_count": null,
   "id": "0f3d6801",
   "metadata": {},
   "outputs": [
    {
     "name": "stdout",
     "output_type": "stream",
     "text": [
      "2.1.0\n"
     ]
    }
   ],
   "source": [
    "print(torch.__version__)"
   ]
  },
  {
   "cell_type": "markdown",
   "id": "44e342af",
   "metadata": {},
   "source": [
    "### Uso de la GPU de Macbook en caso de tener"
   ]
  },
  {
   "cell_type": "code",
   "execution_count": 35,
   "id": "2feb8bfb",
   "metadata": {},
   "outputs": [
    {
     "name": "stdout",
     "output_type": "stream",
     "text": [
      "MPS available\n"
     ]
    }
   ],
   "source": [
    "if torch.backends.mps.is_available():\n",
    "    print(\"MPS available\")\n",
    "else:\n",
    "    print(\"MPS ERROR!!\")"
   ]
  },
  {
   "cell_type": "code",
   "execution_count": 36,
   "id": "c460fd38",
   "metadata": {},
   "outputs": [],
   "source": [
    "device = torch.device(\"mps\" if torch.backends.mps.is_available() else \"cpu\")"
   ]
  },
  {
   "cell_type": "markdown",
   "id": "847d456a",
   "metadata": {},
   "source": [
    "### Funciones y Clases Auxiliares"
   ]
  },
  {
   "cell_type": "code",
   "execution_count": 46,
   "id": "716f544d",
   "metadata": {},
   "outputs": [],
   "source": [
    "def tokenizador_full(text, base_tokenizer, stop_words):\n",
    "    return [token for token in base_tokenizer(text) if token not in stop_words]"
   ]
  },
  {
   "cell_type": "code",
   "execution_count": 29,
   "id": "85c73b31",
   "metadata": {},
   "outputs": [],
   "source": [
    "def yield_tokens(data_iter, tokenizador, base_tokenizer, stop_words):\n",
    "    for texto in data_iter:\n",
    "        yield tokenizador(texto, base_tokenizer, stop_words)"
   ]
  },
  {
   "cell_type": "code",
   "execution_count": null,
   "id": "bec1f866",
   "metadata": {},
   "outputs": [],
   "source": [
    "def collate_batch(batch, device=device):\n",
    "    text_list, label_list = [], []\n",
    "    for text, label in batch:\n",
    "        text_list.append(text)\n",
    "        label_list.append(label)\n",
    "    # pad_sequence convierte a (batch_size, max_len)\n",
    "    text_padded = pad_sequence(text_list, batch_first=True, padding_value=0)\n",
    "    labels = torch.tensor(label_list, dtype=torch.int64)\n",
    "    return labels.to(device), text_padded.to(device)"
   ]
  },
  {
   "cell_type": "code",
   "execution_count": 60,
   "id": "e2999a8d",
   "metadata": {},
   "outputs": [],
   "source": [
    "def count_parameters(model):\n",
    "  return sum(p.numel() for p in model.parameters() if p.requires_grad)"
   ]
  },
  {
   "cell_type": "code",
   "execution_count": 62,
   "id": "14c6439e",
   "metadata": {},
   "outputs": [],
   "source": [
    "# función para entrenar el modelo\n",
    "def entrena(dataloader, modelo, optimizer, criterio, epoch):\n",
    "  # poner el modelo en formato de entrenamiento\n",
    "  modelo.train()\n",
    "\n",
    "  # inicialización de variables para hacer seguimiento a la mejora del modelo\n",
    "  # accuracy\n",
    "  epoch_acc = 0\n",
    "  # perdida\n",
    "  epoch_loss = 0\n",
    "  # cuántos ejemplos tiene el batch del dataloader\n",
    "  total_count = 0\n",
    "\n",
    "  # for idx, (label, text, offsets) in enumerate(dataloader):\n",
    "  for idx, (label, text) in enumerate(dataloader):\n",
    "    # reestablecer los gradientes después de cada batch\n",
    "    optimizer.zero_grad()\n",
    "    # predicciones\n",
    "    # prediccion = modelo(text, offsets)\n",
    "    prediccion = modelo(text)\n",
    "\n",
    "    # obtención de la pérdida\n",
    "    loss = criterio(prediccion, label)\n",
    "\n",
    "    # backpropage: hacia atrás se obtiene la derivada y calcula los pesos\n",
    "    loss.backward()\n",
    "\n",
    "    # accuracy, calcula el porcentaje de correctos\n",
    "    acc = (prediccion.argmax(1) == label).sum()\n",
    "\n",
    "    # evitar que los gradientes sean demaciado rápidos\n",
    "    torch.nn.utils.clip_grad_norm(modelo.parameters(), 0.1)\n",
    "\n",
    "    # optimizar los pesos\n",
    "    optimizer.step()\n",
    "\n",
    "    torch.mps.empty_cache()\n",
    "\n",
    "    # llevamos el conteo de la pérdida y el accuracy\n",
    "    epoch_acc += acc.item()\n",
    "    epoch_loss += loss.item()\n",
    "    total_count += label.size(0)\n",
    "\n",
    "    if idx % 500 == 0 and idx > 0:\n",
    "      print(f'epoca {epoch} | {idx}/{len(dataloader)} batches | perdida {epoch_loss/total_count} | accuracy {epoch_acc/ total_count}')\n",
    "\n",
    "  return epoch_acc/total_count, epoch_loss/total_count"
   ]
  },
  {
   "cell_type": "code",
   "execution_count": 63,
   "id": "23305e39",
   "metadata": {},
   "outputs": [],
   "source": [
    "# Función para evaluar el modelo\n",
    "def evalua(dataloader, modelo, criterio):\n",
    "  modelo.eval()\n",
    "  # modelo.cuda()\n",
    "  epoch_acc = 0\n",
    "  epoch_loss = 0\n",
    "  total_count = 0\n",
    "\n",
    "  # cuando se va a evaluar un modelo o hacer inferencia, se debe referenciar\n",
    "  # que no se haga gradiente, es decir no se entrene\n",
    "  with torch.no_grad():\n",
    "    # for idx, (label, text, offsets) in enumerate(dataloader):\n",
    "    for idx, (label, text) in enumerate(dataloader):\n",
    "      # prediccion = modelo(text, offsets)\n",
    "      prediccion = modelo(text)\n",
    "\n",
    "      loss = criterio(prediccion, label)\n",
    "      acc = (prediccion.argmax(1) == label).sum()\n",
    "\n",
    "      epoch_loss += loss.item()\n",
    "      epoch_acc += acc.item()\n",
    "      total_count += label.size(0)\n",
    "\n",
    "    return epoch_acc/total_count, epoch_loss/total_count"
   ]
  },
  {
   "cell_type": "code",
   "execution_count": 77,
   "id": "df1f06c2",
   "metadata": {},
   "outputs": [],
   "source": [
    "def predict(text, texto_pipeline, model):\n",
    "  with torch.no_grad():\n",
    "    text_ids = texto_pipeline(text)\n",
    "    text_tensor = torch.tensor([text_ids], dtype=torch.long)\n",
    "    text_tensor = text_tensor.to(next(model.parameters()).device)\n",
    "    output = model(text_tensor)\n",
    "  return output.argmax(1).item()"
   ]
  },
  {
   "cell_type": "code",
   "execution_count": 34,
   "id": "d1e57743",
   "metadata": {},
   "outputs": [],
   "source": [
    "class TextDataset(Dataset):\n",
    "    def __init__(self, df, vocab, tokenizer):\n",
    "        self.labels = df[TARGET].values\n",
    "        self.texts = df[FEATURE].values\n",
    "        self.vocab = vocab\n",
    "        self.tokenizer = tokenizer\n",
    "    \n",
    "    def __len__(self):\n",
    "        return len(self.labels)\n",
    "    \n",
    "    def __getitem__(self, idx):\n",
    "        tokens = self.tokenizer(self.texts[idx])\n",
    "        token_ids = self.vocab(tokens)\n",
    "        return torch.tensor(token_ids), torch.tensor(self.labels[idx])"
   ]
  },
  {
   "cell_type": "code",
   "execution_count": null,
   "id": "3f1f46ad",
   "metadata": {},
   "outputs": [],
   "source": [
    "class ModeloClasificacionTexto(nn.Module):\n",
    "    def __init__(self, vocab_size, embed_dim, num_class):\n",
    "        super(ModeloClasificacionTexto, self).__init__()\n",
    "        self.embedding = nn.Embedding(vocab_size, embed_dim, padding_idx=0)\n",
    "        self.bn1 = nn.BatchNorm1d(embed_dim)\n",
    "        self.fc = nn.Linear(embed_dim, num_class)\n",
    "\n",
    "    def forward(self, text_batch):\n",
    "        embedded = self.embedding(text_batch)  # (batch_size, seq_len, embed_dim)\n",
    "        embedded = embedded.mean(dim=1)  # (batch_size, embed_dim)\n",
    "        embedded_norm = self.bn1(embedded)\n",
    "        activated = F.relu(embedded_norm)\n",
    "        return self.fc(activated)"
   ]
  },
  {
   "cell_type": "code",
   "execution_count": 18,
   "id": "bd70e63b",
   "metadata": {},
   "outputs": [
    {
     "name": "stderr",
     "output_type": "stream",
     "text": [
      "[nltk_data] Downloading package stopwords to\n",
      "[nltk_data]     /Users/diegocardona/nltk_data...\n",
      "[nltk_data]   Package stopwords is already up-to-date!\n"
     ]
    }
   ],
   "source": [
    "nltk.download('stopwords')\n",
    "stop_words = set(stopwords.words('english'))"
   ]
  },
  {
   "cell_type": "code",
   "execution_count": null,
   "id": "71fae391",
   "metadata": {},
   "outputs": [],
   "source": [
    "base_tokenizer = get_tokenizer(\"basic_english\")"
   ]
  },
  {
   "cell_type": "code",
   "execution_count": 21,
   "id": "152391c1",
   "metadata": {},
   "outputs": [
    {
     "data": {
      "text/html": [
       "<div>\n",
       "<style scoped>\n",
       "    .dataframe tbody tr th:only-of-type {\n",
       "        vertical-align: middle;\n",
       "    }\n",
       "\n",
       "    .dataframe tbody tr th {\n",
       "        vertical-align: top;\n",
       "    }\n",
       "\n",
       "    .dataframe thead th {\n",
       "        text-align: right;\n",
       "    }\n",
       "</style>\n",
       "<table border=\"1\" class=\"dataframe\">\n",
       "  <thead>\n",
       "    <tr style=\"text-align: right;\">\n",
       "      <th></th>\n",
       "      <th>product_5</th>\n",
       "      <th>narrative</th>\n",
       "      <th>Product</th>\n",
       "      <th>Date received</th>\n",
       "      <th>Sub-product</th>\n",
       "      <th>Issue</th>\n",
       "      <th>Sub-issue</th>\n",
       "      <th>Company</th>\n",
       "      <th>State</th>\n",
       "      <th>Timely response?</th>\n",
       "      <th>label</th>\n",
       "    </tr>\n",
       "  </thead>\n",
       "  <tbody>\n",
       "    <tr>\n",
       "      <th>1348750</th>\n",
       "      <td>Credit Reporting</td>\n",
       "      <td>THESE ACCOUNTS ARE REPORTING INACCURATELY. PLE...</td>\n",
       "      <td>Credit reporting or other personal consumer re...</td>\n",
       "      <td>2024-05-14</td>\n",
       "      <td>Credit reporting</td>\n",
       "      <td>Incorrect information on your report</td>\n",
       "      <td>Information belongs to someone else</td>\n",
       "      <td>Experian Information Solutions Inc.</td>\n",
       "      <td>VA</td>\n",
       "      <td>Yes</td>\n",
       "      <td>2</td>\n",
       "    </tr>\n",
       "    <tr>\n",
       "      <th>1251065</th>\n",
       "      <td>Loans</td>\n",
       "      <td>We are filing a complaint with ocwen for faili...</td>\n",
       "      <td>Mortgage</td>\n",
       "      <td>2020-12-15</td>\n",
       "      <td>Other type of mortgage</td>\n",
       "      <td>Trouble during payment process</td>\n",
       "      <td>NaN</td>\n",
       "      <td>Onity Group Inc.</td>\n",
       "      <td>CT</td>\n",
       "      <td>Yes</td>\n",
       "      <td>4</td>\n",
       "    </tr>\n",
       "    <tr>\n",
       "      <th>585568</th>\n",
       "      <td>Debt Collection</td>\n",
       "      <td>I continually receive a phone call stating tha...</td>\n",
       "      <td>Debt collection</td>\n",
       "      <td>2019-05-06</td>\n",
       "      <td>Credit card debt</td>\n",
       "      <td>Communication tactics</td>\n",
       "      <td>Used obscene, profane, or other abusive language</td>\n",
       "      <td>HSBC NORTH AMERICA HOLDINGS INC.</td>\n",
       "      <td>PA</td>\n",
       "      <td>Yes</td>\n",
       "      <td>3</td>\n",
       "    </tr>\n",
       "    <tr>\n",
       "      <th>1766848</th>\n",
       "      <td>Debt Collection</td>\n",
       "      <td>Statute of limitation expire but they keep har...</td>\n",
       "      <td>Debt collection</td>\n",
       "      <td>2016-03-15</td>\n",
       "      <td>Credit card</td>\n",
       "      <td>Taking/threatening an illegal action</td>\n",
       "      <td>Threatened to sue on too old debt</td>\n",
       "      <td>CAVALRY INVESTMENTS, LLC</td>\n",
       "      <td>NY</td>\n",
       "      <td>Yes</td>\n",
       "      <td>3</td>\n",
       "    </tr>\n",
       "    <tr>\n",
       "      <th>621517</th>\n",
       "      <td>Credit Reporting</td>\n",
       "      <td>After multiple of disputes no information prov...</td>\n",
       "      <td>Credit reporting, credit repair services, or o...</td>\n",
       "      <td>2021-07-20</td>\n",
       "      <td>Credit reporting</td>\n",
       "      <td>Problem with a credit reporting company's inve...</td>\n",
       "      <td>Their investigation did not fix an error on yo...</td>\n",
       "      <td>Santander Consumer USA Holdings Inc.</td>\n",
       "      <td>NY</td>\n",
       "      <td>Yes</td>\n",
       "      <td>2</td>\n",
       "    </tr>\n",
       "  </tbody>\n",
       "</table>\n",
       "</div>"
      ],
      "text/plain": [
       "                product_5                                          narrative  \\\n",
       "1348750  Credit Reporting  THESE ACCOUNTS ARE REPORTING INACCURATELY. PLE...   \n",
       "1251065             Loans  We are filing a complaint with ocwen for faili...   \n",
       "585568    Debt Collection  I continually receive a phone call stating tha...   \n",
       "1766848   Debt Collection  Statute of limitation expire but they keep har...   \n",
       "621517   Credit Reporting  After multiple of disputes no information prov...   \n",
       "\n",
       "                                                   Product Date received  \\\n",
       "1348750  Credit reporting or other personal consumer re...    2024-05-14   \n",
       "1251065                                           Mortgage    2020-12-15   \n",
       "585568                                     Debt collection    2019-05-06   \n",
       "1766848                                    Debt collection    2016-03-15   \n",
       "621517   Credit reporting, credit repair services, or o...    2021-07-20   \n",
       "\n",
       "                    Sub-product  \\\n",
       "1348750        Credit reporting   \n",
       "1251065  Other type of mortgage   \n",
       "585568         Credit card debt   \n",
       "1766848             Credit card   \n",
       "621517         Credit reporting   \n",
       "\n",
       "                                                     Issue  \\\n",
       "1348750               Incorrect information on your report   \n",
       "1251065                     Trouble during payment process   \n",
       "585568                               Communication tactics   \n",
       "1766848               Taking/threatening an illegal action   \n",
       "621517   Problem with a credit reporting company's inve...   \n",
       "\n",
       "                                                 Sub-issue  \\\n",
       "1348750                Information belongs to someone else   \n",
       "1251065                                                NaN   \n",
       "585568    Used obscene, profane, or other abusive language   \n",
       "1766848                  Threatened to sue on too old debt   \n",
       "621517   Their investigation did not fix an error on yo...   \n",
       "\n",
       "                                      Company State Timely response?  label  \n",
       "1348750   Experian Information Solutions Inc.    VA              Yes      2  \n",
       "1251065                      Onity Group Inc.    CT              Yes      4  \n",
       "585568       HSBC NORTH AMERICA HOLDINGS INC.    PA              Yes      3  \n",
       "1766848              CAVALRY INVESTMENTS, LLC    NY              Yes      3  \n",
       "621517   Santander Consumer USA Holdings Inc.    NY              Yes      2  "
      ]
     },
     "execution_count": 21,
     "metadata": {},
     "output_type": "execute_result"
    }
   ],
   "source": [
    "pd.reset_option(\"display.max_colwidth\") # para acortar la visualización del dataframe\n",
    "\n",
    "train_df.head()"
   ]
  },
  {
   "cell_type": "code",
   "execution_count": 22,
   "id": "0c89e1e4",
   "metadata": {},
   "outputs": [
    {
     "data": {
      "text/plain": [
       "label\n",
       "2    266842\n",
       "3    266842\n",
       "4    228599\n",
       "1    163710\n",
       "0    158640\n",
       "Name: count, dtype: int64"
      ]
     },
     "execution_count": 22,
     "metadata": {},
     "output_type": "execute_result"
    }
   ],
   "source": [
    "df_vproportional.label.value_counts()"
   ]
  },
  {
   "cell_type": "code",
   "execution_count": 23,
   "id": "fdcdfc8b",
   "metadata": {},
   "outputs": [
    {
     "data": {
      "text/plain": [
       "array(['Bank Accounts and Services', 'Credit Card Services',\n",
       "       'Credit Reporting', 'Debt Collection', 'Loans'], dtype=object)"
      ]
     },
     "execution_count": 23,
     "metadata": {},
     "output_type": "execute_result"
    }
   ],
   "source": [
    "le.classes_"
   ]
  },
  {
   "cell_type": "code",
   "execution_count": 22,
   "id": "8f3624b1",
   "metadata": {},
   "outputs": [
    {
     "data": {
      "text/plain": [
       "array(['Bank Accounts and Services'], dtype=object)"
      ]
     },
     "execution_count": 22,
     "metadata": {},
     "output_type": "execute_result"
    }
   ],
   "source": [
    "le.inverse_transform([0])"
   ]
  },
  {
   "cell_type": "code",
   "execution_count": 49,
   "id": "36a097e8",
   "metadata": {},
   "outputs": [],
   "source": [
    "vocab = build_vocab_from_iterator(\n",
    "    yield_tokens(df_vproportional[\"narrative\"], tokenizador_full, base_tokenizer, stop_words),\n",
    "    min_freq=3,\n",
    "    specials=[\"<unk>\"],\n",
    "    special_first=True,\n",
    "    max_tokens=10000\n",
    "    )\n",
    "\n",
    "vocab.set_default_index(vocab[\"<unk>\"])"
   ]
  },
  {
   "cell_type": "code",
   "execution_count": 79,
   "id": "c047212b",
   "metadata": {},
   "outputs": [],
   "source": [
    "label_pipeline = lambda x: x\n",
    "\n",
    "texto_pipeline = lambda x: vocab(tokenizador_full(x, base_tokenizer, stop_words))"
   ]
  },
  {
   "cell_type": "code",
   "execution_count": 47,
   "id": "5425db66",
   "metadata": {},
   "outputs": [],
   "source": [
    "tokenizador = partial(tokenizador_full, base_tokenizer=base_tokenizer, stop_words=stop_words)\n",
    "\n",
    "dataset_train = TextDataset(train_df, vocab, tokenizador)\n",
    "dataloader_train = DataLoader(dataset_train, batch_size=82, shuffle=True, collate_fn=collate_batch)\n",
    "\n",
    "dataset_test = TextDataset(test_df, vocab, tokenizador)\n",
    "dataloader_test = DataLoader(dataset_test, batch_size=82, shuffle=True, collate_fn=collate_batch)\n",
    "\n",
    "dataset_dev = TextDataset(dev_df, vocab, tokenizador)\n",
    "dataloader_dev = DataLoader(dataset_dev, batch_size=82, shuffle=True, collate_fn=collate_batch)"
   ]
  },
  {
   "cell_type": "code",
   "execution_count": 50,
   "id": "fbc28c19",
   "metadata": {},
   "outputs": [
    {
     "data": {
      "text/plain": [
       "(tensor([  32,   22, 1581,    1,   51,  125,    1]), tensor(2))"
      ]
     },
     "execution_count": 50,
     "metadata": {},
     "output_type": "execute_result"
    }
   ],
   "source": [
    "next(iter(dataset_train))"
   ]
  },
  {
   "cell_type": "code",
   "execution_count": 51,
   "id": "9fbeaad8",
   "metadata": {},
   "outputs": [
    {
     "data": {
      "text/plain": [
       "__main__.TextDataset"
      ]
     },
     "execution_count": 51,
     "metadata": {},
     "output_type": "execute_result"
    }
   ],
   "source": [
    "type(dataset_train)"
   ]
  },
  {
   "cell_type": "code",
   "execution_count": 35,
   "id": "7cfe08ad",
   "metadata": {},
   "outputs": [
    {
     "data": {
      "text/plain": [
       "10000"
      ]
     },
     "execution_count": 35,
     "metadata": {},
     "output_type": "execute_result"
    }
   ],
   "source": [
    "len(vocab)"
   ]
  },
  {
   "cell_type": "code",
   "execution_count": null,
   "id": "654e9ebb",
   "metadata": {},
   "outputs": [],
   "source": []
  },
  {
   "cell_type": "code",
   "execution_count": 55,
   "id": "94b6ebdd",
   "metadata": {},
   "outputs": [],
   "source": [
    "# con set() elimino repetidos y obtengo el numero de clases en el dataset\n",
    "num_class = len(set(train_df.label))\n",
    "vocab_size = len(vocab)\n",
    "embedding_size = EMBEDDING_SIZES\n",
    "\n",
    "modelo = ModeloClasificacionTexto(vocab_size=vocab_size, embed_dim=embedding_size, num_class=num_class).to(device)"
   ]
  },
  {
   "cell_type": "code",
   "execution_count": 56,
   "id": "a926d5af",
   "metadata": {},
   "outputs": [
    {
     "data": {
      "text/plain": [
       "5"
      ]
     },
     "execution_count": 56,
     "metadata": {},
     "output_type": "execute_result"
    }
   ],
   "source": [
    "num_class"
   ]
  },
  {
   "cell_type": "code",
   "execution_count": 59,
   "id": "8116fec8",
   "metadata": {},
   "outputs": [
    {
     "name": "stdout",
     "output_type": "stream",
     "text": [
      "ModeloClasificacionTexto(\n",
      "  (embedding): Embedding(10000, 100, padding_idx=0)\n",
      "  (bn1): BatchNorm1d(100, eps=1e-05, momentum=0.1, affine=True, track_running_stats=True)\n",
      "  (fc): Linear(in_features=100, out_features=5, bias=True)\n",
      ")\n"
     ]
    }
   ],
   "source": [
    "print(modelo)"
   ]
  },
  {
   "cell_type": "code",
   "execution_count": 61,
   "id": "dee6b4c1",
   "metadata": {},
   "outputs": [
    {
     "name": "stdout",
     "output_type": "stream",
     "text": [
      "El modelo tiene 1,000,705 parámetros entrenables\n"
     ]
    }
   ],
   "source": [
    "print(f'El modelo tiene {count_parameters(modelo):,} parámetros entrenables')"
   ]
  },
  {
   "cell_type": "code",
   "execution_count": null,
   "id": "68f72e52",
   "metadata": {},
   "outputs": [],
   "source": []
  },
  {
   "cell_type": "code",
   "execution_count": 65,
   "id": "a1ae9373",
   "metadata": {},
   "outputs": [],
   "source": [
    "# función de pérdida\n",
    "criterio = torch.nn.CrossEntropyLoss() # la convencción para llamar la función de pérdida es nombrarla criterio\n",
    "# optimizer = torch.optim.SGD(modelo.parameters(), lr=TASA_APRENDIZAJE)\n",
    "optimizer = torch.optim.Adam(modelo.parameters(), lr=TASA_APRENDIZAJE)"
   ]
  },
  {
   "cell_type": "code",
   "execution_count": 45,
   "id": "b3c68692",
   "metadata": {},
   "outputs": [
    {
     "name": "stdout",
     "output_type": "stream",
     "text": [
      "<__main__.TextDataset object at 0x42da67390>\n"
     ]
    }
   ],
   "source": [
    "print(dataset_train)"
   ]
  },
  {
   "cell_type": "code",
   "execution_count": 66,
   "id": "81d2dcad",
   "metadata": {},
   "outputs": [
    {
     "data": {
      "text/plain": [
       "7937"
      ]
     },
     "execution_count": 66,
     "metadata": {},
     "output_type": "execute_result"
    }
   ],
   "source": [
    "len(dataloader_train)"
   ]
  },
  {
   "cell_type": "code",
   "execution_count": 67,
   "id": "bffc27d0",
   "metadata": {},
   "outputs": [
    {
     "data": {
      "text/plain": [
       "2646"
      ]
     },
     "execution_count": 67,
     "metadata": {},
     "output_type": "execute_result"
    }
   ],
   "source": [
    "len(dataloader_test)"
   ]
  },
  {
   "cell_type": "code",
   "execution_count": 68,
   "id": "8988f1e8",
   "metadata": {},
   "outputs": [
    {
     "data": {
      "text/plain": [
       "2646"
      ]
     },
     "execution_count": 68,
     "metadata": {},
     "output_type": "execute_result"
    }
   ],
   "source": [
    "len(dataloader_dev)"
   ]
  },
  {
   "cell_type": "code",
   "execution_count": 69,
   "id": "6788eb7b",
   "metadata": {},
   "outputs": [
    {
     "data": {
      "text/plain": [
       "(tensor([3, 3, 1, 4, 2, 0, 2, 0, 4, 0, 3, 0, 2, 0, 2, 1, 2, 4, 2, 2, 2, 3, 3, 4,\n",
       "         1, 3, 3, 3, 2, 0, 3, 1, 0, 1, 3, 3, 3, 2, 1, 4, 0, 1, 2, 4, 3, 0, 0, 2,\n",
       "         2, 2, 3, 2, 1, 1, 0, 2, 2, 4, 3, 0, 0, 2, 3, 4, 3, 2, 1, 3, 1, 2, 1, 2,\n",
       "         3, 2, 3, 3, 3, 2, 3, 0, 2, 3], device='mps:0'),\n",
       " tensor([[ 283,    0,   47,  ...,    0,    0,    0],\n",
       "         [  39,   39,    0,  ...,    0,    0,    0],\n",
       "         [ 116, 2581,  653,  ...,    0,    0,    0],\n",
       "         ...,\n",
       "         [ 128,  351,  181,  ...,    0,    0,    0],\n",
       "         [ 298,   11,  176,  ...,    0,    0,    0],\n",
       "         [  47,   16,    0,  ...,    0,    0,    0]], device='mps:0'))"
      ]
     },
     "execution_count": 69,
     "metadata": {},
     "output_type": "execute_result"
    }
   ],
   "source": [
    "next(iter(dataloader_train))"
   ]
  },
  {
   "cell_type": "markdown",
   "id": "9990b424",
   "metadata": {},
   "source": [
    "### Segunda revisión de la proporción de clases antes de entrenar el modelo"
   ]
  },
  {
   "cell_type": "code",
   "execution_count": 70,
   "id": "46ee6448",
   "metadata": {},
   "outputs": [],
   "source": [
    "category_mapping = {i: label for i, label in enumerate(le.classes_)}"
   ]
  },
  {
   "cell_type": "code",
   "execution_count": 71,
   "id": "028ce923",
   "metadata": {},
   "outputs": [
    {
     "name": "stdout",
     "output_type": "stream",
     "text": [
      "Bank Accounts and Services    14.6%\n",
      "Credit Card Services          15.1%\n",
      "Credit Reporting              24.6%\n",
      "Debt Collection               24.6%\n",
      "Loans                         21.1%\n",
      "Name: proportion, dtype: object\n"
     ]
    }
   ],
   "source": [
    "labels_train = [label for label, _ in dataloader_train]  \n",
    "labels_train = torch.cat(labels_train).cpu().numpy()\n",
    "\n",
    "percentage_train_class = (\n",
    "    pd.Series(labels_train)\n",
    "    .value_counts(normalize=True)\n",
    "    .sort_index()\n",
    "    .mul(100)\n",
    "    .round(1)\n",
    "    .astype(str) + '%'\n",
    "    )\n",
    "\n",
    "percentage_train_class = percentage_train_class.rename(index=category_mapping)\n",
    "\n",
    "print(percentage_train_class)"
   ]
  },
  {
   "cell_type": "code",
   "execution_count": 72,
   "id": "842d3f70",
   "metadata": {},
   "outputs": [
    {
     "name": "stdout",
     "output_type": "stream",
     "text": [
      "Bank Accounts and Services    14.6%\n",
      "Credit Card Services          15.1%\n",
      "Credit Reporting              24.6%\n",
      "Debt Collection               24.6%\n",
      "Loans                         21.1%\n",
      "Name: proportion, dtype: object\n"
     ]
    }
   ],
   "source": [
    "labels_valid = [label for label, _ in dataloader_test]\n",
    "labels_valid = torch.cat(labels_valid).cpu().numpy()\n",
    "\n",
    "percentage_valid_class = (\n",
    "    pd.Series(labels_valid)\n",
    "    .value_counts(normalize=True)\n",
    "    .sort_index()\n",
    "    .mul(100)\n",
    "    .round(1)\n",
    "    .astype(str) + '%'\n",
    ")\n",
    "\n",
    "percentage_valid_class = percentage_valid_class.rename(index=category_mapping)\n",
    "\n",
    "print(percentage_valid_class)"
   ]
  },
  {
   "cell_type": "code",
   "execution_count": 73,
   "id": "8152bd70",
   "metadata": {},
   "outputs": [
    {
     "name": "stdout",
     "output_type": "stream",
     "text": [
      "Bank Accounts and Services    14.6%\n",
      "Credit Card Services          15.1%\n",
      "Credit Reporting              24.6%\n",
      "Debt Collection               24.6%\n",
      "Loans                         21.1%\n",
      "Name: proportion, dtype: object\n"
     ]
    }
   ],
   "source": [
    "dataloader_val = dataloader_dev # cambio de nombre por datos de validación\n",
    "labels_test = [label for label, _ in dataloader_val]\n",
    "labels_test = torch.cat(labels_test).cpu().numpy()\n",
    "\n",
    "percentage_test_class = (\n",
    "    pd.Series(labels_test)\n",
    "    .value_counts(normalize=True)\n",
    "    .sort_index()\n",
    "    .mul(100)\n",
    "    .round(1)\n",
    "    .astype(str) + '%'\n",
    ")\n",
    "\n",
    "percentage_test_class = percentage_test_class.rename(index=category_mapping)\n",
    "\n",
    "print(percentage_test_class)"
   ]
  },
  {
   "cell_type": "markdown",
   "id": "394188f1",
   "metadata": {},
   "source": [
    "### Ejecución del entrenamiento del modelo"
   ]
  },
  {
   "cell_type": "code",
   "execution_count": 74,
   "id": "ac8aa64f",
   "metadata": {},
   "outputs": [
    {
     "name": "stderr",
     "output_type": "stream",
     "text": [
      "/var/folders/8x/shhvyxrd77s8h2qsqg9jtg5m0000gn/T/ipykernel_68581/1758233626.py:32: UserWarning: torch.nn.utils.clip_grad_norm is now deprecated in favor of torch.nn.utils.clip_grad_norm_.\n",
      "  torch.nn.utils.clip_grad_norm(modelo.parameters(), 0.1)\n"
     ]
    },
    {
     "name": "stdout",
     "output_type": "stream",
     "text": [
      "epoca 1 | 500/7937 batches | perdida 0.008125622144466679 | accuracy 0.7677084854680882\n",
      "epoca 1 | 1000/7937 batches | perdida 0.007410723342683702 | accuracy 0.7914646329280476\n",
      "epoca 1 | 1500/7937 batches | perdida 0.007021511416889601 | accuracy 0.8032693651386881\n",
      "epoca 1 | 2000/7937 batches | perdida 0.006774757239649322 | accuracy 0.8104362452919881\n",
      "epoca 1 | 2500/7937 batches | perdida 0.006641923721144297 | accuracy 0.8140158570718055\n",
      "epoca 1 | 3000/7937 batches | perdida 0.006525107246173891 | accuracy 0.8178249526580571\n",
      "epoca 1 | 3500/7937 batches | perdida 0.006418516466603649 | accuracy 0.8211242780808271\n",
      "epoca 1 | 4000/7937 batches | perdida 0.006337073674250131 | accuracy 0.8235989783042045\n",
      "epoca 1 | 4500/7937 batches | perdida 0.006274236385501801 | accuracy 0.8255943123750278\n",
      "epoca 1 | 5000/7937 batches | perdida 0.006214607396544036 | accuracy 0.8273052706531865\n",
      "epoca 1 | 5500/7937 batches | perdida 0.006171158491251977 | accuracy 0.828583273107772\n",
      "epoca 1 | 6000/7937 batches | perdida 0.006122573356339437 | accuracy 0.829898268987689\n",
      "epoca 1 | 6500/7937 batches | perdida 0.006074276222640652 | accuracy 0.8312811162260215\n",
      "epoca 1 | 7000/7937 batches | perdida 0.00604166589548927 | accuracy 0.8321703171323958\n",
      "epoca 1 | 7500/7937 batches | perdida 0.006013333974573315 | accuracy 0.8329669865156191\n",
      "epoca 2 | 500/7937 batches | perdida 0.005171987841858916 | accuracy 0.8571150382162505\n",
      "epoca 2 | 1000/7937 batches | perdida 0.005062622975668146 | accuracy 0.8592992373480178\n",
      "epoca 2 | 1500/7937 batches | perdida 0.005075724923277123 | accuracy 0.8588583220942136\n",
      "epoca 2 | 2000/7937 batches | perdida 0.005086686281305193 | accuracy 0.8584427298545849\n",
      "epoca 2 | 2500/7937 batches | perdida 0.005091557483674909 | accuracy 0.8580811577807901\n",
      "epoca 2 | 3000/7937 batches | perdida 0.0050843329615371125 | accuracy 0.8586081062410091\n",
      "epoca 2 | 3500/7937 batches | perdida 0.005081465719513823 | accuracy 0.8586605917473057\n",
      "epoca 2 | 4000/7937 batches | perdida 0.005084869843486046 | accuracy 0.8587365353783505\n",
      "epoca 2 | 4500/7937 batches | perdida 0.005100521133453055 | accuracy 0.8582835250703096\n",
      "epoca 2 | 5000/7937 batches | perdida 0.0051052648905489375 | accuracy 0.8580308328578187\n",
      "epoca 2 | 5500/7937 batches | perdida 0.005107832496400831 | accuracy 0.857983692543706\n",
      "epoca 2 | 6000/7937 batches | perdida 0.005114714781343631 | accuracy 0.8578773456456444\n",
      "epoca 2 | 6500/7937 batches | perdida 0.005122608520245523 | accuracy 0.8576616730634311\n",
      "epoca 2 | 7000/7937 batches | perdida 0.005122416486276749 | accuracy 0.8576405461240729\n",
      "epoca 2 | 7500/7937 batches | perdida 0.005127389265389737 | accuracy 0.8575295651636692\n",
      "epoca 3 | 500/7937 batches | perdida 0.004761102884684314 | accuracy 0.8670950781364101\n",
      "epoca 3 | 1000/7937 batches | perdida 0.004750702071031142 | accuracy 0.8676689164494042\n",
      "epoca 3 | 1500/7937 batches | perdida 0.004787726449539984 | accuracy 0.8676573341349669\n",
      "epoca 3 | 2000/7937 batches | perdida 0.004761329622156923 | accuracy 0.8679440767421167\n",
      "epoca 3 | 2500/7937 batches | perdida 0.004782824793133546 | accuracy 0.8672628509571781\n",
      "epoca 3 | 3000/7937 batches | perdida 0.004785785832338123 | accuracy 0.8669224079778285\n",
      "epoca 3 | 3500/7937 batches | perdida 0.004793661220614132 | accuracy 0.8669787726154896\n",
      "epoca 3 | 4000/7937 batches | perdida 0.004804479384177257 | accuracy 0.8666004230649654\n",
      "epoca 3 | 4500/7937 batches | perdida 0.004805824407145387 | accuracy 0.8666421012132806\n",
      "epoca 3 | 5000/7937 batches | perdida 0.0048120915196429494 | accuracy 0.8663730668500447\n",
      "epoca 3 | 5500/7937 batches | perdida 0.004823745056121906 | accuracy 0.8659733706953503\n",
      "epoca 3 | 6000/7937 batches | perdida 0.004821911901797006 | accuracy 0.8659776216159095\n",
      "epoca 3 | 6500/7937 batches | perdida 0.004818235772803561 | accuracy 0.8660224880975159\n",
      "epoca 3 | 7000/7937 batches | perdida 0.004816566245618489 | accuracy 0.8660330754143136\n",
      "epoca 3 | 7500/7937 batches | perdida 0.004811725140915093 | accuracy 0.8661869474313993\n",
      "epoca 4 | 500/7937 batches | perdida 0.004440334993655108 | accuracy 0.8756146244097172\n",
      "epoca 4 | 1000/7937 batches | perdida 0.00437987675202154 | accuracy 0.8772447065129992\n",
      "epoca 4 | 1500/7937 batches | perdida 0.004395258563520329 | accuracy 0.8765538421540111\n",
      "epoca 4 | 2000/7937 batches | perdida 0.004423781848725654 | accuracy 0.8766226642776173\n",
      "epoca 4 | 2500/7937 batches | perdida 0.00446486235268863 | accuracy 0.8757082532840522\n",
      "epoca 4 | 3000/7937 batches | perdida 0.00449158101657505 | accuracy 0.8750091432936988\n",
      "epoca 4 | 3500/7937 batches | perdida 0.004498579068801982 | accuracy 0.8748301878905679\n",
      "epoca 4 | 4000/7937 batches | perdida 0.00451293217483326 | accuracy 0.8746014715833237\n",
      "epoca 4 | 4500/7937 batches | perdida 0.004532113963526758 | accuracy 0.8742203629545737\n",
      "epoca 4 | 5000/7937 batches | perdida 0.004538806384964916 | accuracy 0.8738666900766188\n",
      "epoca 4 | 5500/7937 batches | perdida 0.004540140830926243 | accuracy 0.8737590947987284\n",
      "epoca 4 | 6000/7937 batches | perdida 0.004548458498868079 | accuracy 0.8735657878158518\n",
      "epoca 4 | 6500/7937 batches | perdida 0.004554611637680571 | accuracy 0.8733271804337794\n",
      "epoca 4 | 7000/7937 batches | perdida 0.004563445929707187 | accuracy 0.873009430708505\n",
      "epoca 4 | 7500/7937 batches | perdida 0.004566651551088038 | accuracy 0.8728397189317847\n",
      "epoca 5 | 500/7937 batches | perdida 0.004140884648624213 | accuracy 0.8828927510831994\n",
      "epoca 5 | 1000/7937 batches | perdida 0.004169949482951125 | accuracy 0.8821544309349187\n",
      "epoca 5 | 1500/7937 batches | perdida 0.0042217953071552435 | accuracy 0.8817536276628589\n",
      "epoca 5 | 2000/7937 batches | perdida 0.004257998085922788 | accuracy 0.8813824794919614\n",
      "epoca 5 | 2500/7937 batches | perdida 0.00426561387649221 | accuracy 0.8814181644415404\n",
      "epoca 5 | 3000/7937 batches | perdida 0.004276858168335246 | accuracy 0.881120927170618\n",
      "epoca 5 | 3500/7937 batches | perdida 0.004286526306622671 | accuracy 0.8808215074438662\n",
      "epoca 5 | 4000/7937 batches | perdida 0.00429809586119498 | accuracy 0.8805603477179486\n",
      "epoca 5 | 4500/7937 batches | perdida 0.004313176393199004 | accuracy 0.8801594225673428\n",
      "epoca 5 | 5000/7937 batches | perdida 0.004316995713673878 | accuracy 0.8799581547105213\n",
      "epoca 5 | 5500/7937 batches | perdida 0.004326095036599829 | accuracy 0.8795252304459056\n",
      "epoca 5 | 6000/7937 batches | perdida 0.004333212060566532 | accuracy 0.87943676053991\n",
      "epoca 5 | 6500/7937 batches | perdida 0.004340245164199993 | accuracy 0.8793074986587429\n",
      "epoca 5 | 7000/7937 batches | perdida 0.0043458472864472625 | accuracy 0.8790904435254894\n",
      "epoca 5 | 7500/7937 batches | perdida 0.004349754412778987 | accuracy 0.8790909179589063\n",
      "epoca 6 | 500/7937 batches | perdida 0.003982147777800458 | accuracy 0.8891728737646658\n",
      "epoca 6 | 1000/7937 batches | perdida 0.004051281600865248 | accuracy 0.8872590823810336\n",
      "epoca 6 | 1500/7937 batches | perdida 0.004067022447479734 | accuracy 0.8868396678637006\n",
      "epoca 6 | 2000/7937 batches | perdida 0.004065743168884922 | accuracy 0.8869467705171804\n",
      "epoca 6 | 2500/7937 batches | perdida 0.004084159365171186 | accuracy 0.8863088910777153\n",
      "epoca 6 | 3000/7937 batches | perdida 0.004101809932327731 | accuracy 0.885680382961777\n",
      "epoca 6 | 3500/7937 batches | perdida 0.004103013205324457 | accuracy 0.8858618791843446\n",
      "epoca 6 | 4000/7937 batches | perdida 0.0041048919560727 | accuracy 0.8855255698270554\n",
      "epoca 6 | 4500/7937 batches | perdida 0.004109349960507679 | accuracy 0.8854509296037195\n",
      "epoca 6 | 5000/7937 batches | perdida 0.0041283588475119724 | accuracy 0.8852424637023815\n",
      "epoca 6 | 5500/7937 batches | perdida 0.004136375468046976 | accuracy 0.8849987363716575\n",
      "epoca 6 | 6000/7937 batches | perdida 0.004154705506984783 | accuracy 0.8844115411659033\n",
      "epoca 6 | 6500/7937 batches | perdida 0.00416854744144182 | accuracy 0.884109761725213\n",
      "epoca 6 | 7000/7937 batches | perdida 0.004175661317153407 | accuracy 0.8838458617410057\n",
      "epoca 6 | 7500/7937 batches | perdida 0.004183593849633857 | accuracy 0.8836317759258115\n"
     ]
    }
   ],
   "source": [
    "# obtención de la mejor pérdida, cuál es el que da el valor más pequeño de pérdida\n",
    "major_loss_validation = float('inf') # inf: que puede tomar muchos valores diferentes\n",
    "\n",
    "# Entrenamos\n",
    "for epoch in range(1, EPOCHS+1):\n",
    "  # entrenamiento\n",
    "  entrenamiento_acc, entrenamiento_loss = entrena(dataloader_train, modelo, optimizer, criterio, epoch)\n",
    "\n",
    "  # validación\n",
    "  validacion_acc, validacion_loss = evalua(dataloader_val, modelo, criterio)\n",
    "\n",
    "  # guardamos el modelo con los mejores pesos\n",
    "  # si la pérdida del modelo de validación es menor que el major_loss_validation\n",
    "  if validacion_loss < major_loss_validation:\n",
    "    best_valid_loss = validacion_loss\n",
    "    torch.save(modelo.state_dict(), \"mejores_pesos_guardados.pt\") # modelo Pytorch termina en .pt"
   ]
  },
  {
   "cell_type": "code",
   "execution_count": 76,
   "id": "32bd989d",
   "metadata": {},
   "outputs": [
    {
     "name": "stdout",
     "output_type": "stream",
     "text": [
      "Accuracy del test dataset -> 0.8223872546985852\n",
      "Pérdida del test dataset -> 0.0064647285887579195\n"
     ]
    }
   ],
   "source": [
    "# Evaluación del modelo\n",
    "test_acc, test_loss = evalua(dataloader_test, modelo, criterio)\n",
    "\n",
    "# aquí se evalua si el modelo aprendió de forma correcta, si es bueno generalizando\n",
    "print(f'Accuracy del test dataset -> {test_acc}')\n",
    "print(f'Pérdida del test dataset -> {test_loss}')"
   ]
  },
  {
   "cell_type": "markdown",
   "id": "f1b3427b",
   "metadata": {},
   "source": [
    "### Pruebas de Inferencia"
   ]
  },
  {
   "cell_type": "code",
   "execution_count": 81,
   "id": "77f80609",
   "metadata": {},
   "outputs": [
    {
     "name": "stdout",
     "output_type": "stream",
     "text": [
      "El emeplo 1 es de categoría Credit Reporting\n"
     ]
    }
   ],
   "source": [
    "# Traemos el mapeo entre entero encodizado y su clase string correspondiente\n",
    "category_mapping = {i: label for i, label in enumerate(le.classes_)}\n",
    "\n",
    "ejemplo_1 = \"I have a problem with my credit report\"\n",
    "\n",
    "model = modelo.to(\"cpu\") # no es necesario gpu\n",
    "\n",
    "print(f'El emeplo 1 es de categoría {category_mapping[predict(ejemplo_1, texto_pipeline, model)]}')"
   ]
  },
  {
   "cell_type": "code",
   "execution_count": 83,
   "id": "c7e77c6c",
   "metadata": {},
   "outputs": [
    {
     "name": "stdout",
     "output_type": "stream",
     "text": [
      "El emeplo 2 es de categoría Credit Card Services\n"
     ]
    }
   ],
   "source": [
    "ejemplo_2 = \"Can you help me with a credit card for my job?\"\n",
    "\n",
    "print(f'El emeplo 2 es de categoría {category_mapping[predict(ejemplo_2, texto_pipeline, model)]}')"
   ]
  },
  {
   "cell_type": "code",
   "execution_count": 85,
   "id": "9d08df45",
   "metadata": {},
   "outputs": [
    {
     "name": "stdout",
     "output_type": "stream",
     "text": [
      "El ejemplo 3 es de Loans\n"
     ]
    }
   ],
   "source": [
    "ejemplo_3 = \"Loans Loans loans I have many loans\"\n",
    "\n",
    "print(f'El ejemplo 3 es de {category_mapping[predict(ejemplo_3, texto_pipeline, model)]}')"
   ]
  },
  {
   "cell_type": "markdown",
   "id": "479dd13e",
   "metadata": {},
   "source": [
    "### Almacenamiento local del modelo"
   ]
  },
  {
   "cell_type": "code",
   "execution_count": null,
   "id": "436876d9",
   "metadata": {},
   "outputs": [],
   "source": [
    "# se usará el método state_dict() para extraer todos los parámetros (pesos) del model entrenado\n",
    "# y poderlo usar en otros modelos cuando queramos.\n",
    "# Nos ayuda a guardar el modelo, para seguirlo entrenando o realizar inferencia\n",
    "\n",
    "model_state_dict = model.state_dict()\n",
    "optimizer_state_dict = optimizer.state_dict()\n",
    "\n",
    "# checkpoint o punto de guardado para futuros usos\n",
    "\n",
    "checkpoint = {\n",
    "    \"model_state_dict\" : model_state_dict,\n",
    "    \"optimizer_state_dict\" : optimizer_state_dict,\n",
    "    \"epoch\" : epoch,\n",
    "    \"loss\" : entrenamiento_loss\n",
    "}\n",
    "\n",
    "torch.save(checkpoint, \"model_checkpoint.pth\") # pth o pt pueden usarse\n",
    "\n",
    "torch.save(vocab, \"vocab.pt\") # Almacenamiento del vocabulario"
   ]
  },
  {
   "cell_type": "code",
   "execution_count": null,
   "id": "3e54a753",
   "metadata": {},
   "outputs": [],
   "source": [
    "#TODO: añadir código para graficar perdida del modelo\n",
    "# "
   ]
  }
 ],
 "metadata": {
  "kernelspec": {
   "display_name": ".venv",
   "language": "python",
   "name": "python3"
  },
  "language_info": {
   "codemirror_mode": {
    "name": "ipython",
    "version": 3
   },
   "file_extension": ".py",
   "mimetype": "text/x-python",
   "name": "python",
   "nbconvert_exporter": "python",
   "pygments_lexer": "ipython3",
   "version": "3.11.12"
  }
 },
 "nbformat": 4,
 "nbformat_minor": 5
}
