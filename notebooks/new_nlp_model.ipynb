{
 "cells": [
  {
   "cell_type": "code",
   "execution_count": 1,
   "id": "3688391a",
   "metadata": {},
   "outputs": [],
   "source": [
    "import pandas as pd\n",
    "import matplotlib.pyplot as plt\n",
    "import seaborn as sns"
   ]
  },
  {
   "cell_type": "code",
   "execution_count": 2,
   "id": "35451cba",
   "metadata": {},
   "outputs": [],
   "source": [
    "path_data = \"../dataset/complaints.csv\"\n",
    "\n",
    "df = pd.read_csv(path_data, index_col=0)\n",
    "df.reset_index(drop=True, inplace=True)"
   ]
  },
  {
   "cell_type": "code",
   "execution_count": 3,
   "id": "71580f45",
   "metadata": {},
   "outputs": [],
   "source": [
    "# df = df.sample(frac=0.1, random_state=10)"
   ]
  },
  {
   "cell_type": "code",
   "execution_count": 4,
   "id": "84534db2",
   "metadata": {},
   "outputs": [
    {
     "data": {
      "text/html": [
       "<div>\n",
       "<style scoped>\n",
       "    .dataframe tbody tr th:only-of-type {\n",
       "        vertical-align: middle;\n",
       "    }\n",
       "\n",
       "    .dataframe tbody tr th {\n",
       "        vertical-align: top;\n",
       "    }\n",
       "\n",
       "    .dataframe thead th {\n",
       "        text-align: right;\n",
       "    }\n",
       "</style>\n",
       "<table border=\"1\" class=\"dataframe\">\n",
       "  <thead>\n",
       "    <tr style=\"text-align: right;\">\n",
       "      <th></th>\n",
       "      <th>product_5</th>\n",
       "      <th>narrative</th>\n",
       "      <th>Product</th>\n",
       "      <th>Date received</th>\n",
       "      <th>Sub-product</th>\n",
       "      <th>Issue</th>\n",
       "      <th>Sub-issue</th>\n",
       "      <th>Company</th>\n",
       "      <th>State</th>\n",
       "      <th>Timely response?</th>\n",
       "    </tr>\n",
       "  </thead>\n",
       "  <tbody>\n",
       "    <tr>\n",
       "      <th>0</th>\n",
       "      <td>Credit Reporting</td>\n",
       "      <td>Dear Possible Financial Inc you guyss aree rep...</td>\n",
       "      <td>Credit reporting or other personal consumer re...</td>\n",
       "      <td>2024-07-27</td>\n",
       "      <td>Credit reporting</td>\n",
       "      <td>Incorrect information on your report</td>\n",
       "      <td>Account information incorrect</td>\n",
       "      <td>Possible Financial Inc</td>\n",
       "      <td>MI</td>\n",
       "      <td>Yes</td>\n",
       "    </tr>\n",
       "    <tr>\n",
       "      <th>1</th>\n",
       "      <td>Debt Collection</td>\n",
       "      <td>XXXX XXXX XXXX ( debt collector ), sent my boy...</td>\n",
       "      <td>Debt collection</td>\n",
       "      <td>2024-07-27</td>\n",
       "      <td>I do not know</td>\n",
       "      <td>Threatened to contact someone or share informa...</td>\n",
       "      <td>Talked to a third-party about your debt</td>\n",
       "      <td>BlueChip Financial</td>\n",
       "      <td>TX</td>\n",
       "      <td>Yes</td>\n",
       "    </tr>\n",
       "    <tr>\n",
       "      <th>2</th>\n",
       "      <td>Credit Reporting</td>\n",
       "      <td>I been receiving alerts my information was fou...</td>\n",
       "      <td>Credit reporting or other personal consumer re...</td>\n",
       "      <td>2024-07-23</td>\n",
       "      <td>Credit reporting</td>\n",
       "      <td>Improper use of your report</td>\n",
       "      <td>Credit inquiries on your report that you don't...</td>\n",
       "      <td>FC HoldCo LLC</td>\n",
       "      <td>SC</td>\n",
       "      <td>Yes</td>\n",
       "    </tr>\n",
       "    <tr>\n",
       "      <th>3</th>\n",
       "      <td>Credit Reporting</td>\n",
       "      <td>Subject : Dispute of Inaccurate Information on...</td>\n",
       "      <td>Credit reporting or other personal consumer re...</td>\n",
       "      <td>2024-07-27</td>\n",
       "      <td>Credit reporting</td>\n",
       "      <td>Improper use of your report</td>\n",
       "      <td>Reporting company used your report improperly</td>\n",
       "      <td>CORELOGIC INC</td>\n",
       "      <td>GA</td>\n",
       "      <td>Yes</td>\n",
       "    </tr>\n",
       "    <tr>\n",
       "      <th>4</th>\n",
       "      <td>Loans</td>\n",
       "      <td>They allowed me to use the account for about a...</td>\n",
       "      <td>Payday loan, title loan, personal loan, or adv...</td>\n",
       "      <td>2024-07-26</td>\n",
       "      <td>Payday loan</td>\n",
       "      <td>Received a loan you didn't apply for</td>\n",
       "      <td>NaN</td>\n",
       "      <td>MoneyLion Inc.</td>\n",
       "      <td>PA</td>\n",
       "      <td>Yes</td>\n",
       "    </tr>\n",
       "  </tbody>\n",
       "</table>\n",
       "</div>"
      ],
      "text/plain": [
       "          product_5                                          narrative  \\\n",
       "0  Credit Reporting  Dear Possible Financial Inc you guyss aree rep...   \n",
       "1   Debt Collection  XXXX XXXX XXXX ( debt collector ), sent my boy...   \n",
       "2  Credit Reporting  I been receiving alerts my information was fou...   \n",
       "3  Credit Reporting  Subject : Dispute of Inaccurate Information on...   \n",
       "4             Loans  They allowed me to use the account for about a...   \n",
       "\n",
       "                                             Product Date received  \\\n",
       "0  Credit reporting or other personal consumer re...    2024-07-27   \n",
       "1                                    Debt collection    2024-07-27   \n",
       "2  Credit reporting or other personal consumer re...    2024-07-23   \n",
       "3  Credit reporting or other personal consumer re...    2024-07-27   \n",
       "4  Payday loan, title loan, personal loan, or adv...    2024-07-26   \n",
       "\n",
       "        Sub-product                                              Issue  \\\n",
       "0  Credit reporting               Incorrect information on your report   \n",
       "1     I do not know  Threatened to contact someone or share informa...   \n",
       "2  Credit reporting                        Improper use of your report   \n",
       "3  Credit reporting                        Improper use of your report   \n",
       "4       Payday loan               Received a loan you didn't apply for   \n",
       "\n",
       "                                           Sub-issue                 Company  \\\n",
       "0                      Account information incorrect  Possible Financial Inc   \n",
       "1            Talked to a third-party about your debt      BlueChip Financial   \n",
       "2  Credit inquiries on your report that you don't...           FC HoldCo LLC   \n",
       "3      Reporting company used your report improperly           CORELOGIC INC   \n",
       "4                                                NaN          MoneyLion Inc.   \n",
       "\n",
       "  State Timely response?  \n",
       "0    MI              Yes  \n",
       "1    TX              Yes  \n",
       "2    SC              Yes  \n",
       "3    GA              Yes  \n",
       "4    PA              Yes  "
      ]
     },
     "execution_count": 4,
     "metadata": {},
     "output_type": "execute_result"
    }
   ],
   "source": [
    "df.head()"
   ]
  },
  {
   "cell_type": "code",
   "execution_count": 70,
   "id": "354bfcf3",
   "metadata": {},
   "outputs": [],
   "source": [
    "# pd.set_option(\"display.max_colwidth\", None)\n",
    "pd.reset_option(\"display.max_colwidth\")\n"
   ]
  },
  {
   "cell_type": "code",
   "execution_count": 71,
   "id": "9d4283da",
   "metadata": {},
   "outputs": [
    {
     "data": {
      "text/html": [
       "<div>\n",
       "<style scoped>\n",
       "    .dataframe tbody tr th:only-of-type {\n",
       "        vertical-align: middle;\n",
       "    }\n",
       "\n",
       "    .dataframe tbody tr th {\n",
       "        vertical-align: top;\n",
       "    }\n",
       "\n",
       "    .dataframe thead th {\n",
       "        text-align: right;\n",
       "    }\n",
       "</style>\n",
       "<table border=\"1\" class=\"dataframe\">\n",
       "  <thead>\n",
       "    <tr style=\"text-align: right;\">\n",
       "      <th></th>\n",
       "      <th>narrative</th>\n",
       "      <th>product_5</th>\n",
       "    </tr>\n",
       "  </thead>\n",
       "  <tbody>\n",
       "    <tr>\n",
       "      <th>4</th>\n",
       "      <td>They allowed me to use the account for about a...</td>\n",
       "      <td>Loans</td>\n",
       "    </tr>\n",
       "    <tr>\n",
       "      <th>7</th>\n",
       "      <td>I had an installment loan under my name that w...</td>\n",
       "      <td>Loans</td>\n",
       "    </tr>\n",
       "    <tr>\n",
       "      <th>9</th>\n",
       "      <td>XXXX Morgage company sent a payment to XXXX XX...</td>\n",
       "      <td>Loans</td>\n",
       "    </tr>\n",
       "    <tr>\n",
       "      <th>21</th>\n",
       "      <td>I have disputed this information on my XXXX cr...</td>\n",
       "      <td>Loans</td>\n",
       "    </tr>\n",
       "    <tr>\n",
       "      <th>34</th>\n",
       "      <td>I am submitting this complaint against USAA Sa...</td>\n",
       "      <td>Loans</td>\n",
       "    </tr>\n",
       "    <tr>\n",
       "      <th>53</th>\n",
       "      <td>To Whom it May Concern, Thousands of students ...</td>\n",
       "      <td>Loans</td>\n",
       "    </tr>\n",
       "    <tr>\n",
       "      <th>72</th>\n",
       "      <td>I am writing to file an urgent formal complain...</td>\n",
       "      <td>Loans</td>\n",
       "    </tr>\n",
       "    <tr>\n",
       "      <th>86</th>\n",
       "      <td>Filed for modification and a year later Shell ...</td>\n",
       "      <td>Loans</td>\n",
       "    </tr>\n",
       "  </tbody>\n",
       "</table>\n",
       "</div>"
      ],
      "text/plain": [
       "                                            narrative product_5\n",
       "4   They allowed me to use the account for about a...     Loans\n",
       "7   I had an installment loan under my name that w...     Loans\n",
       "9   XXXX Morgage company sent a payment to XXXX XX...     Loans\n",
       "21  I have disputed this information on my XXXX cr...     Loans\n",
       "34  I am submitting this complaint against USAA Sa...     Loans\n",
       "53  To Whom it May Concern, Thousands of students ...     Loans\n",
       "72  I am writing to file an urgent formal complain...     Loans\n",
       "86  Filed for modification and a year later Shell ...     Loans"
      ]
     },
     "execution_count": 71,
     "metadata": {},
     "output_type": "execute_result"
    }
   ],
   "source": [
    "df[[\"narrative\", \"product_5\"]][df.product_5 == \"Loans\"].head(8)"
   ]
  },
  {
   "cell_type": "code",
   "execution_count": 7,
   "id": "7c032fad",
   "metadata": {},
   "outputs": [
    {
     "data": {
      "text/plain": [
       "(2023066, 10)"
      ]
     },
     "execution_count": 7,
     "metadata": {},
     "output_type": "execute_result"
    }
   ],
   "source": [
    "df.shape"
   ]
  },
  {
   "cell_type": "code",
   "execution_count": 8,
   "id": "8b2de951",
   "metadata": {},
   "outputs": [
    {
     "data": {
      "image/png": "[encoded data removed]",
      "text/plain": [
       "<Figure size 640x480 with 1 Axes>"
      ]
     },
     "metadata": {},
     "output_type": "display_data"
    }
   ],
   "source": [
    "df.product_5.value_counts().plot(kind='pie', autopct='%1.1f%%')\n",
    "plt.show()"
   ]
  },
  {
   "cell_type": "code",
   "execution_count": 9,
   "id": "be7b1bec",
   "metadata": {},
   "outputs": [],
   "source": [
    "# category_mapping = {\n",
    "#     'Credit Reporting': 0,\n",
    "#     'Debt Collection': 1,\n",
    "#     'Loans': 2,\n",
    "#     'Credit Card Services': 3,\n",
    "#     'Bank Accounts and Services': 4\n",
    "# }\n",
    "\n",
    "# df['product_5'] = df['product_5'].map(category_mapping)"
   ]
  },
  {
   "cell_type": "code",
   "execution_count": 10,
   "id": "3ddedd9a",
   "metadata": {},
   "outputs": [],
   "source": [
    "from sklearn.utils import resample\n",
    "\n",
    "# df_m1 = df[df.product_5 != \"Credit Reporting\"]\n",
    "\n",
    "df_creditreporting = df[df.product_5 == \"Credit Reporting\"]\n",
    "df_debtcollection = df[df.product_5 == \"Debt Collection\"]\n",
    "df_minorityclass = df[df.product_5 != \"Credit Reporting\"]\n",
    "\n",
    "df_creditreporting_balanced = resample(\n",
    "    df_creditreporting,\n",
    "    replace=False,\n",
    "    n_samples=len(df_debtcollection),\n",
    "    random_state=1\n",
    ")\n",
    "\n",
    "df_vproportional = pd.concat([df_creditreporting_balanced, df_minorityclass])"
   ]
  },
  {
   "cell_type": "code",
   "execution_count": 11,
   "id": "a02a130c",
   "metadata": {},
   "outputs": [],
   "source": [
    "from sklearn.preprocessing import LabelEncoder\n",
    "\n",
    "le = LabelEncoder()\n",
    "df_vproportional[\"label\"] = le.fit_transform(df_vproportional[\"product_5\"])"
   ]
  },
  {
   "cell_type": "code",
   "execution_count": null,
   "id": "72bf6363",
   "metadata": {},
   "outputs": [],
   "source": [
    "#TODO: ojo, estaba definiendo de forma manual la clasificación del labelencoder pero\n",
    "# esta la hace la propia herramienta, esto estaba causando errores en la predicción\n",
    "# para obtener las clases y su labelencoder hago un for en enumerate(le.classes_)"
   ]
  },
  {
   "cell_type": "code",
   "execution_count": 12,
   "id": "6cd0d8ec",
   "metadata": {},
   "outputs": [],
   "source": [
    "from sklearn.model_selection import train_test_split\n",
    "\n",
    "train_df, test_df = train_test_split(df_vproportional, test_size=0.2, stratify=df_vproportional['product_5'])\n",
    "train_df, dev_df = train_test_split(train_df, test_size=0.25, stratify=train_df['product_5'])"
   ]
  },
  {
   "cell_type": "code",
   "execution_count": null,
   "id": "a5c6844b",
   "metadata": {},
   "outputs": [],
   "source": [
    "#TODO: estoy tomando el target viejo product_5 y no el nuevo label para el split!!!"
   ]
  },
  {
   "cell_type": "code",
   "execution_count": 13,
   "id": "97f8bfbf",
   "metadata": {},
   "outputs": [
    {
     "data": {
      "text/plain": [
       "product_5\n",
       "Bank Accounts and Services    14.6%\n",
       "Credit Card Services          15.1%\n",
       "Credit Reporting              24.6%\n",
       "Debt Collection               24.6%\n",
       "Loans                         21.1%\n",
       "Name: proportion, dtype: object"
      ]
     },
     "execution_count": 13,
     "metadata": {},
     "output_type": "execute_result"
    }
   ],
   "source": [
    "train_df.product_5.value_counts(normalize=True).sort_index().mul(100).round(1).astype(str)+'%'"
   ]
  },
  {
   "cell_type": "code",
   "execution_count": 14,
   "id": "e4c41563",
   "metadata": {},
   "outputs": [
    {
     "data": {
      "text/plain": [
       "product_5\n",
       "Bank Accounts and Services    14.6%\n",
       "Credit Card Services          15.1%\n",
       "Credit Reporting              24.6%\n",
       "Debt Collection               24.6%\n",
       "Loans                         21.1%\n",
       "Name: proportion, dtype: object"
      ]
     },
     "execution_count": 14,
     "metadata": {},
     "output_type": "execute_result"
    }
   ],
   "source": [
    "test_df.product_5.value_counts(normalize=True).sort_index().mul(100).round(1).astype(str)+'%'"
   ]
  },
  {
   "cell_type": "code",
   "execution_count": 15,
   "id": "e6a4a5dd",
   "metadata": {},
   "outputs": [
    {
     "data": {
      "text/plain": [
       "product_5\n",
       "Bank Accounts and Services    14.6%\n",
       "Credit Card Services          15.1%\n",
       "Credit Reporting              24.6%\n",
       "Debt Collection               24.6%\n",
       "Loans                         21.1%\n",
       "Name: proportion, dtype: object"
      ]
     },
     "execution_count": 15,
     "metadata": {},
     "output_type": "execute_result"
    }
   ],
   "source": [
    "dev_df.product_5.value_counts(normalize=True).sort_index().mul(100).round(1).astype(str)+'%'"
   ]
  },
  {
   "cell_type": "markdown",
   "id": "11f329d7",
   "metadata": {},
   "source": [
    "## Modelo con Pytorch"
   ]
  },
  {
   "cell_type": "code",
   "execution_count": 16,
   "id": "0f3d6801",
   "metadata": {},
   "outputs": [
    {
     "name": "stdout",
     "output_type": "stream",
     "text": [
      "2.1.0\n"
     ]
    }
   ],
   "source": [
    "import torch\n",
    "\n",
    "print(torch.__version__)"
   ]
  },
  {
   "cell_type": "code",
   "execution_count": 17,
   "id": "9f367eef",
   "metadata": {},
   "outputs": [
    {
     "name": "stdout",
     "output_type": "stream",
     "text": [
      "MPS available\n"
     ]
    }
   ],
   "source": [
    "if torch.backends.mps.is_available():\n",
    "    print(\"MPS available\")\n",
    "else:\n",
    "    print(\"MPS ERROR!!\")"
   ]
  },
  {
   "cell_type": "code",
   "execution_count": 18,
   "id": "bd70e63b",
   "metadata": {},
   "outputs": [
    {
     "name": "stderr",
     "output_type": "stream",
     "text": [
      "[nltk_data] Downloading package stopwords to\n",
      "[nltk_data]     /Users/diegocardona/nltk_data...\n",
      "[nltk_data]   Package stopwords is already up-to-date!\n"
     ]
    },
    {
     "data": {
      "text/plain": [
       "True"
      ]
     },
     "execution_count": 18,
     "metadata": {},
     "output_type": "execute_result"
    }
   ],
   "source": [
    "import nltk\n",
    "nltk.download('stopwords')"
   ]
  },
  {
   "cell_type": "code",
   "execution_count": 19,
   "id": "88b09e91",
   "metadata": {},
   "outputs": [],
   "source": [
    "from nltk.corpus import stopwords\n",
    "\n",
    "stop_words = set(stopwords.words('english'))"
   ]
  },
  {
   "cell_type": "code",
   "execution_count": 20,
   "id": "71fae391",
   "metadata": {},
   "outputs": [
    {
     "name": "stderr",
     "output_type": "stream",
     "text": [
      "/Users/diegocardona/repositorios/NLP_nequi_test_diegocardona/.venv/lib/python3.11/site-packages/tqdm/auto.py:21: TqdmWarning: IProgress not found. Please update jupyter and ipywidgets. See https://ipywidgets.readthedocs.io/en/stable/user_install.html\n",
      "  from .autonotebook import tqdm as notebook_tqdm\n"
     ]
    }
   ],
   "source": [
    "# from sklearn.preprocessing import LabelEncoder\n",
    "from torchtext.data.utils import get_tokenizer\n",
    "\n",
    "# le = LabelEncoder()\n",
    "# # df_vproportional[\"label\"] = le.fit_transform(df_vproportional[\"product_5\"])\n",
    "# train_df[\"label\"] = le.fit_transform(train_df[\"product_5\"])\n",
    "# test_df[\"label\"] = le.fit_transform(test_df[\"product_5\"])\n",
    "# dev_df[\"label\"] = le.fit_transform(dev_df[\"product_5\"])\n",
    "\n",
    "base_tokenizer = get_tokenizer(\"basic_english\")\n",
    "\n",
    "def tokenizador(text):\n",
    "    return [token for token in base_tokenizer(text) if token not in stop_words]"
   ]
  },
  {
   "cell_type": "code",
   "execution_count": 21,
   "id": "152391c1",
   "metadata": {},
   "outputs": [
    {
     "data": {
      "text/html": [
       "<div>\n",
       "<style scoped>\n",
       "    .dataframe tbody tr th:only-of-type {\n",
       "        vertical-align: middle;\n",
       "    }\n",
       "\n",
       "    .dataframe tbody tr th {\n",
       "        vertical-align: top;\n",
       "    }\n",
       "\n",
       "    .dataframe thead th {\n",
       "        text-align: right;\n",
       "    }\n",
       "</style>\n",
       "<table border=\"1\" class=\"dataframe\">\n",
       "  <thead>\n",
       "    <tr style=\"text-align: right;\">\n",
       "      <th></th>\n",
       "      <th>product_5</th>\n",
       "      <th>narrative</th>\n",
       "      <th>Product</th>\n",
       "      <th>Date received</th>\n",
       "      <th>Sub-product</th>\n",
       "      <th>Issue</th>\n",
       "      <th>Sub-issue</th>\n",
       "      <th>Company</th>\n",
       "      <th>State</th>\n",
       "      <th>Timely response?</th>\n",
       "      <th>label</th>\n",
       "    </tr>\n",
       "  </thead>\n",
       "  <tbody>\n",
       "    <tr>\n",
       "      <th>550275</th>\n",
       "      <td>Debt Collection</td>\n",
       "      <td>My name is XXXX XXXX, I am making this complai...</td>\n",
       "      <td>Debt collection</td>\n",
       "      <td>2021-12-06</td>\n",
       "      <td>I do not know</td>\n",
       "      <td>Attempts to collect debt not owed</td>\n",
       "      <td>Debt is not yours</td>\n",
       "      <td>Affirm Holdings, Inc</td>\n",
       "      <td>NY</td>\n",
       "      <td>Yes</td>\n",
       "      <td>3</td>\n",
       "    </tr>\n",
       "    <tr>\n",
       "      <th>170343</th>\n",
       "      <td>Credit Reporting</td>\n",
       "      <td>I am filing this complaint on my own behalf to...</td>\n",
       "      <td>Credit reporting or other personal consumer re...</td>\n",
       "      <td>2023-12-21</td>\n",
       "      <td>Credit reporting</td>\n",
       "      <td>Improper use of your report</td>\n",
       "      <td>Credit inquiries on your report that you don't...</td>\n",
       "      <td>TRANSUNION INTERMEDIATE HOLDINGS, INC.</td>\n",
       "      <td>IN</td>\n",
       "      <td>Yes</td>\n",
       "      <td>2</td>\n",
       "    </tr>\n",
       "    <tr>\n",
       "      <th>32618</th>\n",
       "      <td>Credit Reporting</td>\n",
       "      <td>I am writing to file a formal complaint regard...</td>\n",
       "      <td>Credit reporting or other personal consumer re...</td>\n",
       "      <td>2024-07-02</td>\n",
       "      <td>Credit reporting</td>\n",
       "      <td>Incorrect information on your report</td>\n",
       "      <td>Information is missing that should be on the r...</td>\n",
       "      <td>TRANSUNION INTERMEDIATE HOLDINGS, INC.</td>\n",
       "      <td>SC</td>\n",
       "      <td>Yes</td>\n",
       "      <td>2</td>\n",
       "    </tr>\n",
       "    <tr>\n",
       "      <th>1867030</th>\n",
       "      <td>Debt Collection</td>\n",
       "      <td>First of all, i am a young hardworking man who...</td>\n",
       "      <td>Debt collection</td>\n",
       "      <td>2021-02-07</td>\n",
       "      <td>Credit card debt</td>\n",
       "      <td>Attempts to collect debt not owed</td>\n",
       "      <td>Debt was result of identity theft</td>\n",
       "      <td>CITIBANK, N.A.</td>\n",
       "      <td>NV</td>\n",
       "      <td>Yes</td>\n",
       "      <td>3</td>\n",
       "    </tr>\n",
       "    <tr>\n",
       "      <th>1747680</th>\n",
       "      <td>Debt Collection</td>\n",
       "      <td>My credit record shows a charge due to XXXX, w...</td>\n",
       "      <td>Debt collection</td>\n",
       "      <td>2016-12-17</td>\n",
       "      <td>Other (i.e. phone, health club, etc.)</td>\n",
       "      <td>Cont'd attempts collect debt not owed</td>\n",
       "      <td>Debt is not mine</td>\n",
       "      <td>Southwest Credit Systems, L.P.</td>\n",
       "      <td>WA</td>\n",
       "      <td>Yes</td>\n",
       "      <td>3</td>\n",
       "    </tr>\n",
       "  </tbody>\n",
       "</table>\n",
       "</div>"
      ],
      "text/plain": [
       "                product_5                                          narrative  \\\n",
       "550275    Debt Collection  My name is XXXX XXXX, I am making this complai...   \n",
       "170343   Credit Reporting  I am filing this complaint on my own behalf to...   \n",
       "32618    Credit Reporting  I am writing to file a formal complaint regard...   \n",
       "1867030   Debt Collection  First of all, i am a young hardworking man who...   \n",
       "1747680   Debt Collection  My credit record shows a charge due to XXXX, w...   \n",
       "\n",
       "                                                   Product Date received  \\\n",
       "550275                                     Debt collection    2021-12-06   \n",
       "170343   Credit reporting or other personal consumer re...    2023-12-21   \n",
       "32618    Credit reporting or other personal consumer re...    2024-07-02   \n",
       "1867030                                    Debt collection    2021-02-07   \n",
       "1747680                                    Debt collection    2016-12-17   \n",
       "\n",
       "                                   Sub-product  \\\n",
       "550275                           I do not know   \n",
       "170343                        Credit reporting   \n",
       "32618                         Credit reporting   \n",
       "1867030                       Credit card debt   \n",
       "1747680  Other (i.e. phone, health club, etc.)   \n",
       "\n",
       "                                         Issue  \\\n",
       "550275       Attempts to collect debt not owed   \n",
       "170343             Improper use of your report   \n",
       "32618     Incorrect information on your report   \n",
       "1867030      Attempts to collect debt not owed   \n",
       "1747680  Cont'd attempts collect debt not owed   \n",
       "\n",
       "                                                 Sub-issue  \\\n",
       "550275                                   Debt is not yours   \n",
       "170343   Credit inquiries on your report that you don't...   \n",
       "32618    Information is missing that should be on the r...   \n",
       "1867030                  Debt was result of identity theft   \n",
       "1747680                                   Debt is not mine   \n",
       "\n",
       "                                        Company State Timely response?  label  \n",
       "550275                     Affirm Holdings, Inc    NY              Yes      3  \n",
       "170343   TRANSUNION INTERMEDIATE HOLDINGS, INC.    IN              Yes      2  \n",
       "32618    TRANSUNION INTERMEDIATE HOLDINGS, INC.    SC              Yes      2  \n",
       "1867030                          CITIBANK, N.A.    NV              Yes      3  \n",
       "1747680          Southwest Credit Systems, L.P.    WA              Yes      3  "
      ]
     },
     "execution_count": 21,
     "metadata": {},
     "output_type": "execute_result"
    }
   ],
   "source": [
    "train_df.head()"
   ]
  },
  {
   "cell_type": "code",
   "execution_count": 22,
   "id": "0c89e1e4",
   "metadata": {},
   "outputs": [
    {
     "data": {
      "text/plain": [
       "label\n",
       "2    266842\n",
       "3    266842\n",
       "4    228599\n",
       "1    163710\n",
       "0    158640\n",
       "Name: count, dtype: int64"
      ]
     },
     "execution_count": 22,
     "metadata": {},
     "output_type": "execute_result"
    }
   ],
   "source": [
    "df_vproportional.label.value_counts()"
   ]
  },
  {
   "cell_type": "code",
   "execution_count": 23,
   "id": "fdcdfc8b",
   "metadata": {},
   "outputs": [
    {
     "data": {
      "text/plain": [
       "array(['Bank Accounts and Services', 'Credit Card Services',\n",
       "       'Credit Reporting', 'Debt Collection', 'Loans'], dtype=object)"
      ]
     },
     "execution_count": 23,
     "metadata": {},
     "output_type": "execute_result"
    }
   ],
   "source": [
    "le.classes_"
   ]
  },
  {
   "cell_type": "code",
   "execution_count": 73,
   "id": "8f3624b1",
   "metadata": {},
   "outputs": [
    {
     "data": {
      "text/plain": [
       "array(['Credit Reporting'], dtype=object)"
      ]
     },
     "execution_count": 73,
     "metadata": {},
     "output_type": "execute_result"
    }
   ],
   "source": [
    "le.inverse_transform([2])"
   ]
  },
  {
   "cell_type": "code",
   "execution_count": 25,
   "id": "b73b58f1",
   "metadata": {},
   "outputs": [],
   "source": [
    "def yield_tokens(data_iter):\n",
    "    for texto in data_iter:\n",
    "        yield tokenizador(texto)"
   ]
  },
  {
   "cell_type": "code",
   "execution_count": 26,
   "id": "c2297d0f",
   "metadata": {},
   "outputs": [],
   "source": [
    "device = torch.device(\"mps\" if torch.backends.mps.is_available() else \"cpu\")\n",
    "# device = torch.device(\"cpu\")"
   ]
  },
  {
   "cell_type": "code",
   "execution_count": 27,
   "id": "36a097e8",
   "metadata": {},
   "outputs": [],
   "source": [
    "from torchtext.vocab import build_vocab_from_iterator\n",
    "\n",
    "vocab = build_vocab_from_iterator(\n",
    "    yield_tokens(df_vproportional[\"narrative\"]),\n",
    "    min_freq=3,\n",
    "    specials=[\"<unk>\"],\n",
    "    special_first=True,\n",
    "    max_tokens=10000\n",
    "    )\n",
    "\n",
    "vocab.set_default_index(vocab[\"<unk>\"])"
   ]
  },
  {
   "cell_type": "code",
   "execution_count": 28,
   "id": "c047212b",
   "metadata": {},
   "outputs": [],
   "source": [
    "label_pipeline = lambda x: x\n",
    "\n",
    "texto_pipeline = lambda x: vocab(tokenizador(x))"
   ]
  },
  {
   "cell_type": "code",
   "execution_count": 29,
   "id": "7a613ef9",
   "metadata": {},
   "outputs": [],
   "source": [
    "from torch.utils.data import Dataset, DataLoader\n",
    "\n",
    "class TextDataset(Dataset):\n",
    "    def __init__(self, df, vocab, tokenizer):\n",
    "        self.labels = df[\"label\"].values\n",
    "        self.texts = df[\"narrative\"].values\n",
    "        self.vocab = vocab\n",
    "        self.tokenizer = tokenizer\n",
    "    \n",
    "    def __len__(self):\n",
    "        return len(self.labels)\n",
    "    \n",
    "    def __getitem__(self, idx):\n",
    "        tokens = self.tokenizer(self.texts[idx])\n",
    "        token_ids = self.vocab(tokens)\n",
    "        return torch.tensor(token_ids), torch.tensor(self.labels[idx])\n"
   ]
  },
  {
   "cell_type": "code",
   "execution_count": 30,
   "id": "9be886e7",
   "metadata": {},
   "outputs": [],
   "source": [
    "# def collate_batch(batch):\n",
    "#     label_list, text_list, offsets = [], [], [0]\n",
    "#     # for label, text in batch:\n",
    "#     for text, label in batch:\n",
    "#         label_list.append(label)\n",
    "#         text_list.append(text)\n",
    "#         offsets.append(text.size(0))\n",
    "#     label_list = torch.tensor(label_list, dtype=torch.int64)\n",
    "#     offsets = torch.tensor(offsets[:-1]).cumsum(dim=0)\n",
    "#     text_list = torch.cat(text_list)\n",
    "#     return label_list, text_list, offsets\n",
    "\n",
    "from torch.nn.utils.rnn import pad_sequence\n",
    "\n",
    "def collate_batch(batch):\n",
    "    text_list, label_list = [], []\n",
    "    for text, label in batch:\n",
    "        text_list.append(text)\n",
    "        label_list.append(label)\n",
    "    # pad_sequence convierte a (batch_size, max_len)\n",
    "    text_padded = pad_sequence(text_list, batch_first=True, padding_value=0)\n",
    "    labels = torch.tensor(label_list, dtype=torch.int64)\n",
    "    return labels.to(device), text_padded.to(device)\n"
   ]
  },
  {
   "cell_type": "code",
   "execution_count": 31,
   "id": "5425db66",
   "metadata": {},
   "outputs": [],
   "source": [
    "# def collate_batch(batch):\n",
    "#     label_list, text_list, offsets = [], [], [0]\n",
    "#     for (_label, _text) in batch:\n",
    "#         label_list.append(label_pipeline(_label))\n",
    "#         processed_text = torch.tensor(texto_pipeline(_text), dtype=torch.int64)\n",
    "#         text_list.append(processed_text)\n",
    "#         offsets.append(processed_text.size(0))\n",
    "#     label_list = torch.tensor(label_list, dtype=torch.int64)\n",
    "#     offsets = torch.tensor(offsets[:-1]).cumsum(dim=0)\n",
    "#     text_list = torch.cat(text_list)\n",
    "#     return label_list.to(device), text_list.to(device), offsets.to(device)\n",
    "\n",
    "# DataLoader\n",
    "# dataset = TextDataset(df, vocab, tokenizador)\n",
    "# dataloader = DataLoader(dataset, batch_size=2, shuffle=True, collate_fn=collate_batch)\n",
    "\n",
    "dataset_train = TextDataset(train_df, vocab, tokenizador)\n",
    "dataloader_train = DataLoader(dataset_train, batch_size=82, shuffle=True, collate_fn=collate_batch)\n",
    "\n",
    "dataset_test = TextDataset(test_df, vocab, tokenizador)\n",
    "dataloader_test = DataLoader(dataset_test, batch_size=82, shuffle=True, collate_fn=collate_batch)\n",
    "\n",
    "dataset_dev = TextDataset(dev_df, vocab, tokenizador)\n",
    "dataloader_dev = DataLoader(dataset_dev, batch_size=82, shuffle=True, collate_fn=collate_batch)"
   ]
  },
  {
   "cell_type": "code",
   "execution_count": 32,
   "id": "fbc28c19",
   "metadata": {},
   "outputs": [
    {
     "data": {
      "text/plain": [
       "(tensor([  58,    2,    2,    3,  271,   69, 4706,  354,    2,  375,  138, 2113,\n",
       "           22,  122,   11,  305,  269,    6,   22,  270,    1,   81, 2113, 2082,\n",
       "          117,  549, 1747, 4891,    3,  126,  216,    1, 2457,   43,    2,    3,\n",
       "            2,    3,    2,   52,   22,  649,   11,   19,   12,    1,   26,   21,\n",
       "          163,  875,  389,  777,  177, 1306,  682,   11,   14,  166,  729,  233,\n",
       "            1,  549,   45,  183, 1503,  107,  221,  328, 2113,   16,    5,    5,\n",
       "          251,  228,    5,    5,    1,  214,   81, 2113,    2,    3,    2,    3,\n",
       "            2,  857,   43,  349,   62,  221,  258,    3,   45,  183, 1503,    8,\n",
       "          350,    7, 1007,    8,    7,   99,  714, 1060, 1248,    3, 1832,  153,\n",
       "          206,   16,    5,    5, 1232,    1,   45,   74,    1,    1,  264,    0,\n",
       "            1,  605,  311,   16,  396,  142,  193,  605, 4256,  539,  274,  502,\n",
       "          274,   16,    1,   66, 4088,  596,  254, 3283,    3,  143,  912,  190,\n",
       "           64,    8,  108,    7,   57,   40,    8,  318,   72,    3,  179,    3,\n",
       "          112,    3, 2515, 6595,  538,  837,    7,  750,   40, 3533,  374,  257,\n",
       "         1640,   16,    5,    5, 2036,  131,    1]),\n",
       " tensor(3))"
      ]
     },
     "execution_count": 32,
     "metadata": {},
     "output_type": "execute_result"
    }
   ],
   "source": [
    "next(iter(dataset_train))"
   ]
  },
  {
   "cell_type": "code",
   "execution_count": 33,
   "id": "9fbeaad8",
   "metadata": {},
   "outputs": [
    {
     "data": {
      "text/plain": [
       "__main__.TextDataset"
      ]
     },
     "execution_count": 33,
     "metadata": {},
     "output_type": "execute_result"
    }
   ],
   "source": [
    "type(dataset_train)"
   ]
  },
  {
   "cell_type": "code",
   "execution_count": null,
   "id": "7bd67e8e",
   "metadata": {},
   "outputs": [],
   "source": []
  },
  {
   "cell_type": "code",
   "execution_count": 34,
   "id": "a5ca4651",
   "metadata": {},
   "outputs": [],
   "source": [
    "from torch import nn\n",
    "import torch.nn.functional as F\n",
    "\n",
    "# class ModeloClasificacionTexto(nn.Module):\n",
    "#   def __init__(self, vocab_size, embed_dim, num_class):\n",
    "#     super(ModeloClasificacionTexto, self).__init__()\n",
    "\n",
    "#     # capa de incrustación (embedding)\n",
    "#     self.embedding = nn.EmbeddingBag(vocab_size, embed_dim)\n",
    "#     # capa de normalización para los lotes (batch normalization)\n",
    "#     self.bn1 = nn.BatchNorm1d(embed_dim)\n",
    "#     # capa completamente conectada (fully conected), lleva las dim de la normalización\n",
    "#     # y las proyecta a las dimensiones necesarias para clasificar el texto, en este caso\n",
    "#     # la cantidad de clases del modelo 14\n",
    "#     self.fc = nn.Linear(embed_dim, num_class)\n",
    "\n",
    "#   # Conectamos todo en el forward\n",
    "#   def forward(self, text, offsets):\n",
    "#     embedded = self.embedding(text, offsets)\n",
    "#     # normalizamos\n",
    "#     embedded_norm = self.bn1(embedded)\n",
    "#     # función de activacion relu, cuando se aplica una no linealidad como relu\n",
    "#     # se les llama activated o de activación\n",
    "#     embedded_activated = F.relu(embedded_norm)\n",
    "#     return self.fc(embedded_activated)\n",
    "\n",
    "class ModeloClasificacionTexto(nn.Module):\n",
    "    def __init__(self, vocab_size, embed_dim, num_class):\n",
    "        super(ModeloClasificacionTexto, self).__init__()\n",
    "        self.embedding = nn.Embedding(vocab_size, embed_dim, padding_idx=0)\n",
    "        self.bn1 = nn.BatchNorm1d(embed_dim)\n",
    "        self.fc = nn.Linear(embed_dim, num_class)\n",
    "\n",
    "    def forward(self, text_batch):\n",
    "        embedded = self.embedding(text_batch)  # (batch_size, seq_len, embed_dim)\n",
    "        # promedio por secuencia (ignorando padding opcional)\n",
    "        embedded = embedded.mean(dim=1)  # (batch_size, embed_dim)\n",
    "        embedded_norm = self.bn1(embedded)\n",
    "        activated = F.relu(embedded_norm)\n",
    "        return self.fc(activated)\n"
   ]
  },
  {
   "cell_type": "code",
   "execution_count": 35,
   "id": "7cfe08ad",
   "metadata": {},
   "outputs": [
    {
     "data": {
      "text/plain": [
       "10000"
      ]
     },
     "execution_count": 35,
     "metadata": {},
     "output_type": "execute_result"
    }
   ],
   "source": [
    "len(vocab)"
   ]
  },
  {
   "cell_type": "code",
   "execution_count": 36,
   "id": "94b6ebdd",
   "metadata": {},
   "outputs": [],
   "source": [
    "# con set() elimino repetidos y obtengo el numero de clases en el dataset\n",
    "num_class = len(set(train_df.label))\n",
    "vocab_size = len(vocab)\n",
    "# vocab_size = 10000\n",
    "# como el gpu es pequeño solo lo hacemos con 100\n",
    "embedding_size = 100\n",
    "\n",
    "modelo = ModeloClasificacionTexto(vocab_size=vocab_size, embed_dim=embedding_size, num_class=num_class).to(device)"
   ]
  },
  {
   "cell_type": "code",
   "execution_count": 37,
   "id": "a926d5af",
   "metadata": {},
   "outputs": [
    {
     "data": {
      "text/plain": [
       "5"
      ]
     },
     "execution_count": 37,
     "metadata": {},
     "output_type": "execute_result"
    }
   ],
   "source": [
    "num_class"
   ]
  },
  {
   "cell_type": "code",
   "execution_count": 38,
   "id": "5f179c9e",
   "metadata": {},
   "outputs": [
    {
     "data": {
      "text/plain": [
       "10000"
      ]
     },
     "execution_count": 38,
     "metadata": {},
     "output_type": "execute_result"
    }
   ],
   "source": [
    "vocab_size"
   ]
  },
  {
   "cell_type": "code",
   "execution_count": 39,
   "id": "8116fec8",
   "metadata": {},
   "outputs": [
    {
     "name": "stdout",
     "output_type": "stream",
     "text": [
      "ModeloClasificacionTexto(\n",
      "  (embedding): Embedding(10000, 100, padding_idx=0)\n",
      "  (bn1): BatchNorm1d(100, eps=1e-05, momentum=0.1, affine=True, track_running_stats=True)\n",
      "  (fc): Linear(in_features=100, out_features=5, bias=True)\n",
      ")\n"
     ]
    }
   ],
   "source": [
    "print(modelo)"
   ]
  },
  {
   "cell_type": "code",
   "execution_count": 40,
   "id": "dee6b4c1",
   "metadata": {},
   "outputs": [
    {
     "name": "stdout",
     "output_type": "stream",
     "text": [
      "El modelo tiene 1,000,705 parámetros entrenables\n"
     ]
    }
   ],
   "source": [
    "def count_parameters(model):\n",
    "  return sum(p.numel() for p in model.parameters() if p.requires_grad)\n",
    "\n",
    "print(f'El modelo tiene {count_parameters(modelo):,} parámetros entrenables')"
   ]
  },
  {
   "cell_type": "code",
   "execution_count": 41,
   "id": "1eea2117",
   "metadata": {},
   "outputs": [],
   "source": [
    "# función para entrenar el modelo\n",
    "def entrena(dataloader):\n",
    "  # poner el modelo en formato de entrenamiento\n",
    "  modelo.train()\n",
    "\n",
    "  # inicialización de variables para hacer seguimiento a la mejora del modelo\n",
    "  # accuracy\n",
    "  epoch_acc = 0\n",
    "  # perdida\n",
    "  epoch_loss = 0\n",
    "  # cuántos ejemplos tiene el batch del dataloader\n",
    "  total_count = 0\n",
    "\n",
    "  # for idx, (label, text, offsets) in enumerate(dataloader):\n",
    "  for idx, (label, text) in enumerate(dataloader):\n",
    "    # reestablecer los gradientes después de cada batch\n",
    "    optimizer.zero_grad()\n",
    "    # predicciones\n",
    "    # prediccion = modelo(text, offsets)\n",
    "    prediccion = modelo(text)\n",
    "\n",
    "    # obtención de la pérdida\n",
    "    loss = criterio(prediccion, label)\n",
    "\n",
    "    # backpropage: hacia atrás se obtiene la derivada y calcula los pesos\n",
    "    loss.backward()\n",
    "\n",
    "    # accuracy, calcula el porcentaje de correctos\n",
    "    acc = (prediccion.argmax(1) == label).sum()\n",
    "\n",
    "    # evitar que los gradientes sean demaciado rápidos\n",
    "    torch.nn.utils.clip_grad_norm(modelo.parameters(), 0.1)\n",
    "\n",
    "    # optimizar los pesos\n",
    "    optimizer.step()\n",
    "\n",
    "    torch.mps.empty_cache()\n",
    "\n",
    "    # llevamos el conteo de la pérdida y el accuracy\n",
    "    epoch_acc += acc.item()\n",
    "    epoch_loss += loss.item()\n",
    "    total_count += label.size(0)\n",
    "\n",
    "    if idx % 500 == 0 and idx > 0:\n",
    "      print(f'epoca {epoch} | {idx}/{len(dataloader)} batches | perdida {epoch_loss/total_count} | accuracy {epoch_acc/ total_count}')\n",
    "\n",
    "  return epoch_acc/total_count, epoch_loss/total_count"
   ]
  },
  {
   "cell_type": "code",
   "execution_count": 42,
   "id": "6cc71663",
   "metadata": {},
   "outputs": [],
   "source": [
    "# Función para evaluar el modelo\n",
    "def evalua(dataloader):\n",
    "  modelo.eval()\n",
    "  # modelo.cuda()\n",
    "  epoch_acc = 0\n",
    "  epoch_loss = 0\n",
    "  total_count = 0\n",
    "\n",
    "  # cuando se va a evaluar un modelo o hacer inferencia, se debe referenciar\n",
    "  # que no se haga gradiente, es decir no se entrene\n",
    "  with torch.no_grad():\n",
    "    # for idx, (label, text, offsets) in enumerate(dataloader):\n",
    "    for idx, (label, text) in enumerate(dataloader):\n",
    "      # prediccion = modelo(text, offsets)\n",
    "      prediccion = modelo(text)\n",
    "\n",
    "      loss = criterio(prediccion, label)\n",
    "      acc = (prediccion.argmax(1) == label).sum()\n",
    "\n",
    "      epoch_loss += loss.item()\n",
    "      epoch_acc += acc.item()\n",
    "      total_count += label.size(0)\n",
    "\n",
    "    return epoch_acc/total_count, epoch_loss/total_count"
   ]
  },
  {
   "cell_type": "code",
   "execution_count": 43,
   "id": "68f72e52",
   "metadata": {},
   "outputs": [],
   "source": [
    "# hiperparámetros\n",
    "EPOCHS = 6 # pocas porque se tiene un gpu pequeño y el modelo se ve bueno\n",
    "TASA_APRENDIZAJE = 0.015 # se puede experimentar con otros, tradicionalmente 0.1, agresivo 0.3\n",
    "BATCH_TAMANO = 82 # aprovechando la gpu"
   ]
  },
  {
   "cell_type": "code",
   "execution_count": 44,
   "id": "a1ae9373",
   "metadata": {},
   "outputs": [],
   "source": [
    "# función de pérdida\n",
    "criterio = torch.nn.CrossEntropyLoss() # la convencción para llamar la función de pérdida es nombrarla criterio\n",
    "# optimizer = torch.optim.SGD(modelo.parameters(), lr=TASA_APRENDIZAJE)\n",
    "optimizer = torch.optim.Adam(modelo.parameters(), lr=TASA_APRENDIZAJE)"
   ]
  },
  {
   "cell_type": "code",
   "execution_count": 45,
   "id": "b3c68692",
   "metadata": {},
   "outputs": [
    {
     "name": "stdout",
     "output_type": "stream",
     "text": [
      "<__main__.TextDataset object at 0x42da67390>\n"
     ]
    }
   ],
   "source": [
    "print(dataset_train)"
   ]
  },
  {
   "cell_type": "code",
   "execution_count": 46,
   "id": "5931eedf",
   "metadata": {},
   "outputs": [],
   "source": [
    "# separación de datos entrenamiento y prueba\n",
    "# from torch.utils.data.dataset import random_split\n",
    "# from torchtext.data.functional import to_map_style_dataset\n",
    "\n",
    "# # trainset y testset\n",
    "# # train_iter, test_iter = DBpedia()\n",
    "# # # convierte el dataset a un formato entendible por Pytorch\n",
    "# # train_dataset = to_map_style_dataset(train_iter)\n",
    "# # test_dataset = to_map_style_dataset(test_iter)\n",
    "\n",
    "# num_train = int(len(dataset)*0.80)\n",
    "\n",
    "# train_iter, test_iter = random_split(dataset, [num_train, len(dataset)-num_train])\n",
    "\n",
    "# # entrenamiento con el 95% de datos\n",
    "# num_train_ = int(len(train_iter)*0.95)\n",
    "\n",
    "# # datos para validación, parte extra con un 5%\n",
    "# split_train_, split_valid_ = random_split(train_iter, [num_train_, len(train_iter)-num_train_])\n",
    "\n",
    "# # dataloader para ingresar al modelo\n",
    "# train_dataloader = DataLoader(split_train_, batch_size=BATCH_TAMANO, shuffle=True, collate_fn=collate_batch) # shuffle es mezclar los datos de forma aleatoria\n",
    "# valid_dataloader = DataLoader(split_valid_, batch_size=BATCH_TAMANO, shuffle=True, collate_fn=collate_batch)\n",
    "# test_dataloader = DataLoader(test_iter, batch_size=BATCH_TAMANO, shuffle=True, collate_fn=collate_batch)"
   ]
  },
  {
   "cell_type": "code",
   "execution_count": 47,
   "id": "81d2dcad",
   "metadata": {},
   "outputs": [
    {
     "data": {
      "text/plain": [
       "7937"
      ]
     },
     "execution_count": 47,
     "metadata": {},
     "output_type": "execute_result"
    }
   ],
   "source": [
    "len(dataloader_train)"
   ]
  },
  {
   "cell_type": "code",
   "execution_count": 48,
   "id": "bffc27d0",
   "metadata": {},
   "outputs": [
    {
     "data": {
      "text/plain": [
       "2646"
      ]
     },
     "execution_count": 48,
     "metadata": {},
     "output_type": "execute_result"
    }
   ],
   "source": [
    "len(dataloader_test)"
   ]
  },
  {
   "cell_type": "code",
   "execution_count": 49,
   "id": "8988f1e8",
   "metadata": {},
   "outputs": [
    {
     "data": {
      "text/plain": [
       "2646"
      ]
     },
     "execution_count": 49,
     "metadata": {},
     "output_type": "execute_result"
    }
   ],
   "source": [
    "len(dataloader_dev)"
   ]
  },
  {
   "cell_type": "code",
   "execution_count": 51,
   "id": "6788eb7b",
   "metadata": {},
   "outputs": [
    {
     "data": {
      "text/plain": [
       "(tensor([1, 0, 4, 0, 0, 0, 2, 1, 2, 2, 3, 4, 0, 2, 2, 2, 3, 2, 3, 0, 2, 2, 2, 0,\n",
       "         0, 3, 0, 3, 0, 3, 2, 1, 3, 3, 2, 4, 3, 3, 3, 4, 0, 4, 1, 1, 4, 2, 3, 1,\n",
       "         0, 2, 2, 2, 0, 0, 2, 2, 4, 3, 3, 1, 4, 3, 0, 2, 1, 2, 3, 1, 4, 3, 2, 3,\n",
       "         4, 2, 0, 1, 1, 3, 3, 2, 4, 0], device='mps:0'),\n",
       " tensor([[   2,    2,    6,  ...,    0,    0,    0],\n",
       "         [ 297, 5832,    1,  ...,    0,    0,    0],\n",
       "         [  10,   21, 1652,  ...,    0,    0,    0],\n",
       "         ...,\n",
       "         [ 764,   69,    6,  ...,    0,    0,    0],\n",
       "         [  21,  137,  234,  ...,    0,    0,    0],\n",
       "         [ 752,  814,  174,  ...,    0,    0,    0]], device='mps:0'))"
      ]
     },
     "execution_count": 51,
     "metadata": {},
     "output_type": "execute_result"
    }
   ],
   "source": [
    "next(iter(dataloader_train))"
   ]
  },
  {
   "cell_type": "code",
   "execution_count": 55,
   "id": "028ce923",
   "metadata": {},
   "outputs": [
    {
     "name": "stdout",
     "output_type": "stream",
     "text": [
      "Credit Reporting              14.6%\n",
      "Debt Collection               15.1%\n",
      "Loans                         24.6%\n",
      "Credit Card Services          24.6%\n",
      "Bank Accounts and Services    21.1%\n",
      "Name: proportion, dtype: object\n"
     ]
    }
   ],
   "source": [
    "labels_train = [label for label, _ in dataloader_train]  # o del subset: for _, label in subset\n",
    "# labels_train = torch.stack(labels_train).numpy()  # si están en tensors\n",
    "labels_train = torch.cat(labels_train).cpu().numpy()\n",
    "\n",
    "percentage_train_class = (pd.Series(labels_train).value_counts(normalize=True).sort_index().mul(100).round(1).astype(str) + '%')\n",
    "\n",
    "percentage_train_class = percentage_train_class.rename(index=category_mapping)\n",
    "\n",
    "print(percentage_train_class)"
   ]
  },
  {
   "cell_type": "code",
   "execution_count": null,
   "id": "3ed05a7a",
   "metadata": {},
   "outputs": [],
   "source": []
  },
  {
   "cell_type": "code",
   "execution_count": 54,
   "id": "842d3f70",
   "metadata": {},
   "outputs": [
    {
     "name": "stdout",
     "output_type": "stream",
     "text": [
      "Credit Reporting              14.6%\n",
      "Debt Collection               15.1%\n",
      "Loans                         24.6%\n",
      "Credit Card Services          24.6%\n",
      "Bank Accounts and Services    21.1%\n",
      "Name: proportion, dtype: object\n"
     ]
    }
   ],
   "source": [
    "labels_valid = [label for label, _ in dataloader_test]\n",
    "# labels_valid = torch.stack(labels_valid).numpy()\n",
    "labels_valid = torch.cat(labels_valid).cpu().numpy()\n",
    "\n",
    "percentage_valid_class = (\n",
    "    pd.Series(labels_valid)\n",
    "    .value_counts(normalize=True)\n",
    "    .sort_index()\n",
    "    .mul(100)\n",
    "    .round(1)\n",
    "    .astype(str) + '%'\n",
    ")\n",
    "\n",
    "percentage_valid_class = percentage_valid_class.rename(index=category_mapping)\n",
    "\n",
    "print(percentage_valid_class)"
   ]
  },
  {
   "cell_type": "code",
   "execution_count": 57,
   "id": "8152bd70",
   "metadata": {},
   "outputs": [
    {
     "name": "stdout",
     "output_type": "stream",
     "text": [
      "Credit Reporting              14.6%\n",
      "Debt Collection               15.1%\n",
      "Loans                         24.6%\n",
      "Credit Card Services          24.6%\n",
      "Bank Accounts and Services    21.1%\n",
      "Name: proportion, dtype: object\n"
     ]
    }
   ],
   "source": [
    "dataloader_val = dataloader_dev\n",
    "labels_test = [label for label, _ in dataloader_val]\n",
    "# labels_test = torch.stack(labels_test).numpy()\n",
    "labels_test = torch.cat(labels_test).cpu().numpy()\n",
    "\n",
    "percentage_test_class = (\n",
    "    pd.Series(labels_test)\n",
    "    .value_counts(normalize=True)\n",
    "    .sort_index()\n",
    "    .mul(100)\n",
    "    .round(1)\n",
    "    .astype(str) + '%'\n",
    ")\n",
    "\n",
    "percentage_test_class = percentage_test_class.rename(index=category_mapping)\n",
    "\n",
    "print(percentage_test_class)"
   ]
  },
  {
   "cell_type": "code",
   "execution_count": null,
   "id": "71f96763",
   "metadata": {},
   "outputs": [],
   "source": []
  },
  {
   "cell_type": "code",
   "execution_count": 59,
   "id": "ac8aa64f",
   "metadata": {},
   "outputs": [
    {
     "name": "stderr",
     "output_type": "stream",
     "text": [
      "/var/folders/8x/shhvyxrd77s8h2qsqg9jtg5m0000gn/T/ipykernel_62282/1905407641.py:32: UserWarning: torch.nn.utils.clip_grad_norm is now deprecated in favor of torch.nn.utils.clip_grad_norm_.\n",
      "  torch.nn.utils.clip_grad_norm(modelo.parameters(), 0.1)\n"
     ]
    },
    {
     "name": "stdout",
     "output_type": "stream",
     "text": [
      "epoca 1 | 500/7937 batches | perdida 0.008280781180727104 | accuracy 0.7650309137821917\n",
      "epoca 1 | 1000/7937 batches | perdida 0.007521002418723436 | accuracy 0.7899417655515216\n",
      "epoca 1 | 1500/7937 batches | perdida 0.007129823085147585 | accuracy 0.8018881721129003\n",
      "epoca 1 | 2000/7937 batches | perdida 0.006888741556113625 | accuracy 0.8091563974110506\n",
      "epoca 1 | 2500/7937 batches | perdida 0.0067046771547473035 | accuracy 0.814323051267298\n",
      "epoca 1 | 3000/7937 batches | perdida 0.006572308311020332 | accuracy 0.8181988117781878\n",
      "epoca 1 | 3500/7937 batches | perdida 0.0064668014772018495 | accuracy 0.8212183278645125\n",
      "epoca 1 | 4000/7937 batches | perdida 0.006377883619560542 | accuracy 0.8235715461378558\n",
      "epoca 1 | 4500/7937 batches | perdida 0.00630596936031346 | accuracy 0.825434456299684\n",
      "epoca 1 | 5000/7937 batches | perdida 0.0062458916382169705 | accuracy 0.8269980150311401\n",
      "epoca 1 | 5500/7937 batches | perdida 0.00620016050491707 | accuracy 0.828244088657938\n",
      "epoca 1 | 6000/7937 batches | perdida 0.006147740770260396 | accuracy 0.8297844668165062\n",
      "epoca 1 | 6500/7937 batches | perdida 0.006099816795037083 | accuracy 0.8310334995366566\n",
      "epoca 1 | 7000/7937 batches | perdida 0.006071266670458558 | accuracy 0.8317783870596883\n",
      "epoca 1 | 7500/7937 batches | perdida 0.006034582700085912 | accuracy 0.8327653873792438\n",
      "epoca 2 | 500/7937 batches | perdida 0.005167825088840016 | accuracy 0.8575288447495253\n",
      "epoca 2 | 1000/7937 batches | perdida 0.005152189030635892 | accuracy 0.8575692600082844\n",
      "epoca 2 | 1500/7937 batches | perdida 0.005109618778047431 | accuracy 0.8587283274564924\n",
      "epoca 2 | 2000/7937 batches | perdida 0.005117213740274464 | accuracy 0.8584366353408661\n",
      "epoca 2 | 2500/7937 batches | perdida 0.005115828734360665 | accuracy 0.8578958660438264\n",
      "epoca 2 | 3000/7937 batches | perdida 0.005120072321924251 | accuracy 0.8578644516868361\n",
      "epoca 2 | 3500/7937 batches | perdida 0.005111636248882474 | accuracy 0.8584063089988226\n",
      "epoca 2 | 4000/7937 batches | perdida 0.005118515650233228 | accuracy 0.8580050109423863\n",
      "epoca 2 | 4500/7937 batches | perdida 0.0051347582382049745 | accuracy 0.8576684855939872\n",
      "epoca 2 | 5000/7937 batches | perdida 0.005135635966842368 | accuracy 0.8578698894367468\n",
      "epoca 2 | 5500/7937 batches | perdida 0.00513818481625067 | accuracy 0.8577176655242285\n",
      "epoca 2 | 6000/7937 batches | perdida 0.0051436207798018834 | accuracy 0.8575887758544307\n",
      "epoca 2 | 6500/7937 batches | perdida 0.0051483226110625845 | accuracy 0.8574103046060456\n",
      "epoca 2 | 7000/7937 batches | perdida 0.0051424129359006554 | accuracy 0.8575412571723203\n",
      "epoca 2 | 7500/7937 batches | perdida 0.005140178987493995 | accuracy 0.8575832165467369\n",
      "epoca 3 | 500/7937 batches | perdida 0.004681623917183459 | accuracy 0.8683851808577966\n",
      "epoca 3 | 1000/7937 batches | perdida 0.004704419353102322 | accuracy 0.8679978558027338\n",
      "epoca 3 | 1500/7937 batches | perdida 0.004705604763439418 | accuracy 0.8677954534375457\n",
      "epoca 3 | 2000/7937 batches | perdida 0.004714619146135035 | accuracy 0.8682427079143356\n",
      "epoca 3 | 2500/7937 batches | perdida 0.004733822616893186 | accuracy 0.868096663773515\n",
      "epoca 3 | 3000/7937 batches | perdida 0.0047358541064200345 | accuracy 0.8678082915450948\n",
      "epoca 3 | 3500/7937 batches | perdida 0.004743060448356469 | accuracy 0.8677555541622254\n",
      "epoca 3 | 4000/7937 batches | perdida 0.004749502126774044 | accuracy 0.8676367493492481\n",
      "epoca 3 | 4500/7937 batches | perdida 0.004749583729123527 | accuracy 0.8675633057152611\n",
      "epoca 3 | 5000/7937 batches | perdida 0.004757995199629203 | accuracy 0.8674313917704264\n",
      "epoca 3 | 5500/7937 batches | perdida 0.004765138968093103 | accuracy 0.8672103963359212\n",
      "epoca 3 | 6000/7937 batches | perdida 0.0047790524293881585 | accuracy 0.8668372344446658\n",
      "epoca 3 | 6500/7937 batches | perdida 0.0047891796150450324 | accuracy 0.8667597105135795\n",
      "epoca 3 | 7000/7937 batches | perdida 0.0048010246620903314 | accuracy 0.8665695841360642\n",
      "epoca 3 | 7500/7937 batches | perdida 0.0048072596631819195 | accuracy 0.8663527789790629\n",
      "epoca 4 | 500/7937 batches | perdida 0.00439182838168327 | accuracy 0.8765882868409522\n",
      "epoca 4 | 1000/7937 batches | perdida 0.0043706515102417435 | accuracy 0.8776954752564509\n",
      "epoca 4 | 1500/7937 batches | perdida 0.004454554026997788 | accuracy 0.8753432670902326\n",
      "epoca 4 | 2000/7937 batches | perdida 0.004465419337929179 | accuracy 0.8749162004363672\n",
      "epoca 4 | 2500/7937 batches | perdida 0.00448626369699869 | accuracy 0.8742600520767303\n",
      "epoca 4 | 3000/7937 batches | perdida 0.004492925097445357 | accuracy 0.8741029412959908\n",
      "epoca 4 | 3500/7937 batches | perdida 0.0045091431458456 | accuracy 0.8738026069206708\n",
      "epoca 4 | 4000/7937 batches | perdida 0.004526245644807659 | accuracy 0.8734980888924111\n",
      "epoca 4 | 4500/7937 batches | perdida 0.004544618444457613 | accuracy 0.8732883207525699\n",
      "epoca 4 | 5000/7937 batches | perdida 0.004540564004493 | accuracy 0.8733911754234519\n",
      "epoca 4 | 5500/7937 batches | perdida 0.004542057667775549 | accuracy 0.8735374056158304\n",
      "epoca 4 | 6000/7937 batches | perdida 0.004551356503864131 | accuracy 0.8733625696530253\n",
      "epoca 4 | 6500/7937 batches | perdida 0.004556699422365572 | accuracy 0.8734641199665343\n",
      "epoca 4 | 7000/7937 batches | perdida 0.004563865015956195 | accuracy 0.8733160071209339\n",
      "epoca 4 | 7500/7937 batches | perdida 0.004572487020865949 | accuracy 0.8729762860886842\n",
      "epoca 5 | 500/7937 batches | perdida 0.0042668147227773534 | accuracy 0.8817000146049365\n",
      "epoca 5 | 1000/7937 batches | perdida 0.004271368573660222 | accuracy 0.8813990887161619\n",
      "epoca 5 | 1500/7937 batches | perdida 0.004280092085201618 | accuracy 0.8808761638582409\n",
      "epoca 5 | 2000/7937 batches | perdida 0.004312454138799669 | accuracy 0.880047780987555\n",
      "epoca 5 | 2500/7937 batches | perdida 0.004304847879600728 | accuracy 0.8803551750031695\n",
      "epoca 5 | 3000/7937 batches | perdida 0.004321264979614376 | accuracy 0.8799180760884583\n",
      "epoca 5 | 3500/7937 batches | perdida 0.004320410716480385 | accuracy 0.8799053928842631\n",
      "epoca 5 | 4000/7937 batches | perdida 0.004326378353208373 | accuracy 0.8794508689900695\n",
      "epoca 5 | 4500/7937 batches | perdida 0.004334328561637222 | accuracy 0.8793791081656651\n",
      "epoca 5 | 5000/7937 batches | perdida 0.004333647549917341 | accuracy 0.8793655902965748\n",
      "epoca 5 | 5500/7937 batches | perdida 0.004337445706560898 | accuracy 0.8793035412630076\n",
      "epoca 5 | 6000/7937 batches | perdida 0.004352242175676912 | accuracy 0.8789612300388959\n",
      "epoca 5 | 6500/7937 batches | perdida 0.00435937810983205 | accuracy 0.8787222228475169\n",
      "epoca 5 | 7000/7937 batches | perdida 0.004368410165844564 | accuracy 0.8785539348037389\n",
      "epoca 5 | 7500/7937 batches | perdida 0.004376875993151173 | accuracy 0.8782877730123788\n",
      "epoca 6 | 500/7937 batches | perdida 0.004110880757399876 | accuracy 0.8846210018986418\n",
      "epoca 6 | 1000/7937 batches | perdida 0.004094541182041732 | accuracy 0.8858458614556175\n",
      "epoca 6 | 1500/7937 batches | perdida 0.00411505708799486 | accuracy 0.8853691035244796\n",
      "epoca 6 | 2000/7937 batches | perdida 0.00410896135151217 | accuracy 0.8859716483221803\n",
      "epoca 6 | 2500/7937 batches | perdida 0.004128459118995231 | accuracy 0.8854897065564018\n",
      "epoca 6 | 3000/7937 batches | perdida 0.004126122396819984 | accuracy 0.8854284344242976\n",
      "epoca 6 | 3500/7937 batches | perdida 0.004146807016932437 | accuracy 0.8847472150814053\n",
      "epoca 6 | 4000/7937 batches | perdida 0.004137598792137373 | accuracy 0.8850165507403637\n",
      "epoca 6 | 4500/7937 batches | perdida 0.004147993174570618 | accuracy 0.8845486910767797\n",
      "epoca 6 | 5000/7937 batches | perdida 0.0041617835634726215 | accuracy 0.8841182982915612\n",
      "epoca 6 | 5500/7937 batches | perdida 0.004166641757906687 | accuracy 0.8840410391015381\n",
      "epoca 6 | 6000/7937 batches | perdida 0.0041728109912375815 | accuracy 0.8838770773976695\n",
      "epoca 6 | 6500/7937 batches | perdida 0.00418426667619513 | accuracy 0.8835657553622145\n",
      "epoca 6 | 7000/7937 batches | perdida 0.0041934641830016 | accuracy 0.8832762567020043\n",
      "epoca 6 | 7500/7937 batches | perdida 0.004209270668246136 | accuracy 0.8829456885423407\n"
     ]
    }
   ],
   "source": [
    "# obtención de la mejor pérdida, cuál es el que da el valor más pequeño de pérdida\n",
    "major_loss_validation = float('inf') # inf: que puede tomar muchos valores diferentes\n",
    "\n",
    "# Entrenamos\n",
    "for epoch in range(1, EPOCHS+1):\n",
    "  # entrenamiento\n",
    "  entrenamiento_acc, entrenamiento_loss = entrena(dataloader_train)\n",
    "\n",
    "  # validación\n",
    "  validacion_acc, validacion_loss = evalua(dataloader_val)\n",
    "\n",
    "  # guardamos el modelo con los mejores pesos\n",
    "  # si la pérdida del modelo de validación es menor que el major_loss_validation\n",
    "  if validacion_loss < major_loss_validation:\n",
    "    best_valid_loss = validacion_loss\n",
    "    torch.save(modelo.state_dict(), \"mejores_pesos_guardados.pt\") # modelo Pytorch termina en .pt"
   ]
  },
  {
   "cell_type": "code",
   "execution_count": 63,
   "id": "32bd989d",
   "metadata": {},
   "outputs": [
    {
     "name": "stdout",
     "output_type": "stream",
     "text": [
      "Accuracy del test dataset -> 0.8147763994339109\n",
      "Pérdida del test dataset -> 0.006601512495913306\n"
     ]
    }
   ],
   "source": [
    "# Evaluación del modelo\n",
    "test_acc, test_loss = evalua(dataloader_test)\n",
    "\n",
    "# aquí se evalua si el modelo aprendió de forma correcta, si es bueno generalizando\n",
    "print(f'Accuracy del test dataset -> {test_acc}')\n",
    "print(f'Pérdida del test dataset -> {test_loss}')"
   ]
  },
  {
   "cell_type": "code",
   "execution_count": 75,
   "id": "77f80609",
   "metadata": {},
   "outputs": [
    {
     "name": "stdout",
     "output_type": "stream",
     "text": [
      "El emeplo 1 es de categoría Credit Reporting\n"
     ]
    }
   ],
   "source": [
    "# se usará torch.compile() para optimizar la inferencia, esto sirve para modelos pequeños\n",
    "# donde no es necesario usar gpu y optimizaremos la compilacion con el mode=\"reduce-overhead\"\n",
    "category_mapping = {i: label for i, label in enumerate(le.classes_)}\n",
    "\n",
    "def predict(text, texto_pipeline):\n",
    "  with torch.no_grad():\n",
    "    text_ids = texto_pipeline(text)\n",
    "    text_tensor = torch.tensor([text_ids], dtype=torch.long)\n",
    "    text_tensor = text_tensor.to(next(model.parameters()).device)\n",
    "    # opt_mod = torch.compile(model, mode=\"reduce-overhead\") # aumenta el uso de memoria pero optimiza la inferencia, para modelos grandes max-autotune\n",
    "    # output = opt_mod(text, torch.tensor([0]))\n",
    "    output = model(text_tensor)\n",
    "  return output.argmax(1).item()\n",
    "\n",
    "ejemplo_1 = \"I have a problem with my credit report\"\n",
    "\n",
    "model = modelo.to(\"cpu\") # no es necesario gpu\n",
    "\n",
    "print(f'El emeplo 1 es de categoría {category_mapping[predict(ejemplo_1, texto_pipeline)]}')"
   ]
  },
  {
   "cell_type": "code",
   "execution_count": 76,
   "id": "c7e77c6c",
   "metadata": {},
   "outputs": [
    {
     "name": "stdout",
     "output_type": "stream",
     "text": [
      "El emeplo 2 es de categoría Credit Card Services\n"
     ]
    }
   ],
   "source": [
    "ejemplo_2 = \"Can you help me with a credit card for my job?\"\n",
    "\n",
    "print(f'El emeplo 2 es de categoría {category_mapping[predict(ejemplo_2, texto_pipeline)]}')"
   ]
  },
  {
   "cell_type": "code",
   "execution_count": 78,
   "id": "9d08df45",
   "metadata": {},
   "outputs": [
    {
     "name": "stdout",
     "output_type": "stream",
     "text": [
      "Loans\n"
     ]
    }
   ],
   "source": [
    "print(category_mapping[predict(\"Loans Loans loans\", texto_pipeline)])"
   ]
  },
  {
   "cell_type": "code",
   "execution_count": null,
   "id": "436876d9",
   "metadata": {},
   "outputs": [],
   "source": [
    "# se usará el método state_dict() para extraer todos los parámetros (pesos) del model entrenado\n",
    "# y poderlo usar en otros modelos cuando queramos.\n",
    "# Nos ayuda a guardar el modelo, para seguirlo entrenando o realizar inferencia\n",
    "\n",
    "model_state_dict = model.state_dict()\n",
    "optimizer_state_dict = optimizer.state_dict()\n",
    "\n",
    "# checkpoint o punto de guardado para futuros usos\n",
    "\n",
    "checkpoint = {\n",
    "    \"model_state_dict\" : model_state_dict,\n",
    "    \"optimizer_state_dict\" : optimizer_state_dict,\n",
    "    \"epoch\" : epoch,\n",
    "    \"loss\" : entrenamiento_loss\n",
    "}\n",
    "\n",
    "torch.save(checkpoint, \"model_checkpoint.pth\") # pth o pt pueden usarse"
   ]
  },
  {
   "cell_type": "code",
   "execution_count": null,
   "id": "05a6f62f",
   "metadata": {},
   "outputs": [
    {
     "data": {
      "text/plain": [
       "10000"
      ]
     },
     "execution_count": 45,
     "metadata": {},
     "output_type": "execute_result"
    }
   ],
   "source": [
    "len(vocab)"
   ]
  },
  {
   "cell_type": "code",
   "execution_count": null,
   "id": "b599505d",
   "metadata": {},
   "outputs": [],
   "source": [
    "torch.save(vocab, \"vocab.pt\")"
   ]
  },
  {
   "cell_type": "code",
   "execution_count": null,
   "id": "f7c9634d",
   "metadata": {},
   "outputs": [
    {
     "name": "stdout",
     "output_type": "stream",
     "text": [
      "{0: 'Bank Accounts and Services', 1: 'Credit Card Services', 2: 'Credit Reporting', 3: 'Debt Collection', 4: 'Loans'}\n"
     ]
    }
   ],
   "source": [
    "category_mapping = {i: label for i, label in enumerate(le.classes_)}\n",
    "print(mapping)"
   ]
  }
 ],
 "metadata": {
  "kernelspec": {
   "display_name": ".venv",
   "language": "python",
   "name": "python3"
  },
  "language_info": {
   "codemirror_mode": {
    "name": "ipython",
    "version": 3
   },
   "file_extension": ".py",
   "mimetype": "text/x-python",
   "name": "python",
   "nbconvert_exporter": "python",
   "pygments_lexer": "ipython3",
   "version": "3.11.12"
  }
 },
 "nbformat": 4,
 "nbformat_minor": 5
}
